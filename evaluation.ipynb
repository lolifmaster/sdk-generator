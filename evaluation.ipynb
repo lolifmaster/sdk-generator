{
 "cells": [
  {
   "cell_type": "code",
   "execution_count": 1,
   "id": "initial_id",
   "metadata": {
    "collapsed": true,
    "ExecuteTime": {
     "end_time": "2024-06-08T22:51:36.868129300Z",
     "start_time": "2024-06-08T22:51:30.573452900Z"
    }
   },
   "outputs": [
    {
     "name": "stdout",
     "output_type": "stream",
     "text": [
      "Database connected successfully. (MongoDB)\n"
     ]
    }
   ],
   "source": [
    "from sdkgenerator.generate import generate_sdk\n",
    "from sdkgenerator.constants import DATA_DIR, GENERATED_SDK_DIR\n",
    "from sdkgenerator.utils import get_code_from_model_response\n",
    "from sdkgenerator.db import db\n",
    "import pandas as pd"
   ]
  },
  {
   "cell_type": "code",
   "outputs": [],
   "source": [
    "TEST_DATA_DIR = DATA_DIR / 'test'\n",
    "TEST_DATA_DIR.mkdir(exist_ok=True)\n",
    "SPECIFICATIONS_DIR = DATA_DIR / 'openapi-specifications'"
   ],
   "metadata": {
    "collapsed": false,
    "ExecuteTime": {
     "end_time": "2024-06-08T22:51:36.879444100Z",
     "start_time": "2024-06-08T22:51:36.870416500Z"
    }
   },
   "id": "6d94c9aa206c8d81",
   "execution_count": 2
  },
  {
   "cell_type": "markdown",
   "source": [
    "## Query testing data"
   ],
   "metadata": {
    "collapsed": false
   },
   "id": "6fec86baf8c94080"
  },
  {
   "cell_type": "code",
   "outputs": [
    {
     "data": {
      "text/plain": "                                  last_response_text         sdk_name\n0  ```python\\nimport requests\\nfrom types import ...           finley\n1  ```python\\nimport json\\nimport requests\\n\\ncla...         affinity\n2  ```python\\nimport requests\\nfrom typing import...           flickr\n3  ```python\\nimport requests\\nimport json\\nfrom ...  adatree_banking\n4  ```python\\nimport requests\\n\\nclass AdatreeCli...     adatree_data",
      "text/html": "<div>\n<style scoped>\n    .dataframe tbody tr th:only-of-type {\n        vertical-align: middle;\n    }\n\n    .dataframe tbody tr th {\n        vertical-align: top;\n    }\n\n    .dataframe thead th {\n        text-align: right;\n    }\n</style>\n<table border=\"1\" class=\"dataframe\">\n  <thead>\n    <tr style=\"text-align: right;\">\n      <th></th>\n      <th>last_response_text</th>\n      <th>sdk_name</th>\n    </tr>\n  </thead>\n  <tbody>\n    <tr>\n      <th>0</th>\n      <td>```python\\nimport requests\\nfrom types import ...</td>\n      <td>finley</td>\n    </tr>\n    <tr>\n      <th>1</th>\n      <td>```python\\nimport json\\nimport requests\\n\\ncla...</td>\n      <td>affinity</td>\n    </tr>\n    <tr>\n      <th>2</th>\n      <td>```python\\nimport requests\\nfrom typing import...</td>\n      <td>flickr</td>\n    </tr>\n    <tr>\n      <th>3</th>\n      <td>```python\\nimport requests\\nimport json\\nfrom ...</td>\n      <td>adatree_banking</td>\n    </tr>\n    <tr>\n      <th>4</th>\n      <td>```python\\nimport requests\\n\\nclass AdatreeCli...</td>\n      <td>adatree_data</td>\n    </tr>\n  </tbody>\n</table>\n</div>"
     },
     "execution_count": 3,
     "metadata": {},
     "output_type": "execute_result"
    }
   ],
   "source": [
    "sdk_code_test_data_pipeline = [\n",
    "        {\"$match\": {\"step\": \"final_code\", \"response.openai.status\": \"success\"}},\n",
    "        {\"$sort\": {\"_id\": 1}},  # Sort by _id to sort by insertion date (I accidentally added multiple final_code for some data)\n",
    "        {\"$group\": {\n",
    "            \"_id\": \"$sdk_name\",\n",
    "            \"last_response_text\": {\"$last\": \"$response.openai.generated_text\"}\n",
    "        }},\n",
    "        {\"$project\": {\n",
    "            \"sdk_name\": \"$_id\",\n",
    "            \"last_response_text\": 1,\n",
    "            \"_id\": 0\n",
    "        }}\n",
    "    ]\n",
    "\n",
    "data = list(db[\"eval\"].aggregate(sdk_code_test_data_pipeline))\n",
    "df_test_data = pd.DataFrame(data)\n",
    "df_test_data.head()"
   ],
   "metadata": {
    "collapsed": false,
    "ExecuteTime": {
     "end_time": "2024-06-08T22:51:37.432759200Z",
     "start_time": "2024-06-08T22:51:36.875929300Z"
    }
   },
   "id": "f29b564e8f729382",
   "execution_count": 3
  },
  {
   "cell_type": "markdown",
   "source": [
    "we need to extract the code from the generated text"
   ],
   "metadata": {
    "collapsed": false
   },
   "id": "5901a64d107defe0"
  },
  {
   "cell_type": "code",
   "outputs": [
    {
     "data": {
      "text/plain": "          sdk_name                                           sdk_code\n0           finley  import requests\\nfrom types import *\\nfrom typ...\n1         affinity  import json\\nimport requests\\n\\nclass Affinity...\n2           flickr  import requests\\nfrom typing import Optional, ...\n3  adatree_banking  import requests\\nimport json\\nfrom typing impo...\n4     adatree_data  import requests\\n\\nclass AdatreeClient:\\n    d...",
      "text/html": "<div>\n<style scoped>\n    .dataframe tbody tr th:only-of-type {\n        vertical-align: middle;\n    }\n\n    .dataframe tbody tr th {\n        vertical-align: top;\n    }\n\n    .dataframe thead th {\n        text-align: right;\n    }\n</style>\n<table border=\"1\" class=\"dataframe\">\n  <thead>\n    <tr style=\"text-align: right;\">\n      <th></th>\n      <th>sdk_name</th>\n      <th>sdk_code</th>\n    </tr>\n  </thead>\n  <tbody>\n    <tr>\n      <th>0</th>\n      <td>finley</td>\n      <td>import requests\\nfrom types import *\\nfrom typ...</td>\n    </tr>\n    <tr>\n      <th>1</th>\n      <td>affinity</td>\n      <td>import json\\nimport requests\\n\\nclass Affinity...</td>\n    </tr>\n    <tr>\n      <th>2</th>\n      <td>flickr</td>\n      <td>import requests\\nfrom typing import Optional, ...</td>\n    </tr>\n    <tr>\n      <th>3</th>\n      <td>adatree_banking</td>\n      <td>import requests\\nimport json\\nfrom typing impo...</td>\n    </tr>\n    <tr>\n      <th>4</th>\n      <td>adatree_data</td>\n      <td>import requests\\n\\nclass AdatreeClient:\\n    d...</td>\n    </tr>\n  </tbody>\n</table>\n</div>"
     },
     "execution_count": 4,
     "metadata": {},
     "output_type": "execute_result"
    }
   ],
   "source": [
    "df_test_data['sdk_code'] = df_test_data['last_response_text'].apply(lambda x: get_code_from_model_response(x)[0])\n",
    "df_test_data = df_test_data.drop(columns=['last_response_text'])\n",
    "df_test_data.head()"
   ],
   "metadata": {
    "collapsed": false,
    "ExecuteTime": {
     "end_time": "2024-06-08T22:51:37.446579200Z",
     "start_time": "2024-06-08T22:51:37.434761500Z"
    }
   },
   "id": "7646d86237e9aec7",
   "execution_count": 4
  },
  {
   "cell_type": "code",
   "outputs": [
    {
     "data": {
      "text/plain": "          sdk_name                                           sdk_code\n0           finley  import requests\\nfrom types import *\\nfrom typ...\n1         affinity  import json\\nimport requests\\n\\nclass Affinity...\n2           flickr  import requests\\nfrom typing import Optional, ...\n3  adatree_banking  import requests\\nimport json\\nfrom typing impo...\n4     adatree_data  import requests\\n\\nclass AdatreeClient:\\n    d...",
      "text/html": "<div>\n<style scoped>\n    .dataframe tbody tr th:only-of-type {\n        vertical-align: middle;\n    }\n\n    .dataframe tbody tr th {\n        vertical-align: top;\n    }\n\n    .dataframe thead th {\n        text-align: right;\n    }\n</style>\n<table border=\"1\" class=\"dataframe\">\n  <thead>\n    <tr style=\"text-align: right;\">\n      <th></th>\n      <th>sdk_name</th>\n      <th>sdk_code</th>\n    </tr>\n  </thead>\n  <tbody>\n    <tr>\n      <th>0</th>\n      <td>finley</td>\n      <td>import requests\\nfrom types import *\\nfrom typ...</td>\n    </tr>\n    <tr>\n      <th>1</th>\n      <td>affinity</td>\n      <td>import json\\nimport requests\\n\\nclass Affinity...</td>\n    </tr>\n    <tr>\n      <th>2</th>\n      <td>flickr</td>\n      <td>import requests\\nfrom typing import Optional, ...</td>\n    </tr>\n    <tr>\n      <th>3</th>\n      <td>adatree_banking</td>\n      <td>import requests\\nimport json\\nfrom typing impo...</td>\n    </tr>\n    <tr>\n      <th>4</th>\n      <td>adatree_data</td>\n      <td>import requests\\n\\nclass AdatreeClient:\\n    d...</td>\n    </tr>\n  </tbody>\n</table>\n</div>"
     },
     "execution_count": 5,
     "metadata": {},
     "output_type": "execute_result"
    }
   ],
   "source": [
    "# remove rows with None\n",
    "df_test_data = df_test_data.dropna()\n",
    "df_test_data.head()"
   ],
   "metadata": {
    "collapsed": false,
    "ExecuteTime": {
     "end_time": "2024-06-08T22:51:37.458343700Z",
     "start_time": "2024-06-08T22:51:37.444569300Z"
    }
   },
   "id": "dd3ba717106ce3a1",
   "execution_count": 5
  },
  {
   "cell_type": "code",
   "outputs": [
    {
     "data": {
      "text/plain": "   sdk_name                                         types_code\n0  finshark  from typing import Literal, TypedDict, Optiona...\n1       dev  from typing import TypedDict, Optional, Litera...\n2   foodkit  from typing import TypedDict, Literal, List\\n\\...\n3  bluesnap  from typing import TypedDict, List, Literal, U...\n4   baseten  from typing import TypedDict, Optional\\n\\nclas...",
      "text/html": "<div>\n<style scoped>\n    .dataframe tbody tr th:only-of-type {\n        vertical-align: middle;\n    }\n\n    .dataframe tbody tr th {\n        vertical-align: top;\n    }\n\n    .dataframe thead th {\n        text-align: right;\n    }\n</style>\n<table border=\"1\" class=\"dataframe\">\n  <thead>\n    <tr style=\"text-align: right;\">\n      <th></th>\n      <th>sdk_name</th>\n      <th>types_code</th>\n    </tr>\n  </thead>\n  <tbody>\n    <tr>\n      <th>0</th>\n      <td>finshark</td>\n      <td>from typing import Literal, TypedDict, Optiona...</td>\n    </tr>\n    <tr>\n      <th>1</th>\n      <td>dev</td>\n      <td>from typing import TypedDict, Optional, Litera...</td>\n    </tr>\n    <tr>\n      <th>2</th>\n      <td>foodkit</td>\n      <td>from typing import TypedDict, Literal, List\\n\\...</td>\n    </tr>\n    <tr>\n      <th>3</th>\n      <td>bluesnap</td>\n      <td>from typing import TypedDict, List, Literal, U...</td>\n    </tr>\n    <tr>\n      <th>4</th>\n      <td>baseten</td>\n      <td>from typing import TypedDict, Optional\\n\\nclas...</td>\n    </tr>\n  </tbody>\n</table>\n</div>"
     },
     "execution_count": 6,
     "metadata": {},
     "output_type": "execute_result"
    }
   ],
   "source": [
    "types_code_test_data_pipeline = [\n",
    "        {\"$match\": {\"step\": \"types\", \"response.openai.status\": \"success\"}},\n",
    "        {\"$sort\": {\"_id\": 1}},  # Sort by _id to sort by insertion date (I accidentally added multiple final_code for some data)\n",
    "        {\"$group\": {\n",
    "            \"_id\": \"$sdk_name\",\n",
    "            \"last_response_text\": {\"$last\": \"$response.openai.generated_text\"}\n",
    "        }},\n",
    "        {\"$project\": {\n",
    "            \"sdk_name\": \"$_id\",\n",
    "            \"last_response_text\": 1,\n",
    "            \"_id\": 0\n",
    "        }}\n",
    "    ]\n",
    "\n",
    "data = list(db[\"eval\"].aggregate(types_code_test_data_pipeline))\n",
    "df_types = pd.DataFrame(data)\n",
    "df_types['types_code'] = df_types['last_response_text'].apply(lambda x: get_code_from_model_response(x)[0])\n",
    "df_types.drop(columns=['last_response_text'], inplace=True)\n",
    "df_types.head()"
   ],
   "metadata": {
    "collapsed": false,
    "ExecuteTime": {
     "end_time": "2024-06-08T22:51:37.618683200Z",
     "start_time": "2024-06-08T22:51:37.452334Z"
    }
   },
   "id": "45a5be428e358619",
   "execution_count": 6
  },
  {
   "cell_type": "code",
   "outputs": [
    {
     "data": {
      "text/plain": "          sdk_name                                           sdk_code  \\\n0           finley  import requests\\nfrom types import *\\nfrom typ...   \n1         affinity  import json\\nimport requests\\n\\nclass Affinity...   \n2           flickr  import requests\\nfrom typing import Optional, ...   \n3  adatree_banking  import requests\\nimport json\\nfrom typing impo...   \n4     adatree_data  import requests\\n\\nclass AdatreeClient:\\n    d...   \n\n                                          types_code  \n0  from typing import TypedDict, Optional\\n\\nclas...  \n1                                                     \n2                                                     \n3                                                     \n4  from typing import TypedDict, List, Literal, O...  ",
      "text/html": "<div>\n<style scoped>\n    .dataframe tbody tr th:only-of-type {\n        vertical-align: middle;\n    }\n\n    .dataframe tbody tr th {\n        vertical-align: top;\n    }\n\n    .dataframe thead th {\n        text-align: right;\n    }\n</style>\n<table border=\"1\" class=\"dataframe\">\n  <thead>\n    <tr style=\"text-align: right;\">\n      <th></th>\n      <th>sdk_name</th>\n      <th>sdk_code</th>\n      <th>types_code</th>\n    </tr>\n  </thead>\n  <tbody>\n    <tr>\n      <th>0</th>\n      <td>finley</td>\n      <td>import requests\\nfrom types import *\\nfrom typ...</td>\n      <td>from typing import TypedDict, Optional\\n\\nclas...</td>\n    </tr>\n    <tr>\n      <th>1</th>\n      <td>affinity</td>\n      <td>import json\\nimport requests\\n\\nclass Affinity...</td>\n      <td></td>\n    </tr>\n    <tr>\n      <th>2</th>\n      <td>flickr</td>\n      <td>import requests\\nfrom typing import Optional, ...</td>\n      <td></td>\n    </tr>\n    <tr>\n      <th>3</th>\n      <td>adatree_banking</td>\n      <td>import requests\\nimport json\\nfrom typing impo...</td>\n      <td></td>\n    </tr>\n    <tr>\n      <th>4</th>\n      <td>adatree_data</td>\n      <td>import requests\\n\\nclass AdatreeClient:\\n    d...</td>\n      <td>from typing import TypedDict, List, Literal, O...</td>\n    </tr>\n  </tbody>\n</table>\n</div>"
     },
     "execution_count": 7,
     "metadata": {},
     "output_type": "execute_result"
    }
   ],
   "source": [
    "# merge the two dataframes if sdk has no types set types_code to empty string\n",
    "df_test_data = df_test_data.merge(df_types, on='sdk_name', how='left')\n",
    "df_test_data.fillna('', inplace=True)\n",
    "\n",
    "\n",
    "df_test_data.head()"
   ],
   "metadata": {
    "collapsed": false,
    "ExecuteTime": {
     "end_time": "2024-06-08T22:51:37.652391700Z",
     "start_time": "2024-06-08T22:51:37.545203Z"
    }
   },
   "id": "f4c9127a3298900f",
   "execution_count": 7
  },
  {
   "cell_type": "code",
   "outputs": [],
   "source": [
    "def merge_code(sdk_code: str, types_code: str) -> str:\n",
    "    if types_code:\n",
    "        return types_code + '\\n' + '-'*10 + '\\n' + sdk_code\n",
    "    return sdk_code"
   ],
   "metadata": {
    "collapsed": false,
    "ExecuteTime": {
     "end_time": "2024-06-08T22:51:37.653391400Z",
     "start_time": "2024-06-08T22:51:37.553471200Z"
    }
   },
   "id": "3c2f14c6c8cd07d9",
   "execution_count": 8
  },
  {
   "cell_type": "code",
   "outputs": [
    {
     "data": {
      "text/plain": "          sdk_name                                           sdk_code  \\\n0           finley  import requests\\nfrom types import *\\nfrom typ...   \n1         affinity  import json\\nimport requests\\n\\nclass Affinity...   \n2           flickr  import requests\\nfrom typing import Optional, ...   \n3  adatree_banking  import requests\\nimport json\\nfrom typing impo...   \n4     adatree_data  import requests\\n\\nclass AdatreeClient:\\n    d...   \n\n                                          types_code  \\\n0  from typing import TypedDict, Optional\\n\\nclas...   \n1                                                      \n2                                                      \n3                                                      \n4  from typing import TypedDict, List, Literal, O...   \n\n                                              answer  \n0  from typing import TypedDict, Optional\\n\\nclas...  \n1  import json\\nimport requests\\n\\nclass Affinity...  \n2  import requests\\nfrom typing import Optional, ...  \n3  import requests\\nimport json\\nfrom typing impo...  \n4  from typing import TypedDict, List, Literal, O...  ",
      "text/html": "<div>\n<style scoped>\n    .dataframe tbody tr th:only-of-type {\n        vertical-align: middle;\n    }\n\n    .dataframe tbody tr th {\n        vertical-align: top;\n    }\n\n    .dataframe thead th {\n        text-align: right;\n    }\n</style>\n<table border=\"1\" class=\"dataframe\">\n  <thead>\n    <tr style=\"text-align: right;\">\n      <th></th>\n      <th>sdk_name</th>\n      <th>sdk_code</th>\n      <th>types_code</th>\n      <th>answer</th>\n    </tr>\n  </thead>\n  <tbody>\n    <tr>\n      <th>0</th>\n      <td>finley</td>\n      <td>import requests\\nfrom types import *\\nfrom typ...</td>\n      <td>from typing import TypedDict, Optional\\n\\nclas...</td>\n      <td>from typing import TypedDict, Optional\\n\\nclas...</td>\n    </tr>\n    <tr>\n      <th>1</th>\n      <td>affinity</td>\n      <td>import json\\nimport requests\\n\\nclass Affinity...</td>\n      <td></td>\n      <td>import json\\nimport requests\\n\\nclass Affinity...</td>\n    </tr>\n    <tr>\n      <th>2</th>\n      <td>flickr</td>\n      <td>import requests\\nfrom typing import Optional, ...</td>\n      <td></td>\n      <td>import requests\\nfrom typing import Optional, ...</td>\n    </tr>\n    <tr>\n      <th>3</th>\n      <td>adatree_banking</td>\n      <td>import requests\\nimport json\\nfrom typing impo...</td>\n      <td></td>\n      <td>import requests\\nimport json\\nfrom typing impo...</td>\n    </tr>\n    <tr>\n      <th>4</th>\n      <td>adatree_data</td>\n      <td>import requests\\n\\nclass AdatreeClient:\\n    d...</td>\n      <td>from typing import TypedDict, List, Literal, O...</td>\n      <td>from typing import TypedDict, List, Literal, O...</td>\n    </tr>\n  </tbody>\n</table>\n</div>"
     },
     "execution_count": 9,
     "metadata": {},
     "output_type": "execute_result"
    }
   ],
   "source": [
    "#answer is sdk_code + types_code\n",
    "df_test_data['answer'] = df_test_data.apply(lambda x: merge_code(x['sdk_code'], x['types_code']), axis=1)\n",
    "\n",
    "df_test_data.head()"
   ],
   "metadata": {
    "collapsed": false,
    "ExecuteTime": {
     "end_time": "2024-06-08T22:51:37.688449300Z",
     "start_time": "2024-06-08T22:51:37.555981400Z"
    }
   },
   "id": "6386d0bf33af73fc",
   "execution_count": 9
  },
  {
   "cell_type": "markdown",
   "source": [
    "now we get the generated code for each sdk"
   ],
   "metadata": {
    "collapsed": false
   },
   "id": "23835ebf514569a6"
  },
  {
   "cell_type": "code",
   "outputs": [
    {
     "data": {
      "text/plain": "          sdk_name                                             answer\n0           finley  from typing import TypedDict, Optional\\n\\nclas...\n1         affinity  import json\\nimport requests\\n\\nclass Affinity...\n2           flickr  import requests\\nfrom typing import Optional, ...\n3  adatree_banking  import requests\\nimport json\\nfrom typing impo...\n4     adatree_data  from typing import TypedDict, List, Literal, O...",
      "text/html": "<div>\n<style scoped>\n    .dataframe tbody tr th:only-of-type {\n        vertical-align: middle;\n    }\n\n    .dataframe tbody tr th {\n        vertical-align: top;\n    }\n\n    .dataframe thead th {\n        text-align: right;\n    }\n</style>\n<table border=\"1\" class=\"dataframe\">\n  <thead>\n    <tr style=\"text-align: right;\">\n      <th></th>\n      <th>sdk_name</th>\n      <th>answer</th>\n    </tr>\n  </thead>\n  <tbody>\n    <tr>\n      <th>0</th>\n      <td>finley</td>\n      <td>from typing import TypedDict, Optional\\n\\nclas...</td>\n    </tr>\n    <tr>\n      <th>1</th>\n      <td>affinity</td>\n      <td>import json\\nimport requests\\n\\nclass Affinity...</td>\n    </tr>\n    <tr>\n      <th>2</th>\n      <td>flickr</td>\n      <td>import requests\\nfrom typing import Optional, ...</td>\n    </tr>\n    <tr>\n      <th>3</th>\n      <td>adatree_banking</td>\n      <td>import requests\\nimport json\\nfrom typing impo...</td>\n    </tr>\n    <tr>\n      <th>4</th>\n      <td>adatree_data</td>\n      <td>from typing import TypedDict, List, Literal, O...</td>\n    </tr>\n  </tbody>\n</table>\n</div>"
     },
     "execution_count": 10,
     "metadata": {},
     "output_type": "execute_result"
    }
   ],
   "source": [
    "df_test_data.drop(columns=['sdk_code', 'types_code'], inplace=True)\n",
    "df_test_data.head()"
   ],
   "metadata": {
    "collapsed": false,
    "ExecuteTime": {
     "end_time": "2024-06-08T22:51:37.690656500Z",
     "start_time": "2024-06-08T22:51:37.573557600Z"
    }
   },
   "id": "ef2fbab8152a1e01",
   "execution_count": 10
  },
  {
   "cell_type": "code",
   "outputs": [],
   "source": [
    "# fine_tuned_responses_pipeline = [\n",
    "#     {\n",
    "#         \"$match\": {\n",
    "#             \"payload.model\": \"ft:gpt-3.5-turbo-0125:eden-ai::9UxoYDO3\",\n",
    "#             \"step\": \"final_code\",\n",
    "#             \"response.choices\": {\n",
    "#                 \"$size\": 1\n",
    "#             },\n",
    "#             \"response.choices.0.finish_reason\": \"stop\"\n",
    "#         }\n",
    "#     },\n",
    "#     {\n",
    "#         \"$sort\": {\n",
    "#             \"_id\": 1 \n",
    "#         }\n",
    "#     },\n",
    "#     {\n",
    "#         \"$group\": {\n",
    "#             \"_id\": \"$sdk_name\",\n",
    "#             \"last_document\": { \"$last\": \"$$ROOT\" } \n",
    "#         }\n",
    "#     },\n",
    "#     {\n",
    "#         \"$replaceRoot\": { \"newRoot\": \"$last_document\" }\n",
    "#     },\n",
    "#     {\n",
    "#         \"$project\": {\n",
    "#             \"_id\": 0, \n",
    "#             \"sdk_name\": 1,\n",
    "#             \"last_response_text\": { \"$arrayElemAt\": [\"$response.choices.message.content\", 0] }\n",
    "#         }\n",
    "#     }\n",
    "# ]\n",
    "# fine_tuned_responses = list(db['responses'].aggregate(fine_tuned_responses_pipeline))\n",
    "# \n",
    "# fine_tuned_responses = pd.DataFrame(fine_tuned_responses)\n",
    "# fine_tuned_responses"
   ],
   "metadata": {
    "collapsed": false,
    "ExecuteTime": {
     "end_time": "2024-06-08T22:51:37.691654500Z",
     "start_time": "2024-06-08T22:51:37.578068300Z"
    }
   },
   "id": "5f24853b083ca948",
   "execution_count": 11
  },
  {
   "cell_type": "code",
   "outputs": [],
   "source": [
    "user_rules = \"1. Use the requests library: All HTTP requests within the SDK must be made using the 'requests' library.\\n2. Class structure: The SDK must be a class, with each method representing an endpoint in the API. Choose method names that reflect the action or resource they interact with.\\n3. Authenticated requests: Implement a method '_make_authenticated_request' to handle authenticated requests.\\n4. JSON request body: Use JSON format for the body of all requests.\\n5. Return type: All methods must return the 'Response' object from the 'requests' library.\"\n",
    "\n",
    "def get_generated_code(sdk_name):\n",
    "    try:\n",
    "        sdk_name_path = GENERATED_SDK_DIR / sdk_name / f\"{sdk_name}.py\"\n",
    "        types_code_path = GENERATED_SDK_DIR / sdk_name / f\"types.py\"\n",
    "        sdk_code = sdk_name_path.read_text()\n",
    "        types_code = types_code_path.read_text() if types_code_path.exists() else \"\"\n",
    "        return merge_code(sdk_code, types_code)\n",
    "    except FileNotFoundError:\n",
    "        print(f\"Generating SDK for {sdk_name}\")\n",
    "        spec_path = None\n",
    "        for file in SPECIFICATIONS_DIR.iterdir():\n",
    "            if sdk_name in file.name:\n",
    "                spec_path = file\n",
    "                break\n",
    "        if spec_path is None:\n",
    "            raise Exception(f\"Specification file for {sdk_name} not found\")\n",
    "        try:\n",
    "            _, sdk_output_file, types_output_file = generate_sdk(spec_path, user_rules=user_rules)\n",
    "        except Exception as e:\n",
    "            print(f\"Error generating SDK for {sdk_name}: {e}\")\n",
    "            return None\n",
    "        if sdk_output_file is None:\n",
    "            return None\n",
    "        sdk_code = sdk_output_file.read_text()\n",
    "        types_code = types_output_file.read_text() if types_output_file else \"\"\n",
    "        \n",
    "        return merge_code(sdk_code, types_code)\n",
    "\n",
    "df_test_data['llm_answer'] = df_test_data['sdk_name'].apply(get_generated_code)"
   ],
   "metadata": {
    "collapsed": false,
    "ExecuteTime": {
     "end_time": "2024-06-08T22:51:37.692654700Z",
     "start_time": "2024-06-08T22:51:37.585604800Z"
    }
   },
   "id": "cf6457ed2884b2a3",
   "execution_count": 12
  },
  {
   "cell_type": "code",
   "outputs": [
    {
     "data": {
      "text/plain": "          sdk_name                                             answer  \\\n0           finley  from typing import TypedDict, Optional\\n\\nclas...   \n1         affinity  import json\\nimport requests\\n\\nclass Affinity...   \n2           flickr  import requests\\nfrom typing import Optional, ...   \n3  adatree_banking  import requests\\nimport json\\nfrom typing impo...   \n4     adatree_data  from typing import TypedDict, List, Literal, O...   \n\n                                          llm_answer  \n0  from typing import TypedDict, Optional\\n\\n\\ncl...  \n1  import requests\\n\\n\\nclass AffinityClient:\\n  ...  \n2  import requests\\nfrom typing import Optional, ...  \n3  import requests\\nimport json\\nfrom typing impo...  \n4  from typing import TypedDict, List, Literal\\n\\...  ",
      "text/html": "<div>\n<style scoped>\n    .dataframe tbody tr th:only-of-type {\n        vertical-align: middle;\n    }\n\n    .dataframe tbody tr th {\n        vertical-align: top;\n    }\n\n    .dataframe thead th {\n        text-align: right;\n    }\n</style>\n<table border=\"1\" class=\"dataframe\">\n  <thead>\n    <tr style=\"text-align: right;\">\n      <th></th>\n      <th>sdk_name</th>\n      <th>answer</th>\n      <th>llm_answer</th>\n    </tr>\n  </thead>\n  <tbody>\n    <tr>\n      <th>0</th>\n      <td>finley</td>\n      <td>from typing import TypedDict, Optional\\n\\nclas...</td>\n      <td>from typing import TypedDict, Optional\\n\\n\\ncl...</td>\n    </tr>\n    <tr>\n      <th>1</th>\n      <td>affinity</td>\n      <td>import json\\nimport requests\\n\\nclass Affinity...</td>\n      <td>import requests\\n\\n\\nclass AffinityClient:\\n  ...</td>\n    </tr>\n    <tr>\n      <th>2</th>\n      <td>flickr</td>\n      <td>import requests\\nfrom typing import Optional, ...</td>\n      <td>import requests\\nfrom typing import Optional, ...</td>\n    </tr>\n    <tr>\n      <th>3</th>\n      <td>adatree_banking</td>\n      <td>import requests\\nimport json\\nfrom typing impo...</td>\n      <td>import requests\\nimport json\\nfrom typing impo...</td>\n    </tr>\n    <tr>\n      <th>4</th>\n      <td>adatree_data</td>\n      <td>from typing import TypedDict, List, Literal, O...</td>\n      <td>from typing import TypedDict, List, Literal\\n\\...</td>\n    </tr>\n  </tbody>\n</table>\n</div>"
     },
     "execution_count": 13,
     "metadata": {},
     "output_type": "execute_result"
    }
   ],
   "source": [
    "df_test_data.head()"
   ],
   "metadata": {
    "collapsed": false,
    "ExecuteTime": {
     "end_time": "2024-06-08T22:51:37.709736Z",
     "start_time": "2024-06-08T22:51:37.594118700Z"
    }
   },
   "id": "8e2bb41f05c003b",
   "execution_count": 13
  },
  {
   "cell_type": "markdown",
   "source": [
    "# Evaluation"
   ],
   "metadata": {
    "collapsed": false
   },
   "id": "287c3c8a07329119"
  },
  {
   "cell_type": "code",
   "outputs": [],
   "source": [
    "from nltk.translate.bleu_score import corpus_bleu\n",
    "from rouge_score import rouge_scorer\n",
    "from codebleu import calc_codebleu\n",
    "from sdkgenerator.types import Language\n",
    "from sdkgenerator.config import AGENT"
   ],
   "metadata": {
    "collapsed": false,
    "ExecuteTime": {
     "end_time": "2024-06-08T22:51:38.003770600Z",
     "start_time": "2024-06-08T22:51:37.604155100Z"
    }
   },
   "id": "d924a95e085e1713",
   "execution_count": 14
  },
  {
   "cell_type": "markdown",
   "source": [
    "## BLEU Score"
   ],
   "metadata": {
    "collapsed": false
   },
   "id": "3863e6c73155fc7f"
  },
  {
   "cell_type": "code",
   "outputs": [],
   "source": [
    "def calculate_bleu_score(machine_results, reference_texts):\n",
    "    return corpus_bleu([[ref.split()] for ref in reference_texts], [gen.split() for gen in machine_results])"
   ],
   "metadata": {
    "collapsed": false,
    "ExecuteTime": {
     "end_time": "2024-06-08T22:51:38.004771800Z",
     "start_time": "2024-06-08T22:51:37.843113600Z"
    }
   },
   "id": "138492168b20ba8b",
   "execution_count": 15
  },
  {
   "cell_type": "code",
   "outputs": [
    {
     "data": {
      "text/plain": "0.6635992832130831"
     },
     "execution_count": 16,
     "metadata": {},
     "output_type": "execute_result"
    }
   ],
   "source": [
    "bleu_score = calculate_bleu_score(df_test_data['llm_answer'], df_test_data['answer'])\n",
    "bleu_score"
   ],
   "metadata": {
    "collapsed": false,
    "ExecuteTime": {
     "end_time": "2024-06-08T22:51:38.006908900Z",
     "start_time": "2024-06-08T22:51:37.846627600Z"
    }
   },
   "id": "1a473308fcb5db5b",
   "execution_count": 16
  },
  {
   "cell_type": "markdown",
   "source": [
    "## ROUGE Score"
   ],
   "metadata": {
    "collapsed": false
   },
   "id": "dddcc317e444950e"
  },
  {
   "cell_type": "code",
   "outputs": [],
   "source": [
    "def calculate_rouge_score(machine_results, reference_texts):\n",
    "    scorer = rouge_scorer.RougeScorer(['rouge1', 'rouge2', 'rougeL'], use_stemmer=True)\n",
    "    scores = [scorer.score(ref, gen) for ref, gen in zip(reference_texts, machine_results)]\n",
    "    rouge1 = sum(score['rouge1'].fmeasure for score in scores) / len(scores)\n",
    "    rouge2 = sum(score['rouge2'].fmeasure for score in scores) / len(scores)\n",
    "    rougeL = sum(score['rougeL'].fmeasure for score in scores) / len(scores)\n",
    "    return {'rouge1': rouge1, 'rouge2': rouge2, 'rougeL': rougeL}"
   ],
   "metadata": {
    "collapsed": false,
    "ExecuteTime": {
     "end_time": "2024-06-08T22:51:38.024071900Z",
     "start_time": "2024-06-08T22:51:37.873159600Z"
    }
   },
   "id": "5653f99e21db46e6",
   "execution_count": 17
  },
  {
   "cell_type": "code",
   "outputs": [
    {
     "data": {
      "text/plain": "{'rouge1': 0.9136068363494741,\n 'rouge2': 0.8757805708282291,\n 'rougeL': 0.8912410022746833}"
     },
     "execution_count": 18,
     "metadata": {},
     "output_type": "execute_result"
    }
   ],
   "source": [
    "rouge_score = calculate_rouge_score(df_test_data['llm_answer'], df_test_data['answer'])\n",
    "rouge_score"
   ],
   "metadata": {
    "collapsed": false,
    "ExecuteTime": {
     "end_time": "2024-06-08T22:51:40.443018700Z",
     "start_time": "2024-06-08T22:51:37.876168200Z"
    }
   },
   "id": "d76f9fef4515a6a5",
   "execution_count": 18
  },
  {
   "cell_type": "markdown",
   "source": [
    "## BERT Score"
   ],
   "metadata": {
    "collapsed": false
   },
   "id": "63087238087db567"
  },
  {
   "cell_type": "code",
   "outputs": [],
   "source": [
    "def calculate_bert_score(machine_results, reference_texts):\n",
    "    pass"
   ],
   "metadata": {
    "collapsed": false,
    "ExecuteTime": {
     "end_time": "2024-06-08T22:51:40.444430800Z",
     "start_time": "2024-06-08T22:51:40.441992Z"
    }
   },
   "id": "23a601db9b700276",
   "execution_count": 19
  },
  {
   "cell_type": "code",
   "outputs": [],
   "source": [
    "def calculate_code_bleu(machine_results, reference_texts, lang:Language):\n",
    "    return calc_codebleu(reference_texts, machine_results, lang=lang)"
   ],
   "metadata": {
    "collapsed": false,
    "ExecuteTime": {
     "end_time": "2024-06-08T22:51:40.459864400Z",
     "start_time": "2024-06-08T22:51:40.444430800Z"
    }
   },
   "id": "2c7f6d4a414c48af",
   "execution_count": 20
  },
  {
   "cell_type": "code",
   "outputs": [
    {
     "data": {
      "text/plain": "{'codebleu': 0.8064848664586155,\n 'ngram_match_score': 0.6635992832130831,\n 'weighted_ngram_match_score': 0.7451228049346935,\n 'syntax_match_score': 0.9556060032791021,\n 'dataflow_match_score': 0.861611374407583}"
     },
     "execution_count": 21,
     "metadata": {},
     "output_type": "execute_result"
    }
   ],
   "source": [
    "code_bleu_score = calculate_code_bleu(df_test_data['llm_answer'], df_test_data['answer'], 'python')\n",
    "code_bleu_score"
   ],
   "metadata": {
    "collapsed": false,
    "ExecuteTime": {
     "end_time": "2024-06-08T22:51:40.977690500Z",
     "start_time": "2024-06-08T22:51:40.459864400Z"
    }
   },
   "id": "d5171f72812ef0f4",
   "execution_count": 21
  },
  {
   "cell_type": "code",
   "outputs": [
    {
     "data": {
      "text/plain": "                                             bleu    rouge1    rouge2  \\\nft:gpt-3.5-turbo-0125:eden-ai::9UxoYDO3  0.663599  0.913607  0.875781   \n\n                                           rougeL  codebleu  \\\nft:gpt-3.5-turbo-0125:eden-ai::9UxoYDO3  0.891241  0.806485   \n\n                                         ngram_match_score  \\\nft:gpt-3.5-turbo-0125:eden-ai::9UxoYDO3           0.663599   \n\n                                         weighted_ngram_match_score  \\\nft:gpt-3.5-turbo-0125:eden-ai::9UxoYDO3                    0.745123   \n\n                                         syntax_match_score  \\\nft:gpt-3.5-turbo-0125:eden-ai::9UxoYDO3            0.955606   \n\n                                         dataflow_match_score  \nft:gpt-3.5-turbo-0125:eden-ai::9UxoYDO3              0.861611  ",
      "text/html": "<div>\n<style scoped>\n    .dataframe tbody tr th:only-of-type {\n        vertical-align: middle;\n    }\n\n    .dataframe tbody tr th {\n        vertical-align: top;\n    }\n\n    .dataframe thead th {\n        text-align: right;\n    }\n</style>\n<table border=\"1\" class=\"dataframe\">\n  <thead>\n    <tr style=\"text-align: right;\">\n      <th></th>\n      <th>bleu</th>\n      <th>rouge1</th>\n      <th>rouge2</th>\n      <th>rougeL</th>\n      <th>codebleu</th>\n      <th>ngram_match_score</th>\n      <th>weighted_ngram_match_score</th>\n      <th>syntax_match_score</th>\n      <th>dataflow_match_score</th>\n    </tr>\n  </thead>\n  <tbody>\n    <tr>\n      <th>ft:gpt-3.5-turbo-0125:eden-ai::9UxoYDO3</th>\n      <td>0.663599</td>\n      <td>0.913607</td>\n      <td>0.875781</td>\n      <td>0.891241</td>\n      <td>0.806485</td>\n      <td>0.663599</td>\n      <td>0.745123</td>\n      <td>0.955606</td>\n      <td>0.861611</td>\n    </tr>\n  </tbody>\n</table>\n</div>"
     },
     "execution_count": 22,
     "metadata": {},
     "output_type": "execute_result"
    }
   ],
   "source": [
    "all_scores = {'bleu': bleu_score, **rouge_score, **code_bleu_score}\n",
    "evaluation = pd.DataFrame(all_scores, index=[AGENT['final_code']['model']])\n",
    "evaluation"
   ],
   "metadata": {
    "collapsed": false,
    "ExecuteTime": {
     "end_time": "2024-06-08T22:51:40.990476900Z",
     "start_time": "2024-06-08T22:51:40.975692800Z"
    }
   },
   "id": "79818825dcf7a472",
   "execution_count": 22
  },
  {
   "cell_type": "markdown",
   "source": [
    "# Save evaluation"
   ],
   "metadata": {
    "collapsed": false
   },
   "id": "fda3f14a72de1d0c"
  },
  {
   "cell_type": "code",
   "outputs": [],
   "source": [
    "evaluation.to_csv(TEST_DATA_DIR / 'evaluation.csv', index=False)"
   ],
   "metadata": {
    "collapsed": false,
    "ExecuteTime": {
     "end_time": "2024-06-08T22:51:41.001382100Z",
     "start_time": "2024-06-08T22:51:40.986956200Z"
    }
   },
   "id": "ea8c30bd689fa198",
   "execution_count": 23
  },
  {
   "cell_type": "markdown",
   "source": [
    "# Human Evaluation"
   ],
   "metadata": {
    "collapsed": false
   },
   "id": "e204a4f70449f47b"
  },
  {
   "cell_type": "markdown",
   "source": [
    "Let's compare the generated code with the answer and see if it is correct"
   ],
   "metadata": {
    "collapsed": false
   },
   "id": "60d0149726cc9530"
  },
  {
   "cell_type": "code",
   "outputs": [],
   "source": [
    "from pprint import pprint"
   ],
   "metadata": {
    "collapsed": false,
    "ExecuteTime": {
     "end_time": "2024-06-08T22:53:45.351391100Z",
     "start_time": "2024-06-08T22:53:45.345993600Z"
    }
   },
   "id": "e773487b603fa04f",
   "execution_count": 29
  },
  {
   "cell_type": "code",
   "outputs": [
    {
     "data": {
      "text/plain": "array(['finley', 'affinity', 'flickr', 'adatree_banking', 'adatree_data',\n       'foodkit', '1-password_connect', 'apaleo', 'bluesnap', 'milefy',\n       'baseten', '2-c-2-p', 'adatree_consent', 'bity'], dtype=object)"
     },
     "execution_count": 33,
     "metadata": {},
     "output_type": "execute_result"
    }
   ],
   "source": [
    "df_test_data['sdk_name'].values"
   ],
   "metadata": {
    "collapsed": false,
    "ExecuteTime": {
     "end_time": "2024-06-08T22:54:12.680699900Z",
     "start_time": "2024-06-08T22:54:12.675679600Z"
    }
   },
   "id": "3b6b37662244159d",
   "execution_count": 33
  },
  {
   "cell_type": "code",
   "outputs": [],
   "source": [
    "current_sdk_name = 'affinity'\n",
    "generated_code = get_generated_code(current_sdk_name)\n",
    "answer = df_test_data[df_test_data['sdk_name'] == current_sdk_name]['answer'].values[0]"
   ],
   "metadata": {
    "collapsed": false,
    "ExecuteTime": {
     "end_time": "2024-06-08T22:54:50.274492900Z",
     "start_time": "2024-06-08T22:54:50.262847Z"
    }
   },
   "id": "a5382a506a25724",
   "execution_count": 35
  },
  {
   "cell_type": "code",
   "outputs": [
    {
     "name": "stdout",
     "output_type": "stream",
     "text": [
      "('import requests\\n'\n",
      " '\\n'\n",
      " '\\n'\n",
      " 'class AffinityClient:\\n'\n",
      " '    def __init__(self, api_key):\\n'\n",
      " '        self.api_key = api_key\\n'\n",
      " '        self.base_url = \"https://api.affinity.co\"\\n'\n",
      " '\\n'\n",
      " '    def _make_authenticated_request(self, method, url, **kwargs):\\n'\n",
      " '        headers = {\\n'\n",
      " '            \"Authorization\": f\"Bearer {self.api_key}\",\\n'\n",
      " '            \"Content-Type\": \"application/json\",\\n'\n",
      " '        }\\n'\n",
      " '        response = requests.request(method, url, headers=headers, **kwargs)\\n'\n",
      " '        if response.status_code != 200:\\n'\n",
      " '            raise Exception(f\"Request failed with status code '\n",
      " '{response.status_code}\")\\n'\n",
      " '        return response\\n'\n",
      " '\\n'\n",
      " '    def get_current_user(self):\\n'\n",
      " '        \"\"\"Retrieve the current user\\'s information.\"\"\"\\n'\n",
      " '        url = f\"{self.base_url}/v2/auth/whoami\"\\n'\n",
      " '        return self._make_authenticated_request(\"GET\", url)\\n'\n",
      " '\\n'\n",
      " '    def get_all_companies(self, query_params=None):\\n'\n",
      " '        \"\"\"Retrieve all companies with optional query parameters.\"\"\"\\n'\n",
      " '        url = f\"{self.base_url}/v2/companies\"\\n'\n",
      " '        return self._make_authenticated_request(\"GET\", url, '\n",
      " 'params=query_params)\\n'\n",
      " '\\n'\n",
      " '    def get_company_fields_metadata(self, query_params=None):\\n'\n",
      " '        \"\"\"Retrieve metadata on company fields.\"\"\"\\n'\n",
      " '        url = f\"{self.base_url}/v2/companies/fields\"\\n'\n",
      " '        return self._make_authenticated_request(\"GET\", url, '\n",
      " 'params=query_params)\\n'\n",
      " '\\n'\n",
      " '    def get_single_company(self, company_id, query_params=None):\\n'\n",
      " '        \"\"\"Retrieve a single company by ID.\"\"\"\\n'\n",
      " '        url = f\"{self.base_url}/v2/companies/{company_id}\"\\n'\n",
      " '        return self._make_authenticated_request(\"GET\", url, '\n",
      " 'params=query_params)\\n'\n",
      " '\\n'\n",
      " '    def get_companies_lists_metadata(self, company_id, query_params=None):\\n'\n",
      " '        \"\"\"Retrieve metadata on a company\\'s lists.\"\"\"\\n'\n",
      " '        url = f\"{self.base_url}/v2/companies/{company_id}/lists\"\\n'\n",
      " '        return self._make_authenticated_request(\"GET\", url, '\n",
      " 'params=query_params)\\n'\n",
      " '\\n'\n",
      " '    def get_companies_list_entries(self, company_id, query_params=None):\\n'\n",
      " '        \"\"\"Retrieve a company\\'s list entries.\"\"\"\\n'\n",
      " '        url = f\"{self.base_url}/v2/companies/{company_id}/list-entries\"\\n'\n",
      " '        return self._make_authenticated_request(\"GET\", url, '\n",
      " 'params=query_params)\\n'\n",
      " '\\n'\n",
      " '    def get_all_lists_metadata(self, query_params=None):\\n'\n",
      " '        \"\"\"Retrieve metadata on all lists.\"\"\"\\n'\n",
      " '        url = f\"{self.base_url}/v2/lists\"\\n'\n",
      " '        return self._make_authenticated_request(\"GET\", url, '\n",
      " 'params=query_params)\\n'\n",
      " '\\n'\n",
      " '    def get_all_list_entries(self, list_id, query_params=None):\\n'\n",
      " '        \"\"\"Retrieve all list entries for a specific list.\"\"\"\\n'\n",
      " '        url = f\"{self.base_url}/v2/lists/{list_id}/list-entries\"\\n'\n",
      " '        return self._make_authenticated_request(\"GET\", url, '\n",
      " 'params=query_params)\\n'\n",
      " '\\n'\n",
      " '    def get_metadata_single(self, list_id):\\n'\n",
      " '        \"\"\"Retrieve metadata for a single list.\"\"\"\\n'\n",
      " '        url = f\"{self.base_url}/v2/lists/{list_id}\"\\n'\n",
      " '        return self._make_authenticated_request(\"GET\", url)\\n'\n",
      " '\\n'\n",
      " '    def get_lists_field_metadata(self, list_id, query_params=None):\\n'\n",
      " '        \"\"\"Retrieve metadata on a single list\\'s fields.\"\"\"\\n'\n",
      " '        url = f\"{self.base_url}/v2/lists/{list_id}/fields\"\\n'\n",
      " '        return self._make_authenticated_request(\"GET\", url, '\n",
      " 'params=query_params)\\n'\n",
      " '\\n'\n",
      " '    def get_saved_views_metadata(self, list_id, query_params=None):\\n'\n",
      " '        \"\"\"Retrieve metadata on saved views for a list.\"\"\"\\n'\n",
      " '        url = f\"{self.base_url}/v2/lists/{list_id}/saved-views\"\\n'\n",
      " '        return self._make_authenticated_request(\"GET\", url, '\n",
      " 'params=query_params)\\n'\n",
      " '\\n'\n",
      " '    def get_saved_view_list_entries(self, list_id, view_id, '\n",
      " 'query_params=None):\\n'\n",
      " '        \"\"\"Retrieve all list entries for a specific saved view.\"\"\"\\n'\n",
      " '        url = '\n",
      " 'f\"{self.base_url}/v2/lists/{list_id}/saved-views/{view_id}/list-entries\"\\n'\n",
      " '        return self._make_authenticated_request(\"GET\", url, '\n",
      " 'params=query_params)\\n'\n",
      " '\\n'\n",
      " '    def get_saved_view_metadata(self, list_id, view_id):\\n'\n",
      " '        \"\"\"Retrieve metadata for a single saved view.\"\"\"\\n'\n",
      " '        url = f\"{self.base_url}/v2/lists/{list_id}/saved-views/{view_id}\"\\n'\n",
      " '        return self._make_authenticated_request(\"GET\", url)\\n'\n",
      " '\\n'\n",
      " '    def get_all_opportunities(self, query_params=None):\\n'\n",
      " '        \"\"\"Retrieve all opportunities with optional query parameters.\"\"\"\\n'\n",
      " '        url = f\"{self.base_url}/v2/opportunities\"\\n'\n",
      " '        return self._make_authenticated_request(\"GET\", url, '\n",
      " 'params=query_params)\\n'\n",
      " '\\n'\n",
      " '    def get_opportunity_basic_info(self, opportunity_id):\\n'\n",
      " '        \"\"\"Retrieve basic information for a single opportunity.\"\"\"\\n'\n",
      " '        url = f\"{self.base_url}/v2/opportunities/{opportunity_id}\"\\n'\n",
      " '        return self._make_authenticated_request(\"GET\", url)\\n'\n",
      " '\\n'\n",
      " '    def get_all_persons(self, query_params=None):\\n'\n",
      " '        \"\"\"Retrieve all persons with optional query parameters.\"\"\"\\n'\n",
      " '        url = f\"{self.base_url}/v2/persons\"\\n'\n",
      " '        return self._make_authenticated_request(\"GET\", url, '\n",
      " 'params=query_params)\\n'\n",
      " '\\n'\n",
      " '    def get_persons_metadata(self, query_params=None):\\n'\n",
      " '        \"\"\"Retrieve metadata on person fields.\"\"\"\\n'\n",
      " '        url = f\"{self.base_url}/v2/persons/fields\"\\n'\n",
      " '        return self._make_authenticated_request(\"GET\", url, '\n",
      " 'params=query_params)\\n'\n",
      " '\\n'\n",
      " '    def get_person_field_data(self, person_id, query_params=None):\\n'\n",
      " '        \"\"\"Retrieve field data for a single person.\"\"\"\\n'\n",
      " '        url = f\"{self.base_url}/v2/persons/{person_id}\"\\n'\n",
      " '        return self._make_authenticated_request(\"GET\", url, '\n",
      " 'params=query_params)\\n'\n",
      " '\\n'\n",
      " '    def get_persons_lists_metadata(self, person_id, query_params=None):\\n'\n",
      " '        \"\"\"Retrieve metadata on a person\\'s lists.\"\"\"\\n'\n",
      " '        url = f\"{self.base_url}/v2/persons/{person_id}/lists\"\\n'\n",
      " '        return self._make_authenticated_request(\"GET\", url, '\n",
      " 'params=query_params)\\n'\n",
      " '\\n'\n",
      " '    def paginate_person_entries(self, person_id, query_params=None):\\n'\n",
      " '        \"\"\"Retrieve a person\\'s list entries with pagination.\"\"\"\\n'\n",
      " '        url = f\"{self.base_url}/v2/persons/{person_id}/list-entries\"\\n'\n",
      " '        return self._make_authenticated_request(\"GET\", url, '\n",
      " 'params=query_params)\\n')\n"
     ]
    }
   ],
   "source": [
    "pprint(generated_code)"
   ],
   "metadata": {
    "collapsed": false,
    "ExecuteTime": {
     "end_time": "2024-06-08T22:54:59.024712100Z",
     "start_time": "2024-06-08T22:54:59.000320200Z"
    }
   },
   "id": "655a6a46bd5dac4c",
   "execution_count": 37
  },
  {
   "cell_type": "code",
   "outputs": [
    {
     "name": "stdout",
     "output_type": "stream",
     "text": [
      "('import json\\n'\n",
      " 'import requests\\n'\n",
      " '\\n'\n",
      " 'class AffinityClient:\\n'\n",
      " '    def __init__(self, api_key):\\n'\n",
      " '        self.api_key = api_key\\n'\n",
      " '        self.base_url = \"https://api.affinity.co\"\\n'\n",
      " '\\n'\n",
      " '    def _make_authenticated_request(self, method, url, **kwargs):\\n'\n",
      " '        headers = {\\n'\n",
      " '            \"Authorization\": f\"Bearer {self.api_key}\",\\n'\n",
      " '            \"Content-Type\": \"application/json\"\\n'\n",
      " '        }\\n'\n",
      " '        response = requests.request(method, url, headers=headers, **kwargs)\\n'\n",
      " '        if response.status_code != 200:\\n'\n",
      " '            raise Exception(f\"Request failed with status code '\n",
      " '{response.status_code}\")\\n'\n",
      " '        return response\\n'\n",
      " '\\n'\n",
      " '    def get_current_user(self):\\n'\n",
      " '        \"\"\"Retrieve the current user\\'s information.\"\"\"\\n'\n",
      " '        url = f\"{self.base_url}/v2/auth/whoami\"\\n'\n",
      " '        return self._make_authenticated_request(\"GET\", url)\\n'\n",
      " '\\n'\n",
      " '    def get_all_companies(self, query_params=None):\\n'\n",
      " '        \"\"\"Retrieve all companies with optional query parameters.\"\"\"\\n'\n",
      " '        url = f\"{self.base_url}/v2/companies\"\\n'\n",
      " '        return self._make_authenticated_request(\"GET\", url, '\n",
      " 'params=query_params)\\n'\n",
      " '\\n'\n",
      " '    def get_company_fields_metadata(self, query_params=None):\\n'\n",
      " '        \"\"\"Retrieve metadata on company fields.\"\"\"\\n'\n",
      " '        url = f\"{self.base_url}/v2/companies/fields\"\\n'\n",
      " '        return self._make_authenticated_request(\"GET\", url, '\n",
      " 'params=query_params)\\n'\n",
      " '\\n'\n",
      " '    def get_single_company(self, company_id, query_params=None):\\n'\n",
      " '        \"\"\"Retrieve a single company by ID.\"\"\"\\n'\n",
      " '        url = f\"{self.base_url}/v2/companies/{company_id}\"\\n'\n",
      " '        return self._make_authenticated_request(\"GET\", url, '\n",
      " 'params=query_params)\\n'\n",
      " '\\n'\n",
      " '    def get_companies_lists_metadata(self, company_id, query_params=None):\\n'\n",
      " '        \"\"\"Retrieve metadata on a company\\'s lists.\"\"\"\\n'\n",
      " '        url = f\"{self.base_url}/v2/companies/{company_id}/lists\"\\n'\n",
      " '        return self._make_authenticated_request(\"GET\", url, '\n",
      " 'params=query_params)\\n'\n",
      " '\\n'\n",
      " '    def get_companies_list_entries(self, company_id, query_params=None):\\n'\n",
      " '        \"\"\"Retrieve a company\\'s list entries.\"\"\"\\n'\n",
      " '        url = f\"{self.base_url}/v2/companies/{company_id}/list-entries\"\\n'\n",
      " '        return self._make_authenticated_request(\"GET\", url, '\n",
      " 'params=query_params)\\n'\n",
      " '\\n'\n",
      " '    def get_all_lists_metadata(self, query_params=None):\\n'\n",
      " '        \"\"\"Retrieve metadata on all lists.\"\"\"\\n'\n",
      " '        url = f\"{self.base_url}/v2/lists\"\\n'\n",
      " '        return self._make_authenticated_request(\"GET\", url, '\n",
      " 'params=query_params)\\n'\n",
      " '\\n'\n",
      " '    def get_all_list_entries(self, list_id, query_params=None):\\n'\n",
      " '        \"\"\"Retrieve all list entries for a specific list.\"\"\"\\n'\n",
      " '        url = f\"{self.base_url}/v2/lists/{list_id}/list-entries\"\\n'\n",
      " '        return self._make_authenticated_request(\"GET\", url, '\n",
      " 'params=query_params)\\n'\n",
      " '\\n'\n",
      " '    def get_metadata_single(self, list_id):\\n'\n",
      " '        \"\"\"Retrieve metadata for a single list.\"\"\"\\n'\n",
      " '        url = f\"{self.base_url}/v2/lists/{list_id}\"\\n'\n",
      " '        return self._make_authenticated_request(\"GET\", url)\\n'\n",
      " '\\n'\n",
      " '    def get_lists_field_metadata(self, list_id, query_params=None):\\n'\n",
      " '        \"\"\"Retrieve metadata on a single list\\'s fields.\"\"\"\\n'\n",
      " '        url = f\"{self.base_url}/v2/lists/{list_id}/fields\"\\n'\n",
      " '        return self._make_authenticated_request(\"GET\", url, '\n",
      " 'params=query_params)\\n'\n",
      " '\\n'\n",
      " '    def get_saved_views_metadata(self, list_id, query_params=None):\\n'\n",
      " '        \"\"\"Retrieve metadata on saved views for a list.\"\"\"\\n'\n",
      " '        url = f\"{self.base_url}/v2/lists/{list_id}/saved-views\"\\n'\n",
      " '        return self._make_authenticated_request(\"GET\", url, '\n",
      " 'params=query_params)\\n'\n",
      " '\\n'\n",
      " '    def get_saved_view_list_entries(self, list_id, view_id, '\n",
      " 'query_params=None):\\n'\n",
      " '        \"\"\"Retrieve all list entries for a specific saved view.\"\"\"\\n'\n",
      " '        url = '\n",
      " 'f\"{self.base_url}/v2/lists/{list_id}/saved-views/{view_id}/list-entries\"\\n'\n",
      " '        return self._make_authenticated_request(\"GET\", url, '\n",
      " 'params=query_params)\\n'\n",
      " '\\n'\n",
      " '    def get_saved_view_metadata(self, list_id, view_id):\\n'\n",
      " '        \"\"\"Retrieve metadata for a single saved view.\"\"\"\\n'\n",
      " '        url = f\"{self.base_url}/v2/lists/{list_id}/saved-views/{view_id}\"\\n'\n",
      " '        return self._make_authenticated_request(\"GET\", url)\\n'\n",
      " '\\n'\n",
      " '    def get_all_opportunities(self, query_params=None):\\n'\n",
      " '        \"\"\"Retrieve all opportunities with optional query parameters.\"\"\"\\n'\n",
      " '        url = f\"{self.base_url}/v2/opportunities\"\\n'\n",
      " '        return self._make_authenticated_request(\"GET\", url, '\n",
      " 'params=query_params)\\n'\n",
      " '\\n'\n",
      " '    def get_opportunity_basic_info(self, opportunity_id):\\n'\n",
      " '        \"\"\"Retrieve basic information for a single opportunity.\"\"\"\\n'\n",
      " '        url = f\"{self.base_url}/v2/opportunities/{opportunity_id}\"\\n'\n",
      " '        return self._make_authenticated_request(\"GET\", url)\\n'\n",
      " '\\n'\n",
      " '    def get_all_persons(self, query_params=None):\\n'\n",
      " '        \"\"\"Retrieve all persons with optional query parameters.\"\"\"\\n'\n",
      " '        url = f\"{self.base_url}/v2/persons\"\\n'\n",
      " '        return self._make_authenticated_request(\"GET\", url, '\n",
      " 'params=query_params)\\n'\n",
      " '\\n'\n",
      " '    def get_persons_metadata(self, query_params=None):\\n'\n",
      " '        \"\"\"Retrieve metadata on person fields.\"\"\"\\n'\n",
      " '        url = f\"{self.base_url}/v2/persons/fields\"\\n'\n",
      " '        return self._make_authenticated_request(\"GET\", url, '\n",
      " 'params=query_params)\\n'\n",
      " '\\n'\n",
      " '    def get_person_field_data(self, person_id, query_params=None):\\n'\n",
      " '        \"\"\"Retrieve field data for a single person.\"\"\"\\n'\n",
      " '        url = f\"{self.base_url}/v2/persons/{person_id}\"\\n'\n",
      " '        return self._make_authenticated_request(\"GET\", url, '\n",
      " 'params=query_params)\\n'\n",
      " '\\n'\n",
      " '    def get_persons_lists_metadata(self, person_id, query_params=None):\\n'\n",
      " '        \"\"\"Retrieve metadata on a person\\'s lists.\"\"\"\\n'\n",
      " '        url = f\"{self.base_url}/v2/persons/{person_id}/lists\"\\n'\n",
      " '        return self._make_authenticated_request(\"GET\", url, '\n",
      " 'params=query_params)\\n'\n",
      " '\\n'\n",
      " '    def paginate_person_entries(self, person_id, query_params=None):\\n'\n",
      " '        \"\"\"Retrieve a person\\'s list entries with pagination.\"\"\"\\n'\n",
      " '        url = f\"{self.base_url}/v2/persons/{person_id}/list-entries\"\\n'\n",
      " '        return self._make_authenticated_request(\"GET\", url, '\n",
      " 'params=query_params)')\n"
     ]
    }
   ],
   "source": [
    "pprint(answer)"
   ],
   "metadata": {
    "collapsed": false,
    "ExecuteTime": {
     "end_time": "2024-06-08T22:55:06.244535800Z",
     "start_time": "2024-06-08T22:55:06.215313600Z"
    }
   },
   "id": "5b222f982709ea8",
   "execution_count": 38
  },
  {
   "cell_type": "markdown",
   "source": [
    "compare the generated code with the answer"
   ],
   "metadata": {
    "collapsed": false
   },
   "id": "548950f8e74e486b"
  },
  {
   "cell_type": "code",
   "outputs": [],
   "source": [
    "from difflib import unified_diff"
   ],
   "metadata": {
    "collapsed": false,
    "ExecuteTime": {
     "end_time": "2024-06-08T22:57:19.677903300Z",
     "start_time": "2024-06-08T22:57:19.669375Z"
    }
   },
   "id": "64a6418c01df5e77",
   "execution_count": 48
  },
  {
   "cell_type": "code",
   "outputs": [
    {
     "data": {
      "text/plain": "['--- ',\n '+++ ',\n '@@ -1,5 +1,5 @@',\n '-import json',\n ' import requests',\n '+',\n ' ',\n ' class AffinityClient:',\n '     def __init__(self, api_key):',\n '@@ -9,7 +9,7 @@',\n '     def _make_authenticated_request(self, method, url, **kwargs):',\n '         headers = {',\n '             \"Authorization\": f\"Bearer {self.api_key}\",',\n '-            \"Content-Type\": \"application/json\"',\n '+            \"Content-Type\": \"application/json\",',\n '         }',\n '         response = requests.request(method, url, headers=headers, **kwargs)',\n '         if response.status_code != 200:']"
     },
     "execution_count": 49,
     "metadata": {},
     "output_type": "execute_result"
    }
   ],
   "source": [
    "# compare the generated code with the answer\n",
    "diff = list(unified_diff(answer.splitlines(), generated_code.splitlines(), lineterm=''))\n",
    "diff"
   ],
   "metadata": {
    "collapsed": false,
    "ExecuteTime": {
     "end_time": "2024-06-08T22:57:20.030956500Z",
     "start_time": "2024-06-08T22:57:20.024465Z"
    }
   },
   "id": "d8eb4fb42fb3f753",
   "execution_count": 49
  }
 ],
 "metadata": {
  "kernelspec": {
   "display_name": "Python 3",
   "language": "python",
   "name": "python3"
  },
  "language_info": {
   "codemirror_mode": {
    "name": "ipython",
    "version": 2
   },
   "file_extension": ".py",
   "mimetype": "text/x-python",
   "name": "python",
   "nbconvert_exporter": "python",
   "pygments_lexer": "ipython2",
   "version": "2.7.6"
  }
 },
 "nbformat": 4,
 "nbformat_minor": 5
}
