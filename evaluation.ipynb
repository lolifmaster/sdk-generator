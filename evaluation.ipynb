{
 "cells": [
  {
   "cell_type": "code",
   "execution_count": 1,
   "id": "initial_id",
   "metadata": {
    "collapsed": true,
    "ExecuteTime": {
     "end_time": "2024-06-07T19:20:40.244741300Z",
     "start_time": "2024-06-07T19:20:38.662196100Z"
    }
   },
   "outputs": [
    {
     "name": "stdout",
     "output_type": "stream",
     "text": [
      "Database connected successfully. (MongoDB)\n"
     ]
    }
   ],
   "source": [
    "from sdkgenerator.generate import generate_sdk\n",
    "from sdkgenerator.constants import DATA_DIR, GENERATED_SDK_DIR\n",
    "from sdkgenerator.utils import get_code_from_model_response\n",
    "from sdkgenerator.db import db\n",
    "import pandas as pd"
   ]
  },
  {
   "cell_type": "code",
   "outputs": [],
   "source": [
    "TEST_DATA_DIR = DATA_DIR / 'test'\n",
    "TEST_DATA_DIR.mkdir(exist_ok=True)\n",
    "SPECIFICATIONS_DIR = DATA_DIR / 'openapi-specifications'"
   ],
   "metadata": {
    "collapsed": false,
    "ExecuteTime": {
     "end_time": "2024-06-07T19:20:42.591368200Z",
     "start_time": "2024-06-07T19:20:42.586190300Z"
    }
   },
   "id": "6d94c9aa206c8d81",
   "execution_count": 3
  },
  {
   "cell_type": "markdown",
   "source": [
    "# Load test data"
   ],
   "metadata": {
    "collapsed": false
   },
   "id": "d984bd2c05687f99"
  },
  {
   "cell_type": "code",
   "outputs": [],
   "source": [
    "test_pipeline_data = TEST_DATA_DIR / 'test_data.jsonl'\n",
    "test_data = pd.read_json(test_pipeline_data, lines=True)"
   ],
   "metadata": {
    "collapsed": false,
    "ExecuteTime": {
     "end_time": "2024-06-07T19:20:42.620659600Z",
     "start_time": "2024-06-07T19:20:42.589315400Z"
    }
   },
   "id": "d4bfec5c0a05df33",
   "execution_count": 4
  },
  {
   "cell_type": "code",
   "outputs": [
    {
     "data": {
      "text/plain": "                                            messages\n0  [{'role': 'system', 'content': 'You are a pyth...\n1  [{'role': 'system', 'content': 'You are a pyth...\n2  [{'role': 'system', 'content': 'You are a pyth...\n3  [{'role': 'system', 'content': 'You are a pyth...\n4  [{'role': 'system', 'content': 'You are a pyth...",
      "text/html": "<div>\n<style scoped>\n    .dataframe tbody tr th:only-of-type {\n        vertical-align: middle;\n    }\n\n    .dataframe tbody tr th {\n        vertical-align: top;\n    }\n\n    .dataframe thead th {\n        text-align: right;\n    }\n</style>\n<table border=\"1\" class=\"dataframe\">\n  <thead>\n    <tr style=\"text-align: right;\">\n      <th></th>\n      <th>messages</th>\n    </tr>\n  </thead>\n  <tbody>\n    <tr>\n      <th>0</th>\n      <td>[{'role': 'system', 'content': 'You are a pyth...</td>\n    </tr>\n    <tr>\n      <th>1</th>\n      <td>[{'role': 'system', 'content': 'You are a pyth...</td>\n    </tr>\n    <tr>\n      <th>2</th>\n      <td>[{'role': 'system', 'content': 'You are a pyth...</td>\n    </tr>\n    <tr>\n      <th>3</th>\n      <td>[{'role': 'system', 'content': 'You are a pyth...</td>\n    </tr>\n    <tr>\n      <th>4</th>\n      <td>[{'role': 'system', 'content': 'You are a pyth...</td>\n    </tr>\n  </tbody>\n</table>\n</div>"
     },
     "execution_count": 5,
     "metadata": {},
     "output_type": "execute_result"
    }
   ],
   "source": [
    "test_data.head()"
   ],
   "metadata": {
    "collapsed": false,
    "ExecuteTime": {
     "end_time": "2024-06-07T19:20:42.638006500Z",
     "start_time": "2024-06-07T19:20:42.615649200Z"
    }
   },
   "id": "754e99e831e2caaa",
   "execution_count": 5
  },
  {
   "cell_type": "markdown",
   "source": [
    "We can see that out test data if currently lines, each line is an array of objects that contain the following fields:\n",
    "- `role`: the role of the messanger, e.g. `system`, `user`\n",
    "- `content`: the content of the message"
   ],
   "metadata": {
    "collapsed": false
   },
   "id": "567a1952578cba61"
  },
  {
   "cell_type": "code",
   "outputs": [],
   "source": [
    "test_data['sdk'] = test_data.apply(lambda x: x.values[-1][-1], axis=1)"
   ],
   "metadata": {
    "collapsed": false,
    "ExecuteTime": {
     "end_time": "2024-06-07T19:20:42.639006700Z",
     "start_time": "2024-06-07T19:20:42.633476200Z"
    }
   },
   "id": "d8b317fadd8a81df",
   "execution_count": 6
  },
  {
   "cell_type": "code",
   "outputs": [
    {
     "data": {
      "text/plain": "                                             messages  \\\n0   [{'role': 'system', 'content': 'You are a pyth...   \n1   [{'role': 'system', 'content': 'You are a pyth...   \n2   [{'role': 'system', 'content': 'You are a pyth...   \n3   [{'role': 'system', 'content': 'You are a pyth...   \n4   [{'role': 'system', 'content': 'You are a pyth...   \n5   [{'role': 'system', 'content': 'You are a pyth...   \n6   [{'role': 'system', 'content': 'You are a pyth...   \n7   [{'role': 'system', 'content': 'You are a pyth...   \n8   [{'role': 'system', 'content': 'You are a pyth...   \n9   [{'role': 'system', 'content': 'You are a pyth...   \n10  [{'role': 'system', 'content': 'You are a pyth...   \n11  [{'role': 'system', 'content': 'You are a pyth...   \n12  [{'role': 'system', 'content': 'You are a pyth...   \n13  [{'role': 'system', 'content': 'You are a pyth...   \n14  [{'role': 'system', 'content': 'You are a pyth...   \n15  [{'role': 'system', 'content': 'You are a pyth...   \n16  [{'role': 'system', 'content': 'You are a pyth...   \n17  [{'role': 'system', 'content': 'You are a pyth...   \n18  [{'role': 'system', 'content': 'You are a pyth...   \n19  [{'role': 'system', 'content': 'You are a pyth...   \n20  [{'role': 'system', 'content': 'You are a pyth...   \n21  [{'role': 'system', 'content': 'You are a pyth...   \n\n                                                  sdk  \n0   {'role': 'assistant', 'content': '```python\nim...  \n1   {'role': 'assistant', 'content': '```python\nim...  \n2   {'role': 'assistant', 'content': '```python\nim...  \n3   {'role': 'assistant', 'content': '```python\nim...  \n4   {'role': 'assistant', 'content': '```python\nim...  \n5   {'role': 'assistant', 'content': '```python\nim...  \n6   {'role': 'assistant', 'content': '```python\nim...  \n7   {'role': 'assistant', 'content': '```python\nim...  \n8   {'role': 'assistant', 'content': '```python\nfr...  \n9   {'role': 'assistant', 'content': '```python\nim...  \n10  {'role': 'assistant', 'content': '```python\nfr...  \n11  {'role': 'assistant', 'content': '```python\nim...  \n12  {'role': 'assistant', 'content': '```python\nfr...  \n13  {'role': 'assistant', 'content': '```python\nim...  \n14  {'role': 'assistant', 'content': '```python\nim...  \n15  {'role': 'assistant', 'content': '```python\nim...  \n16  {'role': 'assistant', 'content': '```python\nfr...  \n17  {'role': 'assistant', 'content': '```python\nim...  \n18  {'role': 'assistant', 'content': '```python\nfr...  \n19  {'role': 'assistant', 'content': '```python\nim...  \n20  {'role': 'assistant', 'content': '```python\nim...  \n21  {'role': 'assistant', 'content': '```python\nim...  ",
      "text/html": "<div>\n<style scoped>\n    .dataframe tbody tr th:only-of-type {\n        vertical-align: middle;\n    }\n\n    .dataframe tbody tr th {\n        vertical-align: top;\n    }\n\n    .dataframe thead th {\n        text-align: right;\n    }\n</style>\n<table border=\"1\" class=\"dataframe\">\n  <thead>\n    <tr style=\"text-align: right;\">\n      <th></th>\n      <th>messages</th>\n      <th>sdk</th>\n    </tr>\n  </thead>\n  <tbody>\n    <tr>\n      <th>0</th>\n      <td>[{'role': 'system', 'content': 'You are a pyth...</td>\n      <td>{'role': 'assistant', 'content': '```python\nim...</td>\n    </tr>\n    <tr>\n      <th>1</th>\n      <td>[{'role': 'system', 'content': 'You are a pyth...</td>\n      <td>{'role': 'assistant', 'content': '```python\nim...</td>\n    </tr>\n    <tr>\n      <th>2</th>\n      <td>[{'role': 'system', 'content': 'You are a pyth...</td>\n      <td>{'role': 'assistant', 'content': '```python\nim...</td>\n    </tr>\n    <tr>\n      <th>3</th>\n      <td>[{'role': 'system', 'content': 'You are a pyth...</td>\n      <td>{'role': 'assistant', 'content': '```python\nim...</td>\n    </tr>\n    <tr>\n      <th>4</th>\n      <td>[{'role': 'system', 'content': 'You are a pyth...</td>\n      <td>{'role': 'assistant', 'content': '```python\nim...</td>\n    </tr>\n    <tr>\n      <th>5</th>\n      <td>[{'role': 'system', 'content': 'You are a pyth...</td>\n      <td>{'role': 'assistant', 'content': '```python\nim...</td>\n    </tr>\n    <tr>\n      <th>6</th>\n      <td>[{'role': 'system', 'content': 'You are a pyth...</td>\n      <td>{'role': 'assistant', 'content': '```python\nim...</td>\n    </tr>\n    <tr>\n      <th>7</th>\n      <td>[{'role': 'system', 'content': 'You are a pyth...</td>\n      <td>{'role': 'assistant', 'content': '```python\nim...</td>\n    </tr>\n    <tr>\n      <th>8</th>\n      <td>[{'role': 'system', 'content': 'You are a pyth...</td>\n      <td>{'role': 'assistant', 'content': '```python\nfr...</td>\n    </tr>\n    <tr>\n      <th>9</th>\n      <td>[{'role': 'system', 'content': 'You are a pyth...</td>\n      <td>{'role': 'assistant', 'content': '```python\nim...</td>\n    </tr>\n    <tr>\n      <th>10</th>\n      <td>[{'role': 'system', 'content': 'You are a pyth...</td>\n      <td>{'role': 'assistant', 'content': '```python\nfr...</td>\n    </tr>\n    <tr>\n      <th>11</th>\n      <td>[{'role': 'system', 'content': 'You are a pyth...</td>\n      <td>{'role': 'assistant', 'content': '```python\nim...</td>\n    </tr>\n    <tr>\n      <th>12</th>\n      <td>[{'role': 'system', 'content': 'You are a pyth...</td>\n      <td>{'role': 'assistant', 'content': '```python\nfr...</td>\n    </tr>\n    <tr>\n      <th>13</th>\n      <td>[{'role': 'system', 'content': 'You are a pyth...</td>\n      <td>{'role': 'assistant', 'content': '```python\nim...</td>\n    </tr>\n    <tr>\n      <th>14</th>\n      <td>[{'role': 'system', 'content': 'You are a pyth...</td>\n      <td>{'role': 'assistant', 'content': '```python\nim...</td>\n    </tr>\n    <tr>\n      <th>15</th>\n      <td>[{'role': 'system', 'content': 'You are a pyth...</td>\n      <td>{'role': 'assistant', 'content': '```python\nim...</td>\n    </tr>\n    <tr>\n      <th>16</th>\n      <td>[{'role': 'system', 'content': 'You are a pyth...</td>\n      <td>{'role': 'assistant', 'content': '```python\nfr...</td>\n    </tr>\n    <tr>\n      <th>17</th>\n      <td>[{'role': 'system', 'content': 'You are a pyth...</td>\n      <td>{'role': 'assistant', 'content': '```python\nim...</td>\n    </tr>\n    <tr>\n      <th>18</th>\n      <td>[{'role': 'system', 'content': 'You are a pyth...</td>\n      <td>{'role': 'assistant', 'content': '```python\nfr...</td>\n    </tr>\n    <tr>\n      <th>19</th>\n      <td>[{'role': 'system', 'content': 'You are a pyth...</td>\n      <td>{'role': 'assistant', 'content': '```python\nim...</td>\n    </tr>\n    <tr>\n      <th>20</th>\n      <td>[{'role': 'system', 'content': 'You are a pyth...</td>\n      <td>{'role': 'assistant', 'content': '```python\nim...</td>\n    </tr>\n    <tr>\n      <th>21</th>\n      <td>[{'role': 'system', 'content': 'You are a pyth...</td>\n      <td>{'role': 'assistant', 'content': '```python\nim...</td>\n    </tr>\n  </tbody>\n</table>\n</div>"
     },
     "execution_count": 7,
     "metadata": {},
     "output_type": "execute_result"
    }
   ],
   "source": [
    "test_data"
   ],
   "metadata": {
    "collapsed": false,
    "ExecuteTime": {
     "end_time": "2024-06-07T19:20:42.720382100Z",
     "start_time": "2024-06-07T19:20:42.639006700Z"
    }
   },
   "id": "80776a5dadcd2172",
   "execution_count": 7
  },
  {
   "cell_type": "markdown",
   "source": [
    "## Query testing data"
   ],
   "metadata": {
    "collapsed": false
   },
   "id": "6fec86baf8c94080"
  },
  {
   "cell_type": "code",
   "outputs": [
    {
     "data": {
      "text/plain": "                                  last_response_text         sdk_name\n0  ```python\\nimport json\\nimport requests\\n\\ncla...         affinity\n1  ```python\\nimport requests\\nfrom typing import...             bity\n2  ```python\\nimport requests\\nfrom typing import...          2-c-2-p\n3  ```python\\nimport requests\\nimport json\\nfrom ...  adatree_consent\n4  ```python\\nimport requests\\nfrom types import ...           finley",
      "text/html": "<div>\n<style scoped>\n    .dataframe tbody tr th:only-of-type {\n        vertical-align: middle;\n    }\n\n    .dataframe tbody tr th {\n        vertical-align: top;\n    }\n\n    .dataframe thead th {\n        text-align: right;\n    }\n</style>\n<table border=\"1\" class=\"dataframe\">\n  <thead>\n    <tr style=\"text-align: right;\">\n      <th></th>\n      <th>last_response_text</th>\n      <th>sdk_name</th>\n    </tr>\n  </thead>\n  <tbody>\n    <tr>\n      <th>0</th>\n      <td>```python\\nimport json\\nimport requests\\n\\ncla...</td>\n      <td>affinity</td>\n    </tr>\n    <tr>\n      <th>1</th>\n      <td>```python\\nimport requests\\nfrom typing import...</td>\n      <td>bity</td>\n    </tr>\n    <tr>\n      <th>2</th>\n      <td>```python\\nimport requests\\nfrom typing import...</td>\n      <td>2-c-2-p</td>\n    </tr>\n    <tr>\n      <th>3</th>\n      <td>```python\\nimport requests\\nimport json\\nfrom ...</td>\n      <td>adatree_consent</td>\n    </tr>\n    <tr>\n      <th>4</th>\n      <td>```python\\nimport requests\\nfrom types import ...</td>\n      <td>finley</td>\n    </tr>\n  </tbody>\n</table>\n</div>"
     },
     "execution_count": 8,
     "metadata": {},
     "output_type": "execute_result"
    }
   ],
   "source": [
    "sdk_code_test_data_pipeline = [\n",
    "        {\"$match\": {\"step\": \"final_code\", \"response.openai.status\": \"success\"}},\n",
    "        {\"$sort\": {\"_id\": 1}},  # Sort by _id to sort by insertion date (I accidentally added multiple final_code for some data)\n",
    "        {\"$group\": {\n",
    "            \"_id\": \"$sdk_name\",\n",
    "            \"last_response_text\": {\"$last\": \"$response.openai.generated_text\"}\n",
    "        }},\n",
    "        {\"$project\": {\n",
    "            \"sdk_name\": \"$_id\",\n",
    "            \"last_response_text\": 1,\n",
    "            \"_id\": 0\n",
    "        }}\n",
    "    ]\n",
    "\n",
    "data = list(db[\"train_data\"].aggregate(sdk_code_test_data_pipeline))\n",
    "df_test_data = pd.DataFrame(data)\n",
    "df_test_data.head()"
   ],
   "metadata": {
    "collapsed": false,
    "ExecuteTime": {
     "end_time": "2024-06-07T19:20:43.374573500Z",
     "start_time": "2024-06-07T19:20:42.675200700Z"
    }
   },
   "id": "f29b564e8f729382",
   "execution_count": 8
  },
  {
   "cell_type": "code",
   "outputs": [
    {
     "data": {
      "text/plain": "          sdk_name                                           sdk_code\n0         affinity  import json\\nimport requests\\n\\nclass Affinity...\n1             bity  import requests\\nfrom typing import Optional, ...\n2          2-c-2-p  import requests\\nfrom typing import Dict, Opti...\n3  adatree_consent  import requests\\nimport json\\nfrom types impor...\n4           finley  import requests\\nfrom types import *\\nfrom typ...",
      "text/html": "<div>\n<style scoped>\n    .dataframe tbody tr th:only-of-type {\n        vertical-align: middle;\n    }\n\n    .dataframe tbody tr th {\n        vertical-align: top;\n    }\n\n    .dataframe thead th {\n        text-align: right;\n    }\n</style>\n<table border=\"1\" class=\"dataframe\">\n  <thead>\n    <tr style=\"text-align: right;\">\n      <th></th>\n      <th>sdk_name</th>\n      <th>sdk_code</th>\n    </tr>\n  </thead>\n  <tbody>\n    <tr>\n      <th>0</th>\n      <td>affinity</td>\n      <td>import json\\nimport requests\\n\\nclass Affinity...</td>\n    </tr>\n    <tr>\n      <th>1</th>\n      <td>bity</td>\n      <td>import requests\\nfrom typing import Optional, ...</td>\n    </tr>\n    <tr>\n      <th>2</th>\n      <td>2-c-2-p</td>\n      <td>import requests\\nfrom typing import Dict, Opti...</td>\n    </tr>\n    <tr>\n      <th>3</th>\n      <td>adatree_consent</td>\n      <td>import requests\\nimport json\\nfrom types impor...</td>\n    </tr>\n    <tr>\n      <th>4</th>\n      <td>finley</td>\n      <td>import requests\\nfrom types import *\\nfrom typ...</td>\n    </tr>\n  </tbody>\n</table>\n</div>"
     },
     "execution_count": 9,
     "metadata": {},
     "output_type": "execute_result"
    }
   ],
   "source": [
    "df_test_data['sdk_code'] = df_test_data['last_response_text'].apply(lambda x: get_code_from_model_response(x)[0])\n",
    "df_test_data = df_test_data.drop(columns=['last_response_text'])\n",
    "df_test_data.head()"
   ],
   "metadata": {
    "collapsed": false,
    "ExecuteTime": {
     "end_time": "2024-06-07T19:20:43.429639100Z",
     "start_time": "2024-06-07T19:20:43.370568200Z"
    }
   },
   "id": "7646d86237e9aec7",
   "execution_count": 9
  },
  {
   "cell_type": "code",
   "outputs": [
    {
     "data": {
      "text/plain": "          sdk_name                                           sdk_code\n0         affinity  import json\\nimport requests\\n\\nclass Affinity...\n1             bity  import requests\\nfrom typing import Optional, ...\n2          2-c-2-p  import requests\\nfrom typing import Dict, Opti...\n3  adatree_consent  import requests\\nimport json\\nfrom types impor...\n4           finley  import requests\\nfrom types import *\\nfrom typ...",
      "text/html": "<div>\n<style scoped>\n    .dataframe tbody tr th:only-of-type {\n        vertical-align: middle;\n    }\n\n    .dataframe tbody tr th {\n        vertical-align: top;\n    }\n\n    .dataframe thead th {\n        text-align: right;\n    }\n</style>\n<table border=\"1\" class=\"dataframe\">\n  <thead>\n    <tr style=\"text-align: right;\">\n      <th></th>\n      <th>sdk_name</th>\n      <th>sdk_code</th>\n    </tr>\n  </thead>\n  <tbody>\n    <tr>\n      <th>0</th>\n      <td>affinity</td>\n      <td>import json\\nimport requests\\n\\nclass Affinity...</td>\n    </tr>\n    <tr>\n      <th>1</th>\n      <td>bity</td>\n      <td>import requests\\nfrom typing import Optional, ...</td>\n    </tr>\n    <tr>\n      <th>2</th>\n      <td>2-c-2-p</td>\n      <td>import requests\\nfrom typing import Dict, Opti...</td>\n    </tr>\n    <tr>\n      <th>3</th>\n      <td>adatree_consent</td>\n      <td>import requests\\nimport json\\nfrom types impor...</td>\n    </tr>\n    <tr>\n      <th>4</th>\n      <td>finley</td>\n      <td>import requests\\nfrom types import *\\nfrom typ...</td>\n    </tr>\n  </tbody>\n</table>\n</div>"
     },
     "execution_count": 10,
     "metadata": {},
     "output_type": "execute_result"
    }
   ],
   "source": [
    "# remove rows with None\n",
    "df_test_data = df_test_data.dropna()\n",
    "df_test_data.head()"
   ],
   "metadata": {
    "collapsed": false,
    "ExecuteTime": {
     "end_time": "2024-06-07T19:20:43.430716900Z",
     "start_time": "2024-06-07T19:20:43.416641100Z"
    }
   },
   "id": "dd3ba717106ce3a1",
   "execution_count": 10
  },
  {
   "cell_type": "code",
   "outputs": [
    {
     "data": {
      "text/plain": "   sdk_name                                         types_code\n0      bity  from typing import TypedDict, Union, List, Lit...\n1       dev  from typing import TypedDict, Optional, Litera...\n2  finshark  from typing import Literal, TypedDict, Optiona...\n3  bluesnap  from typing import TypedDict, List, Literal, U...\n4   baseten  from typing import TypedDict, Optional\\n\\nclas...",
      "text/html": "<div>\n<style scoped>\n    .dataframe tbody tr th:only-of-type {\n        vertical-align: middle;\n    }\n\n    .dataframe tbody tr th {\n        vertical-align: top;\n    }\n\n    .dataframe thead th {\n        text-align: right;\n    }\n</style>\n<table border=\"1\" class=\"dataframe\">\n  <thead>\n    <tr style=\"text-align: right;\">\n      <th></th>\n      <th>sdk_name</th>\n      <th>types_code</th>\n    </tr>\n  </thead>\n  <tbody>\n    <tr>\n      <th>0</th>\n      <td>bity</td>\n      <td>from typing import TypedDict, Union, List, Lit...</td>\n    </tr>\n    <tr>\n      <th>1</th>\n      <td>dev</td>\n      <td>from typing import TypedDict, Optional, Litera...</td>\n    </tr>\n    <tr>\n      <th>2</th>\n      <td>finshark</td>\n      <td>from typing import Literal, TypedDict, Optiona...</td>\n    </tr>\n    <tr>\n      <th>3</th>\n      <td>bluesnap</td>\n      <td>from typing import TypedDict, List, Literal, U...</td>\n    </tr>\n    <tr>\n      <th>4</th>\n      <td>baseten</td>\n      <td>from typing import TypedDict, Optional\\n\\nclas...</td>\n    </tr>\n  </tbody>\n</table>\n</div>"
     },
     "execution_count": 11,
     "metadata": {},
     "output_type": "execute_result"
    }
   ],
   "source": [
    "types_code_test_data_pipeline = [\n",
    "        {\"$match\": {\"step\": \"types\", \"response.openai.status\": \"success\"}},\n",
    "        {\"$sort\": {\"_id\": 1}},  # Sort by _id to sort by insertion date (I accidentally added multiple final_code for some data)\n",
    "        {\"$group\": {\n",
    "            \"_id\": \"$sdk_name\",\n",
    "            \"last_response_text\": {\"$last\": \"$response.openai.generated_text\"}\n",
    "        }},\n",
    "        {\"$project\": {\n",
    "            \"sdk_name\": \"$_id\",\n",
    "            \"last_response_text\": 1,\n",
    "            \"_id\": 0\n",
    "        }}\n",
    "    ]\n",
    "\n",
    "data = list(db[\"train_data\"].aggregate(types_code_test_data_pipeline))\n",
    "df_types = pd.DataFrame(data)\n",
    "df_types['types_code'] = df_types['last_response_text'].apply(lambda x: get_code_from_model_response(x)[0])\n",
    "df_types.drop(columns=['last_response_text'], inplace=True)\n",
    "df_types.head()"
   ],
   "metadata": {
    "collapsed": false,
    "ExecuteTime": {
     "end_time": "2024-06-07T19:20:43.580012200Z",
     "start_time": "2024-06-07T19:20:43.416641100Z"
    }
   },
   "id": "45a5be428e358619",
   "execution_count": 11
  },
  {
   "cell_type": "code",
   "outputs": [
    {
     "data": {
      "text/plain": "          sdk_name                                           sdk_code  \\\n0         affinity  import json\\nimport requests\\n\\nclass Affinity...   \n1             bity  import requests\\nfrom typing import Optional, ...   \n2          2-c-2-p  import requests\\nfrom typing import Dict, Opti...   \n3  adatree_consent  import requests\\nimport json\\nfrom types impor...   \n4           finley  import requests\\nfrom types import *\\nfrom typ...   \n\n                                          types_code  \n0                                                     \n1  from typing import TypedDict, Union, List, Lit...  \n2  from typing import TypedDict, Optional, List, ...  \n3  from typing import TypedDict, Literal, Optiona...  \n4  from typing import TypedDict, Optional\\n\\nclas...  ",
      "text/html": "<div>\n<style scoped>\n    .dataframe tbody tr th:only-of-type {\n        vertical-align: middle;\n    }\n\n    .dataframe tbody tr th {\n        vertical-align: top;\n    }\n\n    .dataframe thead th {\n        text-align: right;\n    }\n</style>\n<table border=\"1\" class=\"dataframe\">\n  <thead>\n    <tr style=\"text-align: right;\">\n      <th></th>\n      <th>sdk_name</th>\n      <th>sdk_code</th>\n      <th>types_code</th>\n    </tr>\n  </thead>\n  <tbody>\n    <tr>\n      <th>0</th>\n      <td>affinity</td>\n      <td>import json\\nimport requests\\n\\nclass Affinity...</td>\n      <td></td>\n    </tr>\n    <tr>\n      <th>1</th>\n      <td>bity</td>\n      <td>import requests\\nfrom typing import Optional, ...</td>\n      <td>from typing import TypedDict, Union, List, Lit...</td>\n    </tr>\n    <tr>\n      <th>2</th>\n      <td>2-c-2-p</td>\n      <td>import requests\\nfrom typing import Dict, Opti...</td>\n      <td>from typing import TypedDict, Optional, List, ...</td>\n    </tr>\n    <tr>\n      <th>3</th>\n      <td>adatree_consent</td>\n      <td>import requests\\nimport json\\nfrom types impor...</td>\n      <td>from typing import TypedDict, Literal, Optiona...</td>\n    </tr>\n    <tr>\n      <th>4</th>\n      <td>finley</td>\n      <td>import requests\\nfrom types import *\\nfrom typ...</td>\n      <td>from typing import TypedDict, Optional\\n\\nclas...</td>\n    </tr>\n  </tbody>\n</table>\n</div>"
     },
     "execution_count": 12,
     "metadata": {},
     "output_type": "execute_result"
    }
   ],
   "source": [
    "# merge the two dataframes if sdk has no types set types_code to empty string\n",
    "df_test_data = df_test_data.merge(df_types, on='sdk_name', how='left')\n",
    "df_test_data.fillna('', inplace=True)\n",
    "\n",
    "\n",
    "df_test_data.head()"
   ],
   "metadata": {
    "collapsed": false,
    "ExecuteTime": {
     "end_time": "2024-06-07T19:20:43.581395900Z",
     "start_time": "2024-06-07T19:20:43.544088400Z"
    }
   },
   "id": "f4c9127a3298900f",
   "execution_count": 12
  },
  {
   "cell_type": "code",
   "outputs": [],
   "source": [
    "def merge_code(sdk_code: str, types_code: str) -> str:\n",
    "    if types_code:\n",
    "        return types_code + '\\n' + '-'*10 + '\\n' + sdk_code\n",
    "    return sdk_code"
   ],
   "metadata": {
    "collapsed": false,
    "ExecuteTime": {
     "end_time": "2024-06-07T19:20:43.582404500Z",
     "start_time": "2024-06-07T19:20:43.552723700Z"
    }
   },
   "id": "3c2f14c6c8cd07d9",
   "execution_count": 13
  },
  {
   "cell_type": "code",
   "outputs": [
    {
     "data": {
      "text/plain": "          sdk_name                                           sdk_code  \\\n0         affinity  import json\\nimport requests\\n\\nclass Affinity...   \n1             bity  import requests\\nfrom typing import Optional, ...   \n2          2-c-2-p  import requests\\nfrom typing import Dict, Opti...   \n3  adatree_consent  import requests\\nimport json\\nfrom types impor...   \n4           finley  import requests\\nfrom types import *\\nfrom typ...   \n\n                                          types_code  \\\n0                                                      \n1  from typing import TypedDict, Union, List, Lit...   \n2  from typing import TypedDict, Optional, List, ...   \n3  from typing import TypedDict, Literal, Optiona...   \n4  from typing import TypedDict, Optional\\n\\nclas...   \n\n                                              answer  \n0  import json\\nimport requests\\n\\nclass Affinity...  \n1  from typing import TypedDict, Union, List, Lit...  \n2  from typing import TypedDict, Optional, List, ...  \n3  from typing import TypedDict, Literal, Optiona...  \n4  from typing import TypedDict, Optional\\n\\nclas...  ",
      "text/html": "<div>\n<style scoped>\n    .dataframe tbody tr th:only-of-type {\n        vertical-align: middle;\n    }\n\n    .dataframe tbody tr th {\n        vertical-align: top;\n    }\n\n    .dataframe thead th {\n        text-align: right;\n    }\n</style>\n<table border=\"1\" class=\"dataframe\">\n  <thead>\n    <tr style=\"text-align: right;\">\n      <th></th>\n      <th>sdk_name</th>\n      <th>sdk_code</th>\n      <th>types_code</th>\n      <th>answer</th>\n    </tr>\n  </thead>\n  <tbody>\n    <tr>\n      <th>0</th>\n      <td>affinity</td>\n      <td>import json\\nimport requests\\n\\nclass Affinity...</td>\n      <td></td>\n      <td>import json\\nimport requests\\n\\nclass Affinity...</td>\n    </tr>\n    <tr>\n      <th>1</th>\n      <td>bity</td>\n      <td>import requests\\nfrom typing import Optional, ...</td>\n      <td>from typing import TypedDict, Union, List, Lit...</td>\n      <td>from typing import TypedDict, Union, List, Lit...</td>\n    </tr>\n    <tr>\n      <th>2</th>\n      <td>2-c-2-p</td>\n      <td>import requests\\nfrom typing import Dict, Opti...</td>\n      <td>from typing import TypedDict, Optional, List, ...</td>\n      <td>from typing import TypedDict, Optional, List, ...</td>\n    </tr>\n    <tr>\n      <th>3</th>\n      <td>adatree_consent</td>\n      <td>import requests\\nimport json\\nfrom types impor...</td>\n      <td>from typing import TypedDict, Literal, Optiona...</td>\n      <td>from typing import TypedDict, Literal, Optiona...</td>\n    </tr>\n    <tr>\n      <th>4</th>\n      <td>finley</td>\n      <td>import requests\\nfrom types import *\\nfrom typ...</td>\n      <td>from typing import TypedDict, Optional\\n\\nclas...</td>\n      <td>from typing import TypedDict, Optional\\n\\nclas...</td>\n    </tr>\n  </tbody>\n</table>\n</div>"
     },
     "execution_count": 14,
     "metadata": {},
     "output_type": "execute_result"
    }
   ],
   "source": [
    "#answer is sdk_code + types_code\n",
    "df_test_data['answer'] = df_test_data.apply(lambda x: merge_code(x['sdk_code'], x['types_code']), axis=1)\n",
    "\n",
    "df_test_data.head()"
   ],
   "metadata": {
    "collapsed": false,
    "ExecuteTime": {
     "end_time": "2024-06-07T19:20:43.582404500Z",
     "start_time": "2024-06-07T19:20:43.556423500Z"
    }
   },
   "id": "6386d0bf33af73fc",
   "execution_count": 14
  },
  {
   "cell_type": "markdown",
   "source": [
    "now we get the generated code for each sdk"
   ],
   "metadata": {
    "collapsed": false
   },
   "id": "23835ebf514569a6"
  },
  {
   "cell_type": "code",
   "outputs": [
    {
     "data": {
      "text/plain": "          sdk_name                                             answer\n0         affinity  import json\\nimport requests\\n\\nclass Affinity...\n1             bity  from typing import TypedDict, Union, List, Lit...\n2          2-c-2-p  from typing import TypedDict, Optional, List, ...\n3  adatree_consent  from typing import TypedDict, Literal, Optiona...\n4           finley  from typing import TypedDict, Optional\\n\\nclas...",
      "text/html": "<div>\n<style scoped>\n    .dataframe tbody tr th:only-of-type {\n        vertical-align: middle;\n    }\n\n    .dataframe tbody tr th {\n        vertical-align: top;\n    }\n\n    .dataframe thead th {\n        text-align: right;\n    }\n</style>\n<table border=\"1\" class=\"dataframe\">\n  <thead>\n    <tr style=\"text-align: right;\">\n      <th></th>\n      <th>sdk_name</th>\n      <th>answer</th>\n    </tr>\n  </thead>\n  <tbody>\n    <tr>\n      <th>0</th>\n      <td>affinity</td>\n      <td>import json\\nimport requests\\n\\nclass Affinity...</td>\n    </tr>\n    <tr>\n      <th>1</th>\n      <td>bity</td>\n      <td>from typing import TypedDict, Union, List, Lit...</td>\n    </tr>\n    <tr>\n      <th>2</th>\n      <td>2-c-2-p</td>\n      <td>from typing import TypedDict, Optional, List, ...</td>\n    </tr>\n    <tr>\n      <th>3</th>\n      <td>adatree_consent</td>\n      <td>from typing import TypedDict, Literal, Optiona...</td>\n    </tr>\n    <tr>\n      <th>4</th>\n      <td>finley</td>\n      <td>from typing import TypedDict, Optional\\n\\nclas...</td>\n    </tr>\n  </tbody>\n</table>\n</div>"
     },
     "execution_count": 15,
     "metadata": {},
     "output_type": "execute_result"
    }
   ],
   "source": [
    "df_test_data.drop(columns=['sdk_code', 'types_code'], inplace=True)\n",
    "df_test_data.head()"
   ],
   "metadata": {
    "collapsed": false,
    "ExecuteTime": {
     "end_time": "2024-06-07T19:20:43.615361900Z",
     "start_time": "2024-06-07T19:20:43.566777300Z"
    }
   },
   "id": "ef2fbab8152a1e01",
   "execution_count": 15
  },
  {
   "cell_type": "code",
   "outputs": [],
   "source": [
    "user_rules = \"1. Use the requests library: All HTTP requests within the SDK must be made using the 'requests' library.\\n2. Class structure: The SDK must be a class, with each method representing an endpoint in the API. Choose method names that reflect the action or resource they interact with.\\n3. Authenticated requests: Implement a method '_make_authenticated_request' to handle authenticated requests.\\n4. JSON request body: Use JSON format for the body of all requests.\\n5. Return type: All methods must return the 'Response' object from the 'requests' library.\"\n",
    "\n",
    "def get_generated_code(sdk_name):\n",
    "    try:\n",
    "        sdk_name_path = GENERATED_SDK_DIR / sdk_name / f\"{sdk_name}.py\"\n",
    "        types_code_path = GENERATED_SDK_DIR / sdk_name / f\"types.py\"\n",
    "        sdk_code = sdk_name_path.read_text()\n",
    "        types_code = types_code_path.read_text() if types_code_path.exists() else \"\"\n",
    "        return merge_code(sdk_code, types_code)\n",
    "    except FileNotFoundError:\n",
    "        print(f\"Generating SDK for {sdk_name}\")\n",
    "        spec_path = None\n",
    "        for file in SPECIFICATIONS_DIR.iterdir():\n",
    "            if sdk_name in file.name:\n",
    "                spec_path = file\n",
    "                break\n",
    "        if spec_path is None:\n",
    "            raise Exception(f\"Specification file for {sdk_name} not found\")\n",
    "        try:\n",
    "            _, sdk_output_file, types_output_file = generate_sdk(spec_path, user_rules=user_rules)\n",
    "        except Exception as e:\n",
    "            print(f\"Error generating SDK for {sdk_name}: {e}\")\n",
    "            return None\n",
    "        if sdk_output_file is None:\n",
    "            return None\n",
    "        sdk_code = sdk_output_file.read_text()\n",
    "        types_code = types_output_file.read_text() if types_output_file else \"\"\n",
    "        \n",
    "        return merge_code(sdk_code, types_code)\n",
    "\n",
    "df_test_data['llm_answer'] = df_test_data['sdk_name'].apply(get_generated_code)"
   ],
   "metadata": {
    "collapsed": false,
    "ExecuteTime": {
     "end_time": "2024-06-07T19:23:44.064240100Z",
     "start_time": "2024-06-07T19:23:44.043821100Z"
    }
   },
   "id": "cf6457ed2884b2a3",
   "execution_count": 19
  },
  {
   "cell_type": "code",
   "outputs": [
    {
     "data": {
      "text/plain": "          sdk_name                                             answer  \\\n0         affinity  import json\\nimport requests\\n\\nclass Affinity...   \n1             bity  from typing import TypedDict, Union, List, Lit...   \n2          2-c-2-p  from typing import TypedDict, Optional, List, ...   \n3  adatree_consent  from typing import TypedDict, Literal, Optiona...   \n4           finley  from typing import TypedDict, Optional\\n\\nclas...   \n\n                                          llm_answer  \n0  import requests\\n\\n\\nclass AffinityClient:\\n  ...  \n1  from typing import TypedDict, Union, List, Lit...  \n2  from typing import TypedDict, Optional, List, ...  \n3  from typing import TypedDict, Literal, Optiona...  \n4  from typing import TypedDict, Optional\\n\\n\\ncl...  ",
      "text/html": "<div>\n<style scoped>\n    .dataframe tbody tr th:only-of-type {\n        vertical-align: middle;\n    }\n\n    .dataframe tbody tr th {\n        vertical-align: top;\n    }\n\n    .dataframe thead th {\n        text-align: right;\n    }\n</style>\n<table border=\"1\" class=\"dataframe\">\n  <thead>\n    <tr style=\"text-align: right;\">\n      <th></th>\n      <th>sdk_name</th>\n      <th>answer</th>\n      <th>llm_answer</th>\n    </tr>\n  </thead>\n  <tbody>\n    <tr>\n      <th>0</th>\n      <td>affinity</td>\n      <td>import json\\nimport requests\\n\\nclass Affinity...</td>\n      <td>import requests\\n\\n\\nclass AffinityClient:\\n  ...</td>\n    </tr>\n    <tr>\n      <th>1</th>\n      <td>bity</td>\n      <td>from typing import TypedDict, Union, List, Lit...</td>\n      <td>from typing import TypedDict, Union, List, Lit...</td>\n    </tr>\n    <tr>\n      <th>2</th>\n      <td>2-c-2-p</td>\n      <td>from typing import TypedDict, Optional, List, ...</td>\n      <td>from typing import TypedDict, Optional, List, ...</td>\n    </tr>\n    <tr>\n      <th>3</th>\n      <td>adatree_consent</td>\n      <td>from typing import TypedDict, Literal, Optiona...</td>\n      <td>from typing import TypedDict, Literal, Optiona...</td>\n    </tr>\n    <tr>\n      <th>4</th>\n      <td>finley</td>\n      <td>from typing import TypedDict, Optional\\n\\nclas...</td>\n      <td>from typing import TypedDict, Optional\\n\\n\\ncl...</td>\n    </tr>\n  </tbody>\n</table>\n</div>"
     },
     "execution_count": 21,
     "metadata": {},
     "output_type": "execute_result"
    }
   ],
   "source": [
    "df_test_data.head()"
   ],
   "metadata": {
    "collapsed": false,
    "ExecuteTime": {
     "end_time": "2024-06-07T19:24:06.731997500Z",
     "start_time": "2024-06-07T19:24:06.703933200Z"
    }
   },
   "id": "8e2bb41f05c003b",
   "execution_count": 21
  },
  {
   "cell_type": "markdown",
   "source": [
    "# Evaluation"
   ],
   "metadata": {
    "collapsed": false
   },
   "id": "287c3c8a07329119"
  },
  {
   "cell_type": "code",
   "outputs": [],
   "source": [],
   "metadata": {
    "collapsed": false
   },
   "id": "d924a95e085e1713"
  }
 ],
 "metadata": {
  "kernelspec": {
   "display_name": "Python 3",
   "language": "python",
   "name": "python3"
  },
  "language_info": {
   "codemirror_mode": {
    "name": "ipython",
    "version": 2
   },
   "file_extension": ".py",
   "mimetype": "text/x-python",
   "name": "python",
   "nbconvert_exporter": "python",
   "pygments_lexer": "ipython2",
   "version": "2.7.6"
  }
 },
 "nbformat": 4,
 "nbformat_minor": 5
}
