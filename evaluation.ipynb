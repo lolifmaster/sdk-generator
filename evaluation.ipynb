{
 "cells": [
  {
   "cell_type": "code",
   "execution_count": 1,
   "id": "initial_id",
   "metadata": {
    "collapsed": true,
    "ExecuteTime": {
     "end_time": "2024-06-18T17:19:56.755904Z",
     "start_time": "2024-06-18T17:19:54.071062Z"
    }
   },
   "outputs": [
    {
     "name": "stdout",
     "output_type": "stream",
     "text": [
      "Database connected successfully. (MongoDB)\n"
     ]
    }
   ],
   "source": [
    "from sdkgenerator.generate import generate_sdk\n",
    "from sdkgenerator.constants import DATA_DIR, GENERATED_SDK_DIR\n",
    "from sdkgenerator.utils import get_code_from_model_response\n",
    "from sdkgenerator.db import db\n",
    "import pandas as pd\n",
    "from pathlib import Path\n",
    "import os"
   ]
  },
  {
   "cell_type": "code",
   "outputs": [],
   "source": [
    "TEST_DATA_DIR = DATA_DIR / \"test\"\n",
    "TEST_DATA_DIR.mkdir(exist_ok=True)\n",
    "SPECIFICATIONS_DIR = DATA_DIR / \"openapi-specifications\"\n",
    "GPT_GENERATED_SDKS_DIR = Path(os.getcwd()) / \"gpt_generated_sdks\""
   ],
   "metadata": {
    "collapsed": false,
    "ExecuteTime": {
     "end_time": "2024-06-18T17:19:56.758947200Z",
     "start_time": "2024-06-18T17:19:56.755904Z"
    }
   },
   "id": "6d94c9aa206c8d81",
   "execution_count": 2
  },
  {
   "cell_type": "markdown",
   "source": [
    "## Query testing data"
   ],
   "metadata": {
    "collapsed": false
   },
   "id": "6fec86baf8c94080"
  },
  {
   "cell_type": "code",
   "outputs": [
    {
     "data": {
      "text/plain": "                                  last_response_text      sdk_name\n0  ```python\\nimport requests\\n\\nclass AdatreeCli...  adatree_data\n1  ```python\\nimport requests\\nfrom types import ...       baseten\n2  ```python\\nimport requests\\nfrom typing import...        flickr\n3  ```python\\nimport requests\\nfrom types import ...        milefy\n4  ```python\\nimport requests\\nfrom urllib.parse ...       foodkit",
      "text/html": "<div>\n<style scoped>\n    .dataframe tbody tr th:only-of-type {\n        vertical-align: middle;\n    }\n\n    .dataframe tbody tr th {\n        vertical-align: top;\n    }\n\n    .dataframe thead th {\n        text-align: right;\n    }\n</style>\n<table border=\"1\" class=\"dataframe\">\n  <thead>\n    <tr style=\"text-align: right;\">\n      <th></th>\n      <th>last_response_text</th>\n      <th>sdk_name</th>\n    </tr>\n  </thead>\n  <tbody>\n    <tr>\n      <th>0</th>\n      <td>```python\\nimport requests\\n\\nclass AdatreeCli...</td>\n      <td>adatree_data</td>\n    </tr>\n    <tr>\n      <th>1</th>\n      <td>```python\\nimport requests\\nfrom types import ...</td>\n      <td>baseten</td>\n    </tr>\n    <tr>\n      <th>2</th>\n      <td>```python\\nimport requests\\nfrom typing import...</td>\n      <td>flickr</td>\n    </tr>\n    <tr>\n      <th>3</th>\n      <td>```python\\nimport requests\\nfrom types import ...</td>\n      <td>milefy</td>\n    </tr>\n    <tr>\n      <th>4</th>\n      <td>```python\\nimport requests\\nfrom urllib.parse ...</td>\n      <td>foodkit</td>\n    </tr>\n  </tbody>\n</table>\n</div>"
     },
     "execution_count": 3,
     "metadata": {},
     "output_type": "execute_result"
    }
   ],
   "source": [
    "sdk_code_test_data_pipeline = [\n",
    "    {\"$match\": {\"step\": \"final_code\", \"response.openai.status\": \"success\"}},\n",
    "    {\n",
    "        \"$sort\": {\"_id\": 1}\n",
    "    },  # Sort by _id to sort by insertion date (I accidentally added multiple final_code for some data)\n",
    "    {\n",
    "        \"$group\": {\n",
    "            \"_id\": \"$sdk_name\",\n",
    "            \"last_response_text\": {\"$last\": \"$response.openai.generated_text\"},\n",
    "        }\n",
    "    },\n",
    "    {\"$project\": {\"sdk_name\": \"$_id\", \"last_response_text\": 1, \"_id\": 0}},\n",
    "]\n",
    "\n",
    "data = list(db[\"eval\"].aggregate(sdk_code_test_data_pipeline))\n",
    "df_test_data = pd.DataFrame(data)\n",
    "df_test_data.head()"
   ],
   "metadata": {
    "collapsed": false,
    "ExecuteTime": {
     "end_time": "2024-06-18T17:19:57.228940500Z",
     "start_time": "2024-06-18T17:19:56.760974200Z"
    }
   },
   "id": "f29b564e8f729382",
   "execution_count": 3
  },
  {
   "cell_type": "markdown",
   "source": [
    "we need to extract the code from the generated text"
   ],
   "metadata": {
    "collapsed": false
   },
   "id": "5901a64d107defe0"
  },
  {
   "cell_type": "code",
   "outputs": [
    {
     "data": {
      "text/plain": "       sdk_name                                           sdk_code\n0  adatree_data  import requests\\n\\nclass AdatreeClient:\\n    d...\n1       baseten  import requests\\nfrom types import UpsertSecre...\n2        flickr  import requests\\nfrom typing import Optional, ...\n3        milefy  import requests\\nfrom types import *\\n\\nclass ...\n4       foodkit  import requests\\nfrom urllib.parse import urlj...",
      "text/html": "<div>\n<style scoped>\n    .dataframe tbody tr th:only-of-type {\n        vertical-align: middle;\n    }\n\n    .dataframe tbody tr th {\n        vertical-align: top;\n    }\n\n    .dataframe thead th {\n        text-align: right;\n    }\n</style>\n<table border=\"1\" class=\"dataframe\">\n  <thead>\n    <tr style=\"text-align: right;\">\n      <th></th>\n      <th>sdk_name</th>\n      <th>sdk_code</th>\n    </tr>\n  </thead>\n  <tbody>\n    <tr>\n      <th>0</th>\n      <td>adatree_data</td>\n      <td>import requests\\n\\nclass AdatreeClient:\\n    d...</td>\n    </tr>\n    <tr>\n      <th>1</th>\n      <td>baseten</td>\n      <td>import requests\\nfrom types import UpsertSecre...</td>\n    </tr>\n    <tr>\n      <th>2</th>\n      <td>flickr</td>\n      <td>import requests\\nfrom typing import Optional, ...</td>\n    </tr>\n    <tr>\n      <th>3</th>\n      <td>milefy</td>\n      <td>import requests\\nfrom types import *\\n\\nclass ...</td>\n    </tr>\n    <tr>\n      <th>4</th>\n      <td>foodkit</td>\n      <td>import requests\\nfrom urllib.parse import urlj...</td>\n    </tr>\n  </tbody>\n</table>\n</div>"
     },
     "execution_count": 4,
     "metadata": {},
     "output_type": "execute_result"
    }
   ],
   "source": [
    "df_test_data[\"sdk_code\"] = df_test_data[\"last_response_text\"].apply(\n",
    "    lambda x: get_code_from_model_response(x)[0]\n",
    ")\n",
    "df_test_data = df_test_data.drop(columns=[\"last_response_text\"])\n",
    "df_test_data.head()"
   ],
   "metadata": {
    "collapsed": false,
    "ExecuteTime": {
     "end_time": "2024-06-18T17:19:57.240566500Z",
     "start_time": "2024-06-18T17:19:57.226729700Z"
    }
   },
   "id": "7646d86237e9aec7",
   "execution_count": 4
  },
  {
   "cell_type": "code",
   "outputs": [
    {
     "data": {
      "text/plain": "       sdk_name                                           sdk_code\n0  adatree_data  import requests\\n\\nclass AdatreeClient:\\n    d...\n1       baseten  import requests\\nfrom types import UpsertSecre...\n2        flickr  import requests\\nfrom typing import Optional, ...\n3        milefy  import requests\\nfrom types import *\\n\\nclass ...\n4       foodkit  import requests\\nfrom urllib.parse import urlj...",
      "text/html": "<div>\n<style scoped>\n    .dataframe tbody tr th:only-of-type {\n        vertical-align: middle;\n    }\n\n    .dataframe tbody tr th {\n        vertical-align: top;\n    }\n\n    .dataframe thead th {\n        text-align: right;\n    }\n</style>\n<table border=\"1\" class=\"dataframe\">\n  <thead>\n    <tr style=\"text-align: right;\">\n      <th></th>\n      <th>sdk_name</th>\n      <th>sdk_code</th>\n    </tr>\n  </thead>\n  <tbody>\n    <tr>\n      <th>0</th>\n      <td>adatree_data</td>\n      <td>import requests\\n\\nclass AdatreeClient:\\n    d...</td>\n    </tr>\n    <tr>\n      <th>1</th>\n      <td>baseten</td>\n      <td>import requests\\nfrom types import UpsertSecre...</td>\n    </tr>\n    <tr>\n      <th>2</th>\n      <td>flickr</td>\n      <td>import requests\\nfrom typing import Optional, ...</td>\n    </tr>\n    <tr>\n      <th>3</th>\n      <td>milefy</td>\n      <td>import requests\\nfrom types import *\\n\\nclass ...</td>\n    </tr>\n    <tr>\n      <th>4</th>\n      <td>foodkit</td>\n      <td>import requests\\nfrom urllib.parse import urlj...</td>\n    </tr>\n  </tbody>\n</table>\n</div>"
     },
     "execution_count": 5,
     "metadata": {},
     "output_type": "execute_result"
    }
   ],
   "source": [
    "# remove rows with None\n",
    "df_test_data = df_test_data.dropna()\n",
    "df_test_data.head()"
   ],
   "metadata": {
    "collapsed": false,
    "ExecuteTime": {
     "end_time": "2024-06-18T17:19:57.251450900Z",
     "start_time": "2024-06-18T17:19:57.238334600Z"
    }
   },
   "id": "dd3ba717106ce3a1",
   "execution_count": 5
  },
  {
   "cell_type": "code",
   "outputs": [
    {
     "data": {
      "text/plain": "     sdk_name                                         types_code\n0  fastspring  from typing import TypedDict, List, Literal, O...\n1       types  from typing import List, TypedDict, Union, Lit...\n2    bluesnap  from typing import TypedDict, List, Literal, U...\n3      milefy  from typing import List, TypedDict, Union, Lit...\n4         dev  from typing import TypedDict, Optional, Litera...",
      "text/html": "<div>\n<style scoped>\n    .dataframe tbody tr th:only-of-type {\n        vertical-align: middle;\n    }\n\n    .dataframe tbody tr th {\n        vertical-align: top;\n    }\n\n    .dataframe thead th {\n        text-align: right;\n    }\n</style>\n<table border=\"1\" class=\"dataframe\">\n  <thead>\n    <tr style=\"text-align: right;\">\n      <th></th>\n      <th>sdk_name</th>\n      <th>types_code</th>\n    </tr>\n  </thead>\n  <tbody>\n    <tr>\n      <th>0</th>\n      <td>fastspring</td>\n      <td>from typing import TypedDict, List, Literal, O...</td>\n    </tr>\n    <tr>\n      <th>1</th>\n      <td>types</td>\n      <td>from typing import List, TypedDict, Union, Lit...</td>\n    </tr>\n    <tr>\n      <th>2</th>\n      <td>bluesnap</td>\n      <td>from typing import TypedDict, List, Literal, U...</td>\n    </tr>\n    <tr>\n      <th>3</th>\n      <td>milefy</td>\n      <td>from typing import List, TypedDict, Union, Lit...</td>\n    </tr>\n    <tr>\n      <th>4</th>\n      <td>dev</td>\n      <td>from typing import TypedDict, Optional, Litera...</td>\n    </tr>\n  </tbody>\n</table>\n</div>"
     },
     "execution_count": 6,
     "metadata": {},
     "output_type": "execute_result"
    }
   ],
   "source": [
    "types_code_test_data_pipeline = [\n",
    "    {\"$match\": {\"step\": \"types\", \"response.openai.status\": \"success\"}},\n",
    "    {\n",
    "        \"$sort\": {\"_id\": 1}\n",
    "    },  # Sort by _id to sort by insertion date (I accidentally added multiple final_code for some data)\n",
    "    {\n",
    "        \"$group\": {\n",
    "            \"_id\": \"$sdk_name\",\n",
    "            \"last_response_text\": {\"$last\": \"$response.openai.generated_text\"},\n",
    "        }\n",
    "    },\n",
    "    {\"$project\": {\"sdk_name\": \"$_id\", \"last_response_text\": 1, \"_id\": 0}},\n",
    "]\n",
    "\n",
    "data = list(db[\"eval\"].aggregate(types_code_test_data_pipeline))\n",
    "df_types = pd.DataFrame(data)\n",
    "df_types[\"types_code\"] = df_types[\"last_response_text\"].apply(\n",
    "    lambda x: get_code_from_model_response(x)[0]\n",
    ")\n",
    "df_types.drop(columns=[\"last_response_text\"], inplace=True)\n",
    "df_types.head()"
   ],
   "metadata": {
    "collapsed": false,
    "ExecuteTime": {
     "end_time": "2024-06-18T17:19:57.430016800Z",
     "start_time": "2024-06-18T17:19:57.249445700Z"
    }
   },
   "id": "45a5be428e358619",
   "execution_count": 6
  },
  {
   "cell_type": "code",
   "outputs": [
    {
     "data": {
      "text/plain": "       sdk_name                                           sdk_code  \\\n0  adatree_data  import requests\\n\\nclass AdatreeClient:\\n    d...   \n1       baseten  import requests\\nfrom types import UpsertSecre...   \n2        flickr  import requests\\nfrom typing import Optional, ...   \n3        milefy  import requests\\nfrom types import *\\n\\nclass ...   \n4       foodkit  import requests\\nfrom urllib.parse import urlj...   \n\n                                          types_code  \n0  from typing import TypedDict, List, Literal, O...  \n1  from typing import TypedDict, Optional\\n\\nclas...  \n2                                                     \n3  from typing import List, TypedDict, Union, Lit...  \n4  from typing import TypedDict, Literal, List\\n\\...  ",
      "text/html": "<div>\n<style scoped>\n    .dataframe tbody tr th:only-of-type {\n        vertical-align: middle;\n    }\n\n    .dataframe tbody tr th {\n        vertical-align: top;\n    }\n\n    .dataframe thead th {\n        text-align: right;\n    }\n</style>\n<table border=\"1\" class=\"dataframe\">\n  <thead>\n    <tr style=\"text-align: right;\">\n      <th></th>\n      <th>sdk_name</th>\n      <th>sdk_code</th>\n      <th>types_code</th>\n    </tr>\n  </thead>\n  <tbody>\n    <tr>\n      <th>0</th>\n      <td>adatree_data</td>\n      <td>import requests\\n\\nclass AdatreeClient:\\n    d...</td>\n      <td>from typing import TypedDict, List, Literal, O...</td>\n    </tr>\n    <tr>\n      <th>1</th>\n      <td>baseten</td>\n      <td>import requests\\nfrom types import UpsertSecre...</td>\n      <td>from typing import TypedDict, Optional\\n\\nclas...</td>\n    </tr>\n    <tr>\n      <th>2</th>\n      <td>flickr</td>\n      <td>import requests\\nfrom typing import Optional, ...</td>\n      <td></td>\n    </tr>\n    <tr>\n      <th>3</th>\n      <td>milefy</td>\n      <td>import requests\\nfrom types import *\\n\\nclass ...</td>\n      <td>from typing import List, TypedDict, Union, Lit...</td>\n    </tr>\n    <tr>\n      <th>4</th>\n      <td>foodkit</td>\n      <td>import requests\\nfrom urllib.parse import urlj...</td>\n      <td>from typing import TypedDict, Literal, List\\n\\...</td>\n    </tr>\n  </tbody>\n</table>\n</div>"
     },
     "execution_count": 7,
     "metadata": {},
     "output_type": "execute_result"
    }
   ],
   "source": [
    "# merge the two dataframes if sdk has no types set types_code to empty string\n",
    "df_test_data = df_test_data.merge(df_types, on=\"sdk_name\", how=\"left\")\n",
    "df_test_data.fillna(\"\", inplace=True)\n",
    "\n",
    "\n",
    "df_test_data.head()"
   ],
   "metadata": {
    "collapsed": false,
    "ExecuteTime": {
     "end_time": "2024-06-18T17:19:57.432030Z",
     "start_time": "2024-06-18T17:19:57.362182Z"
    }
   },
   "id": "f4c9127a3298900f",
   "execution_count": 7
  },
  {
   "cell_type": "code",
   "outputs": [],
   "source": [
    "def merge_code(sdk_code: str, types_code: str) -> str:\n",
    "    if types_code:\n",
    "        return types_code + \"\\n\" + \"-\" * 10 + \"\\n\" + sdk_code\n",
    "    return sdk_code"
   ],
   "metadata": {
    "collapsed": false,
    "ExecuteTime": {
     "end_time": "2024-06-18T17:19:57.433016500Z",
     "start_time": "2024-06-18T17:19:57.372275300Z"
    }
   },
   "id": "3c2f14c6c8cd07d9",
   "execution_count": 8
  },
  {
   "cell_type": "code",
   "outputs": [
    {
     "data": {
      "text/plain": "       sdk_name                                           sdk_code  \\\n0  adatree_data  import requests\\n\\nclass AdatreeClient:\\n    d...   \n1       baseten  import requests\\nfrom types import UpsertSecre...   \n2        flickr  import requests\\nfrom typing import Optional, ...   \n3        milefy  import requests\\nfrom types import *\\n\\nclass ...   \n4       foodkit  import requests\\nfrom urllib.parse import urlj...   \n\n                                          types_code  \\\n0  from typing import TypedDict, List, Literal, O...   \n1  from typing import TypedDict, Optional\\n\\nclas...   \n2                                                      \n3  from typing import List, TypedDict, Union, Lit...   \n4  from typing import TypedDict, Literal, List\\n\\...   \n\n                                              answer  \n0  from typing import TypedDict, List, Literal, O...  \n1  from typing import TypedDict, Optional\\n\\nclas...  \n2  import requests\\nfrom typing import Optional, ...  \n3  from typing import List, TypedDict, Union, Lit...  \n4  from typing import TypedDict, Literal, List\\n\\...  ",
      "text/html": "<div>\n<style scoped>\n    .dataframe tbody tr th:only-of-type {\n        vertical-align: middle;\n    }\n\n    .dataframe tbody tr th {\n        vertical-align: top;\n    }\n\n    .dataframe thead th {\n        text-align: right;\n    }\n</style>\n<table border=\"1\" class=\"dataframe\">\n  <thead>\n    <tr style=\"text-align: right;\">\n      <th></th>\n      <th>sdk_name</th>\n      <th>sdk_code</th>\n      <th>types_code</th>\n      <th>answer</th>\n    </tr>\n  </thead>\n  <tbody>\n    <tr>\n      <th>0</th>\n      <td>adatree_data</td>\n      <td>import requests\\n\\nclass AdatreeClient:\\n    d...</td>\n      <td>from typing import TypedDict, List, Literal, O...</td>\n      <td>from typing import TypedDict, List, Literal, O...</td>\n    </tr>\n    <tr>\n      <th>1</th>\n      <td>baseten</td>\n      <td>import requests\\nfrom types import UpsertSecre...</td>\n      <td>from typing import TypedDict, Optional\\n\\nclas...</td>\n      <td>from typing import TypedDict, Optional\\n\\nclas...</td>\n    </tr>\n    <tr>\n      <th>2</th>\n      <td>flickr</td>\n      <td>import requests\\nfrom typing import Optional, ...</td>\n      <td></td>\n      <td>import requests\\nfrom typing import Optional, ...</td>\n    </tr>\n    <tr>\n      <th>3</th>\n      <td>milefy</td>\n      <td>import requests\\nfrom types import *\\n\\nclass ...</td>\n      <td>from typing import List, TypedDict, Union, Lit...</td>\n      <td>from typing import List, TypedDict, Union, Lit...</td>\n    </tr>\n    <tr>\n      <th>4</th>\n      <td>foodkit</td>\n      <td>import requests\\nfrom urllib.parse import urlj...</td>\n      <td>from typing import TypedDict, Literal, List\\n\\...</td>\n      <td>from typing import TypedDict, Literal, List\\n\\...</td>\n    </tr>\n  </tbody>\n</table>\n</div>"
     },
     "execution_count": 9,
     "metadata": {},
     "output_type": "execute_result"
    }
   ],
   "source": [
    "# answer is sdk_code + types_code\n",
    "df_test_data[\"answer\"] = df_test_data.apply(\n",
    "    lambda x: merge_code(x[\"sdk_code\"], x[\"types_code\"]), axis=1\n",
    ")\n",
    "\n",
    "df_test_data.head()"
   ],
   "metadata": {
    "collapsed": false,
    "ExecuteTime": {
     "end_time": "2024-06-18T17:19:57.447259400Z",
     "start_time": "2024-06-18T17:19:57.376959500Z"
    }
   },
   "id": "6386d0bf33af73fc",
   "execution_count": 9
  },
  {
   "cell_type": "markdown",
   "source": [
    "now we get the generated code for each sdk"
   ],
   "metadata": {
    "collapsed": false
   },
   "id": "23835ebf514569a6"
  },
  {
   "cell_type": "code",
   "outputs": [
    {
     "data": {
      "text/plain": "       sdk_name                                             answer\n0  adatree_data  from typing import TypedDict, List, Literal, O...\n1       baseten  from typing import TypedDict, Optional\\n\\nclas...\n2        flickr  import requests\\nfrom typing import Optional, ...\n3        milefy  from typing import List, TypedDict, Union, Lit...\n4       foodkit  from typing import TypedDict, Literal, List\\n\\...",
      "text/html": "<div>\n<style scoped>\n    .dataframe tbody tr th:only-of-type {\n        vertical-align: middle;\n    }\n\n    .dataframe tbody tr th {\n        vertical-align: top;\n    }\n\n    .dataframe thead th {\n        text-align: right;\n    }\n</style>\n<table border=\"1\" class=\"dataframe\">\n  <thead>\n    <tr style=\"text-align: right;\">\n      <th></th>\n      <th>sdk_name</th>\n      <th>answer</th>\n    </tr>\n  </thead>\n  <tbody>\n    <tr>\n      <th>0</th>\n      <td>adatree_data</td>\n      <td>from typing import TypedDict, List, Literal, O...</td>\n    </tr>\n    <tr>\n      <th>1</th>\n      <td>baseten</td>\n      <td>from typing import TypedDict, Optional\\n\\nclas...</td>\n    </tr>\n    <tr>\n      <th>2</th>\n      <td>flickr</td>\n      <td>import requests\\nfrom typing import Optional, ...</td>\n    </tr>\n    <tr>\n      <th>3</th>\n      <td>milefy</td>\n      <td>from typing import List, TypedDict, Union, Lit...</td>\n    </tr>\n    <tr>\n      <th>4</th>\n      <td>foodkit</td>\n      <td>from typing import TypedDict, Literal, List\\n\\...</td>\n    </tr>\n  </tbody>\n</table>\n</div>"
     },
     "execution_count": 10,
     "metadata": {},
     "output_type": "execute_result"
    }
   ],
   "source": [
    "df_test_data.drop(columns=[\"sdk_code\", \"types_code\"], inplace=True)\n",
    "df_test_data.head()"
   ],
   "metadata": {
    "collapsed": false,
    "ExecuteTime": {
     "end_time": "2024-06-18T17:19:57.493255100Z",
     "start_time": "2024-06-18T17:19:57.386946600Z"
    }
   },
   "id": "ef2fbab8152a1e01",
   "execution_count": 10
  },
  {
   "cell_type": "code",
   "outputs": [],
   "source": [
    "# fine_tuned_responses_pipeline = [\n",
    "#     {\n",
    "#         \"$match\": {\n",
    "#             \"payload.model\": \"ft:gpt-3.5-turbo-0125:eden-ai::9UxoYDO3\",\n",
    "#             \"step\": \"final_code\",\n",
    "#             \"response.choices\": {\n",
    "#                 \"$size\": 1\n",
    "#             },\n",
    "#             \"response.choices.0.finish_reason\": \"stop\"\n",
    "#         }\n",
    "#     },\n",
    "#     {\n",
    "#         \"$sort\": {\n",
    "#             \"_id\": 1\n",
    "#         }\n",
    "#     },\n",
    "#     {\n",
    "#         \"$group\": {\n",
    "#             \"_id\": \"$sdk_name\",\n",
    "#             \"last_document\": { \"$last\": \"$$ROOT\" }\n",
    "#         }\n",
    "#     },\n",
    "#     {\n",
    "#         \"$replaceRoot\": { \"newRoot\": \"$last_document\" }\n",
    "#     },\n",
    "#     {\n",
    "#         \"$project\": {\n",
    "#             \"_id\": 0,\n",
    "#             \"sdk_name\": 1,\n",
    "#             \"last_response_text\": { \"$arrayElemAt\": [\"$response.choices.message.content\", 0] }\n",
    "#         }\n",
    "#     }\n",
    "# ]\n",
    "# fine_tuned_responses = list(db['responses'].aggregate(fine_tuned_responses_pipeline))\n",
    "#\n",
    "# fine_tuned_responses = pd.DataFrame(fine_tuned_responses)\n",
    "# fine_tuned_responses"
   ],
   "metadata": {
    "collapsed": false,
    "ExecuteTime": {
     "end_time": "2024-06-18T17:19:57.494253900Z",
     "start_time": "2024-06-18T17:19:57.394900100Z"
    }
   },
   "id": "5f24853b083ca948",
   "execution_count": 11
  },
  {
   "cell_type": "code",
   "outputs": [],
   "source": [
    "user_rules = \"1. Use the requests library: All HTTP requests within the SDK must be made using the 'requests' library.\\n2. Class structure: The SDK must be a class, with each method representing an endpoint in the API. Choose method names that reflect the action or resource they interact with.\\n3. Authenticated requests: Implement a method '_make_authenticated_request' to handle authenticated requests.\\n4. JSON request body: Use JSON format for the body of all requests.\\n5. Return type: All methods must return the 'Response' object from the 'requests' library.\"\n",
    "\n",
    "\n",
    "def get_generated_code(sdk_name):\n",
    "    try:\n",
    "        sdk_name_path = GENERATED_SDK_DIR / sdk_name / f\"{sdk_name}.py\"\n",
    "        types_code_path = GENERATED_SDK_DIR / sdk_name / f\"types.py\"\n",
    "        sdk_code = sdk_name_path.read_text()\n",
    "        types_code = types_code_path.read_text() if types_code_path.exists() else \"\"\n",
    "        return merge_code(sdk_code, types_code)\n",
    "    except FileNotFoundError:\n",
    "        print(f\"Generating SDK for {sdk_name}\")\n",
    "        spec_path = None\n",
    "        for file in SPECIFICATIONS_DIR.iterdir():\n",
    "            if sdk_name in file.name:\n",
    "                spec_path = file\n",
    "                break\n",
    "        if spec_path is None:\n",
    "            raise Exception(f\"Specification file for {sdk_name} not found\")\n",
    "        try:\n",
    "            _, sdk_output_file, types_output_file = generate_sdk(\n",
    "                spec_path, user_rules=user_rules\n",
    "            )\n",
    "        except Exception as e:\n",
    "            print(f\"Error generating SDK for {sdk_name}: {e}\")\n",
    "            return None\n",
    "        if sdk_output_file is None:\n",
    "            return None\n",
    "        sdk_code = sdk_output_file.read_text()\n",
    "        types_code = types_output_file.read_text() if types_output_file else \"\"\n",
    "\n",
    "        return merge_code(sdk_code, types_code)\n",
    "\n",
    "\n",
    "df_test_data[\"llm_answer\"] = df_test_data[\"sdk_name\"].apply(get_generated_code)"
   ],
   "metadata": {
    "collapsed": false,
    "ExecuteTime": {
     "end_time": "2024-06-18T17:19:57.496263500Z",
     "start_time": "2024-06-18T17:19:57.399661800Z"
    }
   },
   "id": "cf6457ed2884b2a3",
   "execution_count": 12
  },
  {
   "cell_type": "code",
   "outputs": [
    {
     "data": {
      "text/plain": "       sdk_name                                             answer  \\\n0  adatree_data  from typing import TypedDict, List, Literal, O...   \n1       baseten  from typing import TypedDict, Optional\\n\\nclas...   \n2        flickr  import requests\\nfrom typing import Optional, ...   \n3        milefy  from typing import List, TypedDict, Union, Lit...   \n4       foodkit  from typing import TypedDict, Literal, List\\n\\...   \n\n                                          llm_answer  \n0  from typing import TypedDict, List, Literal\\n\\...  \n1  from typing import TypedDict, Optional\\n\\n\\ncl...  \n2  import requests\\nfrom typing import Optional, ...  \n3  from typing import List, TypedDict, Literal\\nf...  \n4  from typing import TypedDict, Literal, List\\n\\...  ",
      "text/html": "<div>\n<style scoped>\n    .dataframe tbody tr th:only-of-type {\n        vertical-align: middle;\n    }\n\n    .dataframe tbody tr th {\n        vertical-align: top;\n    }\n\n    .dataframe thead th {\n        text-align: right;\n    }\n</style>\n<table border=\"1\" class=\"dataframe\">\n  <thead>\n    <tr style=\"text-align: right;\">\n      <th></th>\n      <th>sdk_name</th>\n      <th>answer</th>\n      <th>llm_answer</th>\n    </tr>\n  </thead>\n  <tbody>\n    <tr>\n      <th>0</th>\n      <td>adatree_data</td>\n      <td>from typing import TypedDict, List, Literal, O...</td>\n      <td>from typing import TypedDict, List, Literal\\n\\...</td>\n    </tr>\n    <tr>\n      <th>1</th>\n      <td>baseten</td>\n      <td>from typing import TypedDict, Optional\\n\\nclas...</td>\n      <td>from typing import TypedDict, Optional\\n\\n\\ncl...</td>\n    </tr>\n    <tr>\n      <th>2</th>\n      <td>flickr</td>\n      <td>import requests\\nfrom typing import Optional, ...</td>\n      <td>import requests\\nfrom typing import Optional, ...</td>\n    </tr>\n    <tr>\n      <th>3</th>\n      <td>milefy</td>\n      <td>from typing import List, TypedDict, Union, Lit...</td>\n      <td>from typing import List, TypedDict, Literal\\nf...</td>\n    </tr>\n    <tr>\n      <th>4</th>\n      <td>foodkit</td>\n      <td>from typing import TypedDict, Literal, List\\n\\...</td>\n      <td>from typing import TypedDict, Literal, List\\n\\...</td>\n    </tr>\n  </tbody>\n</table>\n</div>"
     },
     "execution_count": 13,
     "metadata": {},
     "output_type": "execute_result"
    }
   ],
   "source": [
    "df_test_data.head()"
   ],
   "metadata": {
    "collapsed": false,
    "ExecuteTime": {
     "end_time": "2024-06-18T17:19:57.497254300Z",
     "start_time": "2024-06-18T17:19:57.413717400Z"
    }
   },
   "id": "8e2bb41f05c003b",
   "execution_count": 13
  },
  {
   "cell_type": "markdown",
   "source": [
    "## Get ChatGPT generated code"
   ],
   "metadata": {
    "collapsed": false
   },
   "id": "516c4b85f44bd86f"
  },
  {
   "cell_type": "code",
   "outputs": [
    {
     "data": {
      "text/plain": "             sdk_name                             chatgpt_generated_code\n0  1-password_connect  from typing import TypedDict, NotRequired, Lit...\n1             2-c-2-p  from typing import TypedDict, Optional, List, ...\n2     adatree_banking  import requests\\n\\n\\nclass APIClient:\\n    def...\n3     adatree_consent  from typing import TypedDict, Literal, Union, ...\n4            affinity  import requests\\n\\n\\nclass AffinityAPIClient:\\...",
      "text/html": "<div>\n<style scoped>\n    .dataframe tbody tr th:only-of-type {\n        vertical-align: middle;\n    }\n\n    .dataframe tbody tr th {\n        vertical-align: top;\n    }\n\n    .dataframe thead th {\n        text-align: right;\n    }\n</style>\n<table border=\"1\" class=\"dataframe\">\n  <thead>\n    <tr style=\"text-align: right;\">\n      <th></th>\n      <th>sdk_name</th>\n      <th>chatgpt_generated_code</th>\n    </tr>\n  </thead>\n  <tbody>\n    <tr>\n      <th>0</th>\n      <td>1-password_connect</td>\n      <td>from typing import TypedDict, NotRequired, Lit...</td>\n    </tr>\n    <tr>\n      <th>1</th>\n      <td>2-c-2-p</td>\n      <td>from typing import TypedDict, Optional, List, ...</td>\n    </tr>\n    <tr>\n      <th>2</th>\n      <td>adatree_banking</td>\n      <td>import requests\\n\\n\\nclass APIClient:\\n    def...</td>\n    </tr>\n    <tr>\n      <th>3</th>\n      <td>adatree_consent</td>\n      <td>from typing import TypedDict, Literal, Union, ...</td>\n    </tr>\n    <tr>\n      <th>4</th>\n      <td>affinity</td>\n      <td>import requests\\n\\n\\nclass AffinityAPIClient:\\...</td>\n    </tr>\n  </tbody>\n</table>\n</div>"
     },
     "execution_count": 14,
     "metadata": {},
     "output_type": "execute_result"
    }
   ],
   "source": [
    "def get_chatgpt_generated_sdks():\n",
    "    chatgpt_generated_sdks = {}\n",
    "    for sdk_dir in GPT_GENERATED_SDKS_DIR.iterdir():\n",
    "        sdk_name = sdk_dir.name\n",
    "        sdk_code = (sdk_dir / f\"{sdk_name}.py\").read_text()\n",
    "        types_code = (\n",
    "            (sdk_dir / \"types.py\").read_text()\n",
    "            if (sdk_dir / \"types.py\").exists()\n",
    "            else \"\"\n",
    "        )\n",
    "        chatgpt_generated_sdks[sdk_name] = merge_code(sdk_code, types_code)\n",
    "\n",
    "    return chatgpt_generated_sdks\n",
    "\n",
    "\n",
    "chatgpt_sdks_df = pd.DataFrame(\n",
    "    get_chatgpt_generated_sdks().items(), columns=[\"sdk_name\", \"chatgpt_generated_code\"]\n",
    ")\n",
    "chatgpt_sdks_df.head()"
   ],
   "metadata": {
    "collapsed": false,
    "ExecuteTime": {
     "end_time": "2024-06-18T17:19:57.511261400Z",
     "start_time": "2024-06-18T17:19:57.419009Z"
    }
   },
   "id": "647d1b920dc49c2b",
   "execution_count": 14
  },
  {
   "cell_type": "markdown",
   "source": [
    "## Get Answers for ChatGPT generated code"
   ],
   "metadata": {
    "collapsed": false
   },
   "id": "9e6c8b6d0c56e438"
  },
  {
   "cell_type": "code",
   "outputs": [
    {
     "data": {
      "text/plain": "             sdk_name                             chatgpt_generated_code  \\\n0  1-password_connect  from typing import TypedDict, NotRequired, Lit...   \n1             2-c-2-p  from typing import TypedDict, Optional, List, ...   \n2     adatree_banking  import requests\\n\\n\\nclass APIClient:\\n    def...   \n3     adatree_consent  from typing import TypedDict, Literal, Union, ...   \n4            affinity  import requests\\n\\n\\nclass AffinityAPIClient:\\...   \n\n                                              answer  \n0  from typing import TypedDict, List, Union, Lit...  \n1  from typing import TypedDict, Optional, List, ...  \n2  import requests\\nimport json\\nfrom typing impo...  \n3  from typing import TypedDict, Literal, Optiona...  \n4  import json\\nimport requests\\n\\nclass Affinity...  ",
      "text/html": "<div>\n<style scoped>\n    .dataframe tbody tr th:only-of-type {\n        vertical-align: middle;\n    }\n\n    .dataframe tbody tr th {\n        vertical-align: top;\n    }\n\n    .dataframe thead th {\n        text-align: right;\n    }\n</style>\n<table border=\"1\" class=\"dataframe\">\n  <thead>\n    <tr style=\"text-align: right;\">\n      <th></th>\n      <th>sdk_name</th>\n      <th>chatgpt_generated_code</th>\n      <th>answer</th>\n    </tr>\n  </thead>\n  <tbody>\n    <tr>\n      <th>0</th>\n      <td>1-password_connect</td>\n      <td>from typing import TypedDict, NotRequired, Lit...</td>\n      <td>from typing import TypedDict, List, Union, Lit...</td>\n    </tr>\n    <tr>\n      <th>1</th>\n      <td>2-c-2-p</td>\n      <td>from typing import TypedDict, Optional, List, ...</td>\n      <td>from typing import TypedDict, Optional, List, ...</td>\n    </tr>\n    <tr>\n      <th>2</th>\n      <td>adatree_banking</td>\n      <td>import requests\\n\\n\\nclass APIClient:\\n    def...</td>\n      <td>import requests\\nimport json\\nfrom typing impo...</td>\n    </tr>\n    <tr>\n      <th>3</th>\n      <td>adatree_consent</td>\n      <td>from typing import TypedDict, Literal, Union, ...</td>\n      <td>from typing import TypedDict, Literal, Optiona...</td>\n    </tr>\n    <tr>\n      <th>4</th>\n      <td>affinity</td>\n      <td>import requests\\n\\n\\nclass AffinityAPIClient:\\...</td>\n      <td>import json\\nimport requests\\n\\nclass Affinity...</td>\n    </tr>\n  </tbody>\n</table>\n</div>"
     },
     "execution_count": 15,
     "metadata": {},
     "output_type": "execute_result"
    }
   ],
   "source": [
    "chatgpt_sdks_df[\"answer\"] = chatgpt_sdks_df[\"sdk_name\"].apply(\n",
    "    lambda x: df_test_data[df_test_data[\"sdk_name\"] == x][\"answer\"].values[0]\n",
    ")\n",
    "chatgpt_sdks_df.head()"
   ],
   "metadata": {
    "collapsed": false,
    "ExecuteTime": {
     "end_time": "2024-06-18T17:19:57.528260Z",
     "start_time": "2024-06-18T17:19:57.428019300Z"
    }
   },
   "id": "cf1b91b33aed1b40",
   "execution_count": 15
  },
  {
   "cell_type": "markdown",
   "source": [
    "# Evaluation"
   ],
   "metadata": {
    "collapsed": false
   },
   "id": "287c3c8a07329119"
  },
  {
   "cell_type": "code",
   "outputs": [],
   "source": [
    "from nltk.translate.bleu_score import corpus_bleu\n",
    "from rouge_score import rouge_scorer\n",
    "from codebleu import calc_codebleu\n",
    "from sdkgenerator.types import Language\n",
    "from sdkgenerator.config import AGENT"
   ],
   "metadata": {
    "collapsed": false,
    "ExecuteTime": {
     "end_time": "2024-06-18T17:19:57.906648900Z",
     "start_time": "2024-06-18T17:19:57.438259500Z"
    }
   },
   "id": "d924a95e085e1713",
   "execution_count": 16
  },
  {
   "cell_type": "markdown",
   "source": [
    "## BLEU Score"
   ],
   "metadata": {
    "collapsed": false
   },
   "id": "3863e6c73155fc7f"
  },
  {
   "cell_type": "code",
   "outputs": [],
   "source": [
    "def calculate_bleu_score(machine_results, reference_texts):\n",
    "    return corpus_bleu(\n",
    "        [[ref.split()] for ref in reference_texts],\n",
    "        [gen.split() for gen in machine_results],\n",
    "    )"
   ],
   "metadata": {
    "collapsed": false,
    "ExecuteTime": {
     "end_time": "2024-06-18T17:19:57.907647900Z",
     "start_time": "2024-06-18T17:19:57.666138500Z"
    }
   },
   "id": "138492168b20ba8b",
   "execution_count": 17
  },
  {
   "cell_type": "code",
   "outputs": [
    {
     "data": {
      "text/plain": "(0.6613585145955119, 0.12273377476807674)"
     },
     "execution_count": 18,
     "metadata": {},
     "output_type": "execute_result"
    }
   ],
   "source": [
    "bleu_score = calculate_bleu_score(df_test_data[\"llm_answer\"], df_test_data[\"answer\"])\n",
    "gpt_blue_score = calculate_bleu_score(\n",
    "    chatgpt_sdks_df[\"chatgpt_generated_code\"], chatgpt_sdks_df[\"answer\"]\n",
    ")\n",
    "bleu_score, gpt_blue_score"
   ],
   "metadata": {
    "collapsed": false,
    "ExecuteTime": {
     "end_time": "2024-06-18T17:19:57.981696700Z",
     "start_time": "2024-06-18T17:19:57.670652Z"
    }
   },
   "id": "1a473308fcb5db5b",
   "execution_count": 18
  },
  {
   "cell_type": "markdown",
   "source": [
    "## ROUGE Score"
   ],
   "metadata": {
    "collapsed": false
   },
   "id": "dddcc317e444950e"
  },
  {
   "cell_type": "code",
   "outputs": [],
   "source": [
    "def calculate_rouge_score(machine_results, reference_texts):\n",
    "    scorer = rouge_scorer.RougeScorer([\"rouge1\", \"rouge2\", \"rougeL\"], use_stemmer=True)\n",
    "    scores = [\n",
    "        scorer.score(ref, gen) for ref, gen in zip(reference_texts, machine_results)\n",
    "    ]\n",
    "    rouge1 = sum(score[\"rouge1\"].fmeasure for score in scores) / len(scores)\n",
    "    rouge2 = sum(score[\"rouge2\"].fmeasure for score in scores) / len(scores)\n",
    "    rougeL = sum(score[\"rougeL\"].fmeasure for score in scores) / len(scores)\n",
    "    return {\"rouge1\": rouge1, \"rouge2\": rouge2, \"rougeL\": rougeL}"
   ],
   "metadata": {
    "collapsed": false,
    "ExecuteTime": {
     "end_time": "2024-06-18T17:19:57.984706300Z",
     "start_time": "2024-06-18T17:19:57.794900Z"
    }
   },
   "id": "5653f99e21db46e6",
   "execution_count": 19
  },
  {
   "cell_type": "code",
   "outputs": [
    {
     "data": {
      "text/plain": "({'rouge1': 0.913606836349474,\n  'rouge2': 0.8757805708282291,\n  'rougeL': 0.8912410022746832},\n {'rouge1': 0.5489451398277451,\n  'rouge2': 0.35441656174138353,\n  'rougeL': 0.48240295208300066})"
     },
     "execution_count": 20,
     "metadata": {},
     "output_type": "execute_result"
    }
   ],
   "source": [
    "rouge_score = calculate_rouge_score(df_test_data[\"llm_answer\"], df_test_data[\"answer\"])\n",
    "gpt_rouge_score = calculate_rouge_score(\n",
    "    chatgpt_sdks_df[\"chatgpt_generated_code\"], chatgpt_sdks_df[\"answer\"]\n",
    ")\n",
    "rouge_score, gpt_rouge_score"
   ],
   "metadata": {
    "collapsed": false,
    "ExecuteTime": {
     "end_time": "2024-06-18T17:20:00.973856200Z",
     "start_time": "2024-06-18T17:19:57.798453100Z"
    }
   },
   "id": "d76f9fef4515a6a5",
   "execution_count": 20
  },
  {
   "cell_type": "markdown",
   "source": [
    "## Code BLEU Score"
   ],
   "metadata": {
    "collapsed": false
   },
   "id": "63087238087db567"
  },
  {
   "cell_type": "code",
   "outputs": [],
   "source": [
    "def calculate_code_bleu(machine_results, reference_texts, lang: Language):\n",
    "    return calc_codebleu(reference_texts, machine_results, lang=lang)"
   ],
   "metadata": {
    "collapsed": false,
    "ExecuteTime": {
     "end_time": "2024-06-18T17:20:00.975891200Z",
     "start_time": "2024-06-18T17:20:00.973856200Z"
    }
   },
   "id": "2c7f6d4a414c48af",
   "execution_count": 21
  },
  {
   "cell_type": "code",
   "outputs": [
    {
     "data": {
      "text/plain": "({'codebleu': 0.8056921519460951,\n  'ngram_match_score': 0.6613585145955119,\n  'weighted_ngram_match_score': 0.7445710734287818,\n  'syntax_match_score': 0.9552276453525035,\n  'dataflow_match_score': 0.861611374407583},\n {'codebleu': 0.2945107012977473,\n  'ngram_match_score': 0.12273377476807674,\n  'weighted_ngram_match_score': 0.13959846895992395,\n  'syntax_match_score': 0.6749338624338624,\n  'dataflow_match_score': 0.2407766990291262})"
     },
     "execution_count": 22,
     "metadata": {},
     "output_type": "execute_result"
    }
   ],
   "source": [
    "code_bleu_score = calculate_code_bleu(\n",
    "    df_test_data[\"llm_answer\"], df_test_data[\"answer\"], \"python\"\n",
    ")\n",
    "gpt_code_bleu_score = calculate_code_bleu(\n",
    "    chatgpt_sdks_df[\"chatgpt_generated_code\"], chatgpt_sdks_df[\"answer\"], \"python\"\n",
    ")\n",
    "code_bleu_score, gpt_code_bleu_score"
   ],
   "metadata": {
    "collapsed": false,
    "ExecuteTime": {
     "end_time": "2024-06-18T17:20:01.648393400Z",
     "start_time": "2024-06-18T17:20:00.975891200Z"
    }
   },
   "id": "d5171f72812ef0f4",
   "execution_count": 22
  },
  {
   "cell_type": "code",
   "outputs": [
    {
     "data": {
      "text/plain": "                            ft:gpt-3.5-turbo-0125:eden-ai::9UxoYDO3  \\\nbleu                                                       0.661359   \nrouge1                                                     0.913607   \nrouge2                                                     0.875781   \nrougeL                                                     0.891241   \ncodebleu                                                   0.805692   \nngram_match_score                                          0.661359   \nweighted_ngram_match_score                                 0.744571   \nsyntax_match_score                                         0.955228   \ndataflow_match_score                                       0.861611   \n\n                            GPT-3.5-turbo  \nbleu                             0.122734  \nrouge1                           0.548945  \nrouge2                           0.354417  \nrougeL                           0.482403  \ncodebleu                         0.294511  \nngram_match_score                0.122734  \nweighted_ngram_match_score       0.139598  \nsyntax_match_score               0.674934  \ndataflow_match_score             0.240777  ",
      "text/html": "<div>\n<style scoped>\n    .dataframe tbody tr th:only-of-type {\n        vertical-align: middle;\n    }\n\n    .dataframe tbody tr th {\n        vertical-align: top;\n    }\n\n    .dataframe thead th {\n        text-align: right;\n    }\n</style>\n<table border=\"1\" class=\"dataframe\">\n  <thead>\n    <tr style=\"text-align: right;\">\n      <th></th>\n      <th>ft:gpt-3.5-turbo-0125:eden-ai::9UxoYDO3</th>\n      <th>GPT-3.5-turbo</th>\n    </tr>\n  </thead>\n  <tbody>\n    <tr>\n      <th>bleu</th>\n      <td>0.661359</td>\n      <td>0.122734</td>\n    </tr>\n    <tr>\n      <th>rouge1</th>\n      <td>0.913607</td>\n      <td>0.548945</td>\n    </tr>\n    <tr>\n      <th>rouge2</th>\n      <td>0.875781</td>\n      <td>0.354417</td>\n    </tr>\n    <tr>\n      <th>rougeL</th>\n      <td>0.891241</td>\n      <td>0.482403</td>\n    </tr>\n    <tr>\n      <th>codebleu</th>\n      <td>0.805692</td>\n      <td>0.294511</td>\n    </tr>\n    <tr>\n      <th>ngram_match_score</th>\n      <td>0.661359</td>\n      <td>0.122734</td>\n    </tr>\n    <tr>\n      <th>weighted_ngram_match_score</th>\n      <td>0.744571</td>\n      <td>0.139598</td>\n    </tr>\n    <tr>\n      <th>syntax_match_score</th>\n      <td>0.955228</td>\n      <td>0.674934</td>\n    </tr>\n    <tr>\n      <th>dataflow_match_score</th>\n      <td>0.861611</td>\n      <td>0.240777</td>\n    </tr>\n  </tbody>\n</table>\n</div>"
     },
     "execution_count": 23,
     "metadata": {},
     "output_type": "execute_result"
    }
   ],
   "source": [
    "all_scores = {\n",
    "    AGENT[\"final_code\"][\"model\"]: {\n",
    "        \"bleu\": bleu_score,\n",
    "        **rouge_score,\n",
    "        **code_bleu_score,\n",
    "    },\n",
    "    \"GPT-3.5-turbo\": {\"bleu\": gpt_blue_score, **gpt_rouge_score, **gpt_code_bleu_score},\n",
    "}\n",
    "\n",
    "evaluation = pd.DataFrame(all_scores)\n",
    "evaluation"
   ],
   "metadata": {
    "collapsed": false,
    "ExecuteTime": {
     "end_time": "2024-06-18T17:20:01.659617600Z",
     "start_time": "2024-06-18T17:20:01.649397200Z"
    }
   },
   "id": "79818825dcf7a472",
   "execution_count": 23
  },
  {
   "cell_type": "markdown",
   "source": [
    "# Save evaluation"
   ],
   "metadata": {
    "collapsed": false
   },
   "id": "fda3f14a72de1d0c"
  },
  {
   "cell_type": "code",
   "outputs": [],
   "source": [
    "evaluation.to_csv(TEST_DATA_DIR / \"evaluation.csv\", index=False)"
   ],
   "metadata": {
    "collapsed": false,
    "ExecuteTime": {
     "end_time": "2024-06-18T17:20:01.670322900Z",
     "start_time": "2024-06-18T17:20:01.656547200Z"
    }
   },
   "id": "ea8c30bd689fa198",
   "execution_count": 24
  },
  {
   "cell_type": "markdown",
   "source": [
    "# Human Evaluation"
   ],
   "metadata": {
    "collapsed": false
   },
   "id": "e204a4f70449f47b"
  },
  {
   "cell_type": "markdown",
   "source": [
    "Let's compare the generated code with the answer and see if it is correct"
   ],
   "metadata": {
    "collapsed": false
   },
   "id": "60d0149726cc9530"
  },
  {
   "cell_type": "code",
   "outputs": [],
   "source": [
    "from pprint import pprint"
   ],
   "metadata": {
    "collapsed": false,
    "ExecuteTime": {
     "end_time": "2024-06-18T17:20:01.673838Z",
     "start_time": "2024-06-18T17:20:01.669705Z"
    }
   },
   "id": "e773487b603fa04f",
   "execution_count": 25
  },
  {
   "cell_type": "code",
   "outputs": [
    {
     "data": {
      "text/plain": "array(['adatree_data', 'baseten', 'flickr', 'milefy', 'foodkit', 'bity',\n       '2-c-2-p', 'adatree_banking', 'adatree_consent', 'affinity',\n       'finley', 'bluesnap', '1-password_connect', 'apaleo'], dtype=object)"
     },
     "execution_count": 26,
     "metadata": {},
     "output_type": "execute_result"
    }
   ],
   "source": [
    "df_test_data[\"sdk_name\"].values"
   ],
   "metadata": {
    "collapsed": false,
    "ExecuteTime": {
     "end_time": "2024-06-18T17:20:01.703507800Z",
     "start_time": "2024-06-18T17:20:01.672834700Z"
    }
   },
   "id": "3b6b37662244159d",
   "execution_count": 26
  },
  {
   "cell_type": "code",
   "outputs": [],
   "source": [
    "current_sdk_name = \"affinity\"\n",
    "generated_code = get_generated_code(current_sdk_name)\n",
    "gpt_generated_code = chatgpt_sdks_df[chatgpt_sdks_df[\"sdk_name\"] == current_sdk_name][\n",
    "    \"chatgpt_generated_code\"\n",
    "].values[0]\n",
    "answer = df_test_data[df_test_data[\"sdk_name\"] == current_sdk_name][\"answer\"].values[0]"
   ],
   "metadata": {
    "collapsed": false,
    "ExecuteTime": {
     "end_time": "2024-06-18T17:20:01.705496500Z",
     "start_time": "2024-06-18T17:20:01.678430200Z"
    }
   },
   "id": "a5382a506a25724",
   "execution_count": 27
  },
  {
   "cell_type": "code",
   "outputs": [
    {
     "name": "stdout",
     "output_type": "stream",
     "text": [
      "('import requests\\n'\n",
      " '\\n'\n",
      " '\\n'\n",
      " 'class AffinityClient:\\n'\n",
      " '    def __init__(self, api_key):\\n'\n",
      " '        self.api_key = api_key\\n'\n",
      " '        self.base_url = \"https://api.affinity.co\"\\n'\n",
      " '\\n'\n",
      " '    def _make_authenticated_request(self, method, url, **kwargs):\\n'\n",
      " '        headers = {\\n'\n",
      " '            \"Authorization\": f\"Bearer {self.api_key}\",\\n'\n",
      " '            \"Content-Type\": \"application/json\",\\n'\n",
      " '        }\\n'\n",
      " '        response = requests.request(method, url, headers=headers, **kwargs)\\n'\n",
      " '        if response.status_code != 200:\\n'\n",
      " '            raise Exception(f\"Request failed with status code '\n",
      " '{response.status_code}\")\\n'\n",
      " '        return response\\n'\n",
      " '\\n'\n",
      " '    def get_current_user(self):\\n'\n",
      " '        \"\"\"Retrieve the current user\\'s information.\"\"\"\\n'\n",
      " '        url = f\"{self.base_url}/v2/auth/whoami\"\\n'\n",
      " '        return self._make_authenticated_request(\"GET\", url)\\n'\n",
      " '\\n'\n",
      " '    def get_all_companies(self, query_params=None):\\n'\n",
      " '        \"\"\"Retrieve all companies with optional query parameters.\"\"\"\\n'\n",
      " '        url = f\"{self.base_url}/v2/companies\"\\n'\n",
      " '        return self._make_authenticated_request(\"GET\", url, '\n",
      " 'params=query_params)\\n'\n",
      " '\\n'\n",
      " '    def get_company_fields_metadata(self, query_params=None):\\n'\n",
      " '        \"\"\"Retrieve metadata on company fields.\"\"\"\\n'\n",
      " '        url = f\"{self.base_url}/v2/companies/fields\"\\n'\n",
      " '        return self._make_authenticated_request(\"GET\", url, '\n",
      " 'params=query_params)\\n'\n",
      " '\\n'\n",
      " '    def get_single_company(self, company_id, query_params=None):\\n'\n",
      " '        \"\"\"Retrieve a single company by ID.\"\"\"\\n'\n",
      " '        url = f\"{self.base_url}/v2/companies/{company_id}\"\\n'\n",
      " '        return self._make_authenticated_request(\"GET\", url, '\n",
      " 'params=query_params)\\n'\n",
      " '\\n'\n",
      " '    def get_companies_lists_metadata(self, company_id, query_params=None):\\n'\n",
      " '        \"\"\"Retrieve metadata on a company\\'s lists.\"\"\"\\n'\n",
      " '        url = f\"{self.base_url}/v2/companies/{company_id}/lists\"\\n'\n",
      " '        return self._make_authenticated_request(\"GET\", url, '\n",
      " 'params=query_params)\\n'\n",
      " '\\n'\n",
      " '    def get_companies_list_entries(self, company_id, query_params=None):\\n'\n",
      " '        \"\"\"Retrieve a company\\'s list entries.\"\"\"\\n'\n",
      " '        url = f\"{self.base_url}/v2/companies/{company_id}/list-entries\"\\n'\n",
      " '        return self._make_authenticated_request(\"GET\", url, '\n",
      " 'params=query_params)\\n'\n",
      " '\\n'\n",
      " '    def get_all_lists_metadata(self, query_params=None):\\n'\n",
      " '        \"\"\"Retrieve metadata on all lists.\"\"\"\\n'\n",
      " '        url = f\"{self.base_url}/v2/lists\"\\n'\n",
      " '        return self._make_authenticated_request(\"GET\", url, '\n",
      " 'params=query_params)\\n'\n",
      " '\\n'\n",
      " '    def get_all_list_entries(self, list_id, query_params=None):\\n'\n",
      " '        \"\"\"Retrieve all list entries for a specific list.\"\"\"\\n'\n",
      " '        url = f\"{self.base_url}/v2/lists/{list_id}/list-entries\"\\n'\n",
      " '        return self._make_authenticated_request(\"GET\", url, '\n",
      " 'params=query_params)\\n'\n",
      " '\\n'\n",
      " '    def get_metadata_single(self, list_id):\\n'\n",
      " '        \"\"\"Retrieve metadata for a single list.\"\"\"\\n'\n",
      " '        url = f\"{self.base_url}/v2/lists/{list_id}\"\\n'\n",
      " '        return self._make_authenticated_request(\"GET\", url)\\n'\n",
      " '\\n'\n",
      " '    def get_lists_field_metadata(self, list_id, query_params=None):\\n'\n",
      " '        \"\"\"Retrieve metadata on a single list\\'s fields.\"\"\"\\n'\n",
      " '        url = f\"{self.base_url}/v2/lists/{list_id}/fields\"\\n'\n",
      " '        return self._make_authenticated_request(\"GET\", url, '\n",
      " 'params=query_params)\\n'\n",
      " '\\n'\n",
      " '    def get_saved_views_metadata(self, list_id, query_params=None):\\n'\n",
      " '        \"\"\"Retrieve metadata on saved views for a list.\"\"\"\\n'\n",
      " '        url = f\"{self.base_url}/v2/lists/{list_id}/saved-views\"\\n'\n",
      " '        return self._make_authenticated_request(\"GET\", url, '\n",
      " 'params=query_params)\\n'\n",
      " '\\n'\n",
      " '    def get_saved_view_list_entries(self, list_id, view_id, '\n",
      " 'query_params=None):\\n'\n",
      " '        \"\"\"Retrieve all list entries for a specific saved view.\"\"\"\\n'\n",
      " '        url = '\n",
      " 'f\"{self.base_url}/v2/lists/{list_id}/saved-views/{view_id}/list-entries\"\\n'\n",
      " '        return self._make_authenticated_request(\"GET\", url, '\n",
      " 'params=query_params)\\n'\n",
      " '\\n'\n",
      " '    def get_saved_view_metadata(self, list_id, view_id):\\n'\n",
      " '        \"\"\"Retrieve metadata for a single saved view.\"\"\"\\n'\n",
      " '        url = f\"{self.base_url}/v2/lists/{list_id}/saved-views/{view_id}\"\\n'\n",
      " '        return self._make_authenticated_request(\"GET\", url)\\n'\n",
      " '\\n'\n",
      " '    def get_all_opportunities(self, query_params=None):\\n'\n",
      " '        \"\"\"Retrieve all opportunities with optional query parameters.\"\"\"\\n'\n",
      " '        url = f\"{self.base_url}/v2/opportunities\"\\n'\n",
      " '        return self._make_authenticated_request(\"GET\", url, '\n",
      " 'params=query_params)\\n'\n",
      " '\\n'\n",
      " '    def get_opportunity_basic_info(self, opportunity_id):\\n'\n",
      " '        \"\"\"Retrieve basic information for a single opportunity.\"\"\"\\n'\n",
      " '        url = f\"{self.base_url}/v2/opportunities/{opportunity_id}\"\\n'\n",
      " '        return self._make_authenticated_request(\"GET\", url)\\n'\n",
      " '\\n'\n",
      " '    def get_all_persons(self, query_params=None):\\n'\n",
      " '        \"\"\"Retrieve all persons with optional query parameters.\"\"\"\\n'\n",
      " '        url = f\"{self.base_url}/v2/persons\"\\n'\n",
      " '        return self._make_authenticated_request(\"GET\", url, '\n",
      " 'params=query_params)\\n'\n",
      " '\\n'\n",
      " '    def get_persons_metadata(self, query_params=None):\\n'\n",
      " '        \"\"\"Retrieve metadata on person fields.\"\"\"\\n'\n",
      " '        url = f\"{self.base_url}/v2/persons/fields\"\\n'\n",
      " '        return self._make_authenticated_request(\"GET\", url, '\n",
      " 'params=query_params)\\n'\n",
      " '\\n'\n",
      " '    def get_person_field_data(self, person_id, query_params=None):\\n'\n",
      " '        \"\"\"Retrieve field data for a single person.\"\"\"\\n'\n",
      " '        url = f\"{self.base_url}/v2/persons/{person_id}\"\\n'\n",
      " '        return self._make_authenticated_request(\"GET\", url, '\n",
      " 'params=query_params)\\n'\n",
      " '\\n'\n",
      " '    def get_persons_lists_metadata(self, person_id, query_params=None):\\n'\n",
      " '        \"\"\"Retrieve metadata on a person\\'s lists.\"\"\"\\n'\n",
      " '        url = f\"{self.base_url}/v2/persons/{person_id}/lists\"\\n'\n",
      " '        return self._make_authenticated_request(\"GET\", url, '\n",
      " 'params=query_params)\\n'\n",
      " '\\n'\n",
      " '    def paginate_person_entries(self, person_id, query_params=None):\\n'\n",
      " '        \"\"\"Retrieve a person\\'s list entries with pagination.\"\"\"\\n'\n",
      " '        url = f\"{self.base_url}/v2/persons/{person_id}/list-entries\"\\n'\n",
      " '        return self._make_authenticated_request(\"GET\", url, '\n",
      " 'params=query_params)\\n')\n"
     ]
    }
   ],
   "source": [
    "pprint(generated_code)"
   ],
   "metadata": {
    "collapsed": false,
    "ExecuteTime": {
     "end_time": "2024-06-18T17:20:01.785721Z",
     "start_time": "2024-06-18T17:20:01.685496Z"
    }
   },
   "id": "655a6a46bd5dac4c",
   "execution_count": 28
  },
  {
   "cell_type": "code",
   "outputs": [
    {
     "name": "stdout",
     "output_type": "stream",
     "text": [
      "('import json\\n'\n",
      " 'import requests\\n'\n",
      " '\\n'\n",
      " 'class AffinityClient:\\n'\n",
      " '    def __init__(self, api_key):\\n'\n",
      " '        self.api_key = api_key\\n'\n",
      " '        self.base_url = \"https://api.affinity.co\"\\n'\n",
      " '\\n'\n",
      " '    def _make_authenticated_request(self, method, url, **kwargs):\\n'\n",
      " '        headers = {\\n'\n",
      " '            \"Authorization\": f\"Bearer {self.api_key}\",\\n'\n",
      " '            \"Content-Type\": \"application/json\"\\n'\n",
      " '        }\\n'\n",
      " '        response = requests.request(method, url, headers=headers, **kwargs)\\n'\n",
      " '        if response.status_code != 200:\\n'\n",
      " '            raise Exception(f\"Request failed with status code '\n",
      " '{response.status_code}\")\\n'\n",
      " '        return response\\n'\n",
      " '\\n'\n",
      " '    def get_current_user(self):\\n'\n",
      " '        \"\"\"Retrieve the current user\\'s information.\"\"\"\\n'\n",
      " '        url = f\"{self.base_url}/v2/auth/whoami\"\\n'\n",
      " '        return self._make_authenticated_request(\"GET\", url)\\n'\n",
      " '\\n'\n",
      " '    def get_all_companies(self, query_params=None):\\n'\n",
      " '        \"\"\"Retrieve all companies with optional query parameters.\"\"\"\\n'\n",
      " '        url = f\"{self.base_url}/v2/companies\"\\n'\n",
      " '        return self._make_authenticated_request(\"GET\", url, '\n",
      " 'params=query_params)\\n'\n",
      " '\\n'\n",
      " '    def get_company_fields_metadata(self, query_params=None):\\n'\n",
      " '        \"\"\"Retrieve metadata on company fields.\"\"\"\\n'\n",
      " '        url = f\"{self.base_url}/v2/companies/fields\"\\n'\n",
      " '        return self._make_authenticated_request(\"GET\", url, '\n",
      " 'params=query_params)\\n'\n",
      " '\\n'\n",
      " '    def get_single_company(self, company_id, query_params=None):\\n'\n",
      " '        \"\"\"Retrieve a single company by ID.\"\"\"\\n'\n",
      " '        url = f\"{self.base_url}/v2/companies/{company_id}\"\\n'\n",
      " '        return self._make_authenticated_request(\"GET\", url, '\n",
      " 'params=query_params)\\n'\n",
      " '\\n'\n",
      " '    def get_companies_lists_metadata(self, company_id, query_params=None):\\n'\n",
      " '        \"\"\"Retrieve metadata on a company\\'s lists.\"\"\"\\n'\n",
      " '        url = f\"{self.base_url}/v2/companies/{company_id}/lists\"\\n'\n",
      " '        return self._make_authenticated_request(\"GET\", url, '\n",
      " 'params=query_params)\\n'\n",
      " '\\n'\n",
      " '    def get_companies_list_entries(self, company_id, query_params=None):\\n'\n",
      " '        \"\"\"Retrieve a company\\'s list entries.\"\"\"\\n'\n",
      " '        url = f\"{self.base_url}/v2/companies/{company_id}/list-entries\"\\n'\n",
      " '        return self._make_authenticated_request(\"GET\", url, '\n",
      " 'params=query_params)\\n'\n",
      " '\\n'\n",
      " '    def get_all_lists_metadata(self, query_params=None):\\n'\n",
      " '        \"\"\"Retrieve metadata on all lists.\"\"\"\\n'\n",
      " '        url = f\"{self.base_url}/v2/lists\"\\n'\n",
      " '        return self._make_authenticated_request(\"GET\", url, '\n",
      " 'params=query_params)\\n'\n",
      " '\\n'\n",
      " '    def get_all_list_entries(self, list_id, query_params=None):\\n'\n",
      " '        \"\"\"Retrieve all list entries for a specific list.\"\"\"\\n'\n",
      " '        url = f\"{self.base_url}/v2/lists/{list_id}/list-entries\"\\n'\n",
      " '        return self._make_authenticated_request(\"GET\", url, '\n",
      " 'params=query_params)\\n'\n",
      " '\\n'\n",
      " '    def get_metadata_single(self, list_id):\\n'\n",
      " '        \"\"\"Retrieve metadata for a single list.\"\"\"\\n'\n",
      " '        url = f\"{self.base_url}/v2/lists/{list_id}\"\\n'\n",
      " '        return self._make_authenticated_request(\"GET\", url)\\n'\n",
      " '\\n'\n",
      " '    def get_lists_field_metadata(self, list_id, query_params=None):\\n'\n",
      " '        \"\"\"Retrieve metadata on a single list\\'s fields.\"\"\"\\n'\n",
      " '        url = f\"{self.base_url}/v2/lists/{list_id}/fields\"\\n'\n",
      " '        return self._make_authenticated_request(\"GET\", url, '\n",
      " 'params=query_params)\\n'\n",
      " '\\n'\n",
      " '    def get_saved_views_metadata(self, list_id, query_params=None):\\n'\n",
      " '        \"\"\"Retrieve metadata on saved views for a list.\"\"\"\\n'\n",
      " '        url = f\"{self.base_url}/v2/lists/{list_id}/saved-views\"\\n'\n",
      " '        return self._make_authenticated_request(\"GET\", url, '\n",
      " 'params=query_params)\\n'\n",
      " '\\n'\n",
      " '    def get_saved_view_list_entries(self, list_id, view_id, '\n",
      " 'query_params=None):\\n'\n",
      " '        \"\"\"Retrieve all list entries for a specific saved view.\"\"\"\\n'\n",
      " '        url = '\n",
      " 'f\"{self.base_url}/v2/lists/{list_id}/saved-views/{view_id}/list-entries\"\\n'\n",
      " '        return self._make_authenticated_request(\"GET\", url, '\n",
      " 'params=query_params)\\n'\n",
      " '\\n'\n",
      " '    def get_saved_view_metadata(self, list_id, view_id):\\n'\n",
      " '        \"\"\"Retrieve metadata for a single saved view.\"\"\"\\n'\n",
      " '        url = f\"{self.base_url}/v2/lists/{list_id}/saved-views/{view_id}\"\\n'\n",
      " '        return self._make_authenticated_request(\"GET\", url)\\n'\n",
      " '\\n'\n",
      " '    def get_all_opportunities(self, query_params=None):\\n'\n",
      " '        \"\"\"Retrieve all opportunities with optional query parameters.\"\"\"\\n'\n",
      " '        url = f\"{self.base_url}/v2/opportunities\"\\n'\n",
      " '        return self._make_authenticated_request(\"GET\", url, '\n",
      " 'params=query_params)\\n'\n",
      " '\\n'\n",
      " '    def get_opportunity_basic_info(self, opportunity_id):\\n'\n",
      " '        \"\"\"Retrieve basic information for a single opportunity.\"\"\"\\n'\n",
      " '        url = f\"{self.base_url}/v2/opportunities/{opportunity_id}\"\\n'\n",
      " '        return self._make_authenticated_request(\"GET\", url)\\n'\n",
      " '\\n'\n",
      " '    def get_all_persons(self, query_params=None):\\n'\n",
      " '        \"\"\"Retrieve all persons with optional query parameters.\"\"\"\\n'\n",
      " '        url = f\"{self.base_url}/v2/persons\"\\n'\n",
      " '        return self._make_authenticated_request(\"GET\", url, '\n",
      " 'params=query_params)\\n'\n",
      " '\\n'\n",
      " '    def get_persons_metadata(self, query_params=None):\\n'\n",
      " '        \"\"\"Retrieve metadata on person fields.\"\"\"\\n'\n",
      " '        url = f\"{self.base_url}/v2/persons/fields\"\\n'\n",
      " '        return self._make_authenticated_request(\"GET\", url, '\n",
      " 'params=query_params)\\n'\n",
      " '\\n'\n",
      " '    def get_person_field_data(self, person_id, query_params=None):\\n'\n",
      " '        \"\"\"Retrieve field data for a single person.\"\"\"\\n'\n",
      " '        url = f\"{self.base_url}/v2/persons/{person_id}\"\\n'\n",
      " '        return self._make_authenticated_request(\"GET\", url, '\n",
      " 'params=query_params)\\n'\n",
      " '\\n'\n",
      " '    def get_persons_lists_metadata(self, person_id, query_params=None):\\n'\n",
      " '        \"\"\"Retrieve metadata on a person\\'s lists.\"\"\"\\n'\n",
      " '        url = f\"{self.base_url}/v2/persons/{person_id}/lists\"\\n'\n",
      " '        return self._make_authenticated_request(\"GET\", url, '\n",
      " 'params=query_params)\\n'\n",
      " '\\n'\n",
      " '    def paginate_person_entries(self, person_id, query_params=None):\\n'\n",
      " '        \"\"\"Retrieve a person\\'s list entries with pagination.\"\"\"\\n'\n",
      " '        url = f\"{self.base_url}/v2/persons/{person_id}/list-entries\"\\n'\n",
      " '        return self._make_authenticated_request(\"GET\", url, '\n",
      " 'params=query_params)')\n"
     ]
    }
   ],
   "source": [
    "pprint(answer)"
   ],
   "metadata": {
    "collapsed": false,
    "ExecuteTime": {
     "end_time": "2024-06-18T17:20:01.800735500Z",
     "start_time": "2024-06-18T17:20:01.710866800Z"
    }
   },
   "id": "5b222f982709ea8",
   "execution_count": 29
  },
  {
   "cell_type": "code",
   "outputs": [
    {
     "name": "stdout",
     "output_type": "stream",
     "text": [
      "('import requests\\n'\n",
      " '\\n'\n",
      " '\\n'\n",
      " 'class AffinityAPIClient:\\n'\n",
      " '    def __init__(self, base_url: str, api_key: str):\\n'\n",
      " '        self.base_url = base_url\\n'\n",
      " '        self.api_key = api_key\\n'\n",
      " '\\n'\n",
      " '    def _make_authenticated_request(self, method: str, path: str, params: '\n",
      " 'dict = None):\\n'\n",
      " '        url = f\"{self.base_url}{path}\"\\n'\n",
      " '        headers = {\\n'\n",
      " '            \"Authorization\": f\"Bearer {self.api_key}\",\\n'\n",
      " '            \"Content-Type\": \"application/json\",\\n'\n",
      " '        }\\n'\n",
      " '        response = requests.request(method, url, headers=headers, '\n",
      " 'params=params)\\n'\n",
      " '        return response\\n'\n",
      " '\\n'\n",
      " '    def Auth_getCurrentUser(self):\\n'\n",
      " '        return self._make_authenticated_request(\"GET\", \"/v2/auth/whoami\")\\n'\n",
      " '\\n'\n",
      " '    def Companies_getAll(\\n'\n",
      " '        self,\\n'\n",
      " '        cursor: str = None,\\n'\n",
      " '        limit: int = 100,\\n'\n",
      " '        ids: list[int] = None,\\n'\n",
      " '        fieldIds: list[str] = None,\\n'\n",
      " '        fieldTypes: list[str] = None,\\n'\n",
      " '    ):\\n'\n",
      " '        params = {\\n'\n",
      " '            \"cursor\": cursor,\\n'\n",
      " '            \"limit\": limit,\\n'\n",
      " '            \"ids\": ids,\\n'\n",
      " '            \"fieldIds\": fieldIds,\\n'\n",
      " '            \"fieldTypes\": fieldTypes,\\n'\n",
      " '        }\\n'\n",
      " '        return self._make_authenticated_request(\"GET\", \"/v2/companies\", '\n",
      " 'params=params)\\n'\n",
      " '\\n'\n",
      " '    def Companies_getFieldMetadata(self, cursor: str = None, limit: int = '\n",
      " '100):\\n'\n",
      " '        params = {\"cursor\": cursor, \"limit\": limit}\\n'\n",
      " '        return self._make_authenticated_request(\\n'\n",
      " '            \"GET\", \"/v2/companies/fields\", params=params\\n'\n",
      " '        )\\n'\n",
      " '\\n'\n",
      " '    def Companies_getSingleCompany(\\n'\n",
      " '        self, id: int, fieldIds: list[str] = None, fieldTypes: list[str] = '\n",
      " 'None\\n'\n",
      " '    ):\\n'\n",
      " '        params = {\"fieldIds\": fieldIds, \"fieldTypes\": fieldTypes}\\n'\n",
      " '        path = f\"/v2/companies/{id}\"\\n'\n",
      " '        return self._make_authenticated_request(\"GET\", path, params=params)\\n'\n",
      " '\\n'\n",
      " '    def Companies_getListsMetadata(self, id: int, cursor: str = None, limit: '\n",
      " 'int = 100):\\n'\n",
      " '        params = {\"cursor\": cursor, \"limit\": limit}\\n'\n",
      " '        path = f\"/v2/companies/{id}/lists\"\\n'\n",
      " '        return self._make_authenticated_request(\"GET\", path, params=params)\\n'\n",
      " '\\n'\n",
      " '    def Companies_getListEntries(self, id: int, cursor: str = None, limit: '\n",
      " 'int = 100):\\n'\n",
      " '        params = {\"cursor\": cursor, \"limit\": limit}\\n'\n",
      " '        path = f\"/v2/companies/{id}/list-entries\"\\n'\n",
      " '        return self._make_authenticated_request(\"GET\", path, params=params)\\n'\n",
      " '\\n'\n",
      " '    def Lists_getMetadata(self, cursor: str = None, limit: int = 100):\\n'\n",
      " '        params = {\"cursor\": cursor, \"limit\": limit}\\n'\n",
      " '        return self._make_authenticated_request(\"GET\", \"/v2/lists\", '\n",
      " 'params=params)\\n'\n",
      " '\\n'\n",
      " '    def Lists_getAllListEntries(\\n'\n",
      " '        self,\\n'\n",
      " '        listId: int,\\n'\n",
      " '        cursor: str = None,\\n'\n",
      " '        limit: int = 100,\\n'\n",
      " '        fieldIds: list[str] = None,\\n'\n",
      " '        fieldTypes: list[str] = None,\\n'\n",
      " '    ):\\n'\n",
      " '        params = {\\n'\n",
      " '            \"cursor\": cursor,\\n'\n",
      " '            \"limit\": limit,\\n'\n",
      " '            \"fieldIds\": fieldIds,\\n'\n",
      " '            \"fieldTypes\": fieldTypes,\\n'\n",
      " '        }\\n'\n",
      " '        path = f\"/v2/lists/{listId}/list-entries\"\\n'\n",
      " '        return self._make_authenticated_request(\"GET\", path, params=params)\\n'\n",
      " '\\n'\n",
      " '    def Lists_getMetadataSingle(self, listId: int):\\n'\n",
      " '        path = f\"/v2/lists/{listId}\"\\n'\n",
      " '        return self._make_authenticated_request(\"GET\", path)\\n'\n",
      " '\\n'\n",
      " '    def Lists_getFieldMetadata(self, listId: int, cursor: str = None, limit: '\n",
      " 'int = 100):\\n'\n",
      " '        params = {\"cursor\": cursor, \"limit\": limit}\\n'\n",
      " '        path = f\"/v2/lists/{listId}/fields\"\\n'\n",
      " '        return self._make_authenticated_request(\"GET\", path, params=params)\\n'\n",
      " '\\n'\n",
      " '    def Lists_listSavedViewsMetadata(\\n'\n",
      " '        self, listId: int, cursor: str = None, limit: int = 100\\n'\n",
      " '    ):\\n'\n",
      " '        params = {\"cursor\": cursor, \"limit\": limit}\\n'\n",
      " '        path = f\"/v2/lists/{listId}/saved-views\"\\n'\n",
      " '        return self._make_authenticated_request(\"GET\", path, params=params)\\n'\n",
      " '\\n'\n",
      " '    def Lists_getSavedViewListEntries(\\n'\n",
      " '        self, listId: int, viewId: int, cursor: str = None, limit: int = '\n",
      " '100\\n'\n",
      " '    ):\\n'\n",
      " '        params = {\"cursor\": cursor, \"limit\": limit}\\n'\n",
      " '        path = f\"/v2/lists/{listId}/saved-views/{viewId}/list-entries\"\\n'\n",
      " '        return self._make_authenticated_request(\"GET\", path, params=params)\\n'\n",
      " '\\n'\n",
      " '    def Lists_getSavedViewMetadata(self, listId: int, viewId: int):\\n'\n",
      " '        path = f\"/v2/lists/{listId}/saved-views/{viewId}\"\\n'\n",
      " '        return self._make_authenticated_request(\"GET\", path)\\n'\n",
      " '\\n'\n",
      " '    def Opportunities_getAll(\\n'\n",
      " '        self, cursor: str = None, limit: int = 100, ids: list[int] = None\\n'\n",
      " '    ):\\n'\n",
      " '        params = {\"cursor\": cursor, \"limit\": limit, \"ids\": ids}\\n'\n",
      " '        return self._make_authenticated_request(\\n'\n",
      " '            \"GET\", \"/v2/opportunities\", params=params\\n'\n",
      " '        )\\n'\n",
      " '\\n'\n",
      " '    def Opportunities_getBasicInfo(self, id: int):\\n'\n",
      " '        path = f\"/v2/opportunities/{id}\"\\n'\n",
      " '        return self._make_authenticated_request(\"GET\", path)\\n'\n",
      " '\\n'\n",
      " '    def Persons_getAll(\\n'\n",
      " '        self,\\n'\n",
      " '        cursor: str = None,\\n'\n",
      " '        limit: int = 100,\\n'\n",
      " '        ids: list[int] = None,\\n'\n",
      " '        fieldIds: list[str] = None,\\n'\n",
      " '        fieldTypes: list[str] = None,\\n'\n",
      " '    ):\\n'\n",
      " '        params = {\\n'\n",
      " '            \"cursor\": cursor,\\n'\n",
      " '            \"limit\": limit,\\n'\n",
      " '            \"ids\": ids,\\n'\n",
      " '            \"fieldIds\": fieldIds,\\n'\n",
      " '            \"fieldTypes\": fieldTypes,\\n'\n",
      " '        }\\n'\n",
      " '        return self._make_authenticated_request(\"GET\", \"/v2/persons\", '\n",
      " 'params=params)\\n'\n",
      " '\\n'\n",
      " '    def Persons_getMetadata(self, cursor: str = None, limit: int = 100):\\n'\n",
      " '        params = {\"cursor\": cursor, \"limit\": limit}\\n'\n",
      " '        return self._make_authenticated_request(\\n'\n",
      " '            \"GET\", \"/v2/persons/fields\", params=params\\n'\n",
      " '        )\\n'\n",
      " '\\n'\n",
      " '    def Persons_getPersonFieldData(\\n'\n",
      " '        self, id: int, fieldIds: list[str] = None, fieldTypes: list[str] = '\n",
      " 'None\\n'\n",
      " '    ):\\n'\n",
      " '        params = {\"fieldIds\": fieldIds, \"fieldTypes\": fieldTypes}\\n'\n",
      " '        path = f\"/v2/persons/{id}\"\\n'\n",
      " '        return self._make_authenticated_request(\"GET\", path, params=params)\\n'\n",
      " '\\n'\n",
      " '    def Persons_getListsMetadata(self, id: int, cursor: str = None, limit: '\n",
      " 'int = 100):\\n'\n",
      " '        params = {\"cursor\": cursor, \"limit\": limit}\\n'\n",
      " '        path = f\"/v2/persons/{id}/lists\"\\n'\n",
      " '        return self._make_authenticated_request(\"GET\", path, params=params)\\n'\n",
      " '\\n'\n",
      " '    def Persons_paginateEntries(self, id: int, cursor: str = None, limit: '\n",
      " 'int = 100):\\n'\n",
      " '        params = {\"cursor\": cursor, \"limit\": limit}\\n'\n",
      " '        path = f\"/v2/persons/{id}/list-entries\"\\n'\n",
      " '        return self._make_authenticated_request(\"GET\", path, '\n",
      " 'params=params)\\n')\n"
     ]
    }
   ],
   "source": [
    "pprint(gpt_generated_code)"
   ],
   "metadata": {
    "collapsed": false,
    "ExecuteTime": {
     "end_time": "2024-06-18T17:20:01.801729200Z",
     "start_time": "2024-06-18T17:20:01.715603600Z"
    }
   },
   "id": "a2fc059fd4baaecf",
   "execution_count": 30
  },
  {
   "cell_type": "markdown",
   "source": [
    "## compare the generated code with the answer"
   ],
   "metadata": {
    "collapsed": false
   },
   "id": "548950f8e74e486b"
  },
  {
   "cell_type": "code",
   "outputs": [],
   "source": [
    "from difflib import unified_diff"
   ],
   "metadata": {
    "collapsed": false,
    "ExecuteTime": {
     "end_time": "2024-06-18T17:20:01.803726600Z",
     "start_time": "2024-06-18T17:20:01.724843800Z"
    }
   },
   "id": "64a6418c01df5e77",
   "execution_count": 31
  },
  {
   "cell_type": "code",
   "outputs": [
    {
     "data": {
      "text/plain": "['--- ',\n '+++ ',\n '@@ -1,117 +1,159 @@',\n '-import json',\n ' import requests',\n ' ',\n '-class AffinityClient:',\n '-    def __init__(self, api_key):',\n '+',\n '+class AffinityAPIClient:',\n '+    def __init__(self, base_url: str, api_key: str):',\n '+        self.base_url = base_url',\n '         self.api_key = api_key',\n '-        self.base_url = \"https://api.affinity.co\"',\n ' ',\n '-    def _make_authenticated_request(self, method, url, **kwargs):',\n '+    def _make_authenticated_request(self, method: str, path: str, params: dict = None):',\n '+        url = f\"{self.base_url}{path}\"',\n '         headers = {',\n '             \"Authorization\": f\"Bearer {self.api_key}\",',\n '-            \"Content-Type\": \"application/json\"',\n '+            \"Content-Type\": \"application/json\",',\n '         }',\n '-        response = requests.request(method, url, headers=headers, **kwargs)',\n '-        if response.status_code != 200:',\n '-            raise Exception(f\"Request failed with status code {response.status_code}\")',\n '+        response = requests.request(method, url, headers=headers, params=params)',\n '         return response',\n ' ',\n '-    def get_current_user(self):',\n '-        \"\"\"Retrieve the current user\\'s information.\"\"\"',\n '-        url = f\"{self.base_url}/v2/auth/whoami\"',\n '-        return self._make_authenticated_request(\"GET\", url)',\n '+    def Auth_getCurrentUser(self):',\n '+        return self._make_authenticated_request(\"GET\", \"/v2/auth/whoami\")',\n ' ',\n '-    def get_all_companies(self, query_params=None):',\n '-        \"\"\"Retrieve all companies with optional query parameters.\"\"\"',\n '-        url = f\"{self.base_url}/v2/companies\"',\n '-        return self._make_authenticated_request(\"GET\", url, params=query_params)',\n '+    def Companies_getAll(',\n '+        self,',\n '+        cursor: str = None,',\n '+        limit: int = 100,',\n '+        ids: list[int] = None,',\n '+        fieldIds: list[str] = None,',\n '+        fieldTypes: list[str] = None,',\n '+    ):',\n '+        params = {',\n '+            \"cursor\": cursor,',\n '+            \"limit\": limit,',\n '+            \"ids\": ids,',\n '+            \"fieldIds\": fieldIds,',\n '+            \"fieldTypes\": fieldTypes,',\n '+        }',\n '+        return self._make_authenticated_request(\"GET\", \"/v2/companies\", params=params)',\n ' ',\n '-    def get_company_fields_metadata(self, query_params=None):',\n '-        \"\"\"Retrieve metadata on company fields.\"\"\"',\n '-        url = f\"{self.base_url}/v2/companies/fields\"',\n '-        return self._make_authenticated_request(\"GET\", url, params=query_params)',\n '+    def Companies_getFieldMetadata(self, cursor: str = None, limit: int = 100):',\n '+        params = {\"cursor\": cursor, \"limit\": limit}',\n '+        return self._make_authenticated_request(',\n '+            \"GET\", \"/v2/companies/fields\", params=params',\n '+        )',\n ' ',\n '-    def get_single_company(self, company_id, query_params=None):',\n '-        \"\"\"Retrieve a single company by ID.\"\"\"',\n '-        url = f\"{self.base_url}/v2/companies/{company_id}\"',\n '-        return self._make_authenticated_request(\"GET\", url, params=query_params)',\n '+    def Companies_getSingleCompany(',\n '+        self, id: int, fieldIds: list[str] = None, fieldTypes: list[str] = None',\n '+    ):',\n '+        params = {\"fieldIds\": fieldIds, \"fieldTypes\": fieldTypes}',\n '+        path = f\"/v2/companies/{id}\"',\n '+        return self._make_authenticated_request(\"GET\", path, params=params)',\n ' ',\n '-    def get_companies_lists_metadata(self, company_id, query_params=None):',\n '-        \"\"\"Retrieve metadata on a company\\'s lists.\"\"\"',\n '-        url = f\"{self.base_url}/v2/companies/{company_id}/lists\"',\n '-        return self._make_authenticated_request(\"GET\", url, params=query_params)',\n '+    def Companies_getListsMetadata(self, id: int, cursor: str = None, limit: int = 100):',\n '+        params = {\"cursor\": cursor, \"limit\": limit}',\n '+        path = f\"/v2/companies/{id}/lists\"',\n '+        return self._make_authenticated_request(\"GET\", path, params=params)',\n ' ',\n '-    def get_companies_list_entries(self, company_id, query_params=None):',\n '-        \"\"\"Retrieve a company\\'s list entries.\"\"\"',\n '-        url = f\"{self.base_url}/v2/companies/{company_id}/list-entries\"',\n '-        return self._make_authenticated_request(\"GET\", url, params=query_params)',\n '+    def Companies_getListEntries(self, id: int, cursor: str = None, limit: int = 100):',\n '+        params = {\"cursor\": cursor, \"limit\": limit}',\n '+        path = f\"/v2/companies/{id}/list-entries\"',\n '+        return self._make_authenticated_request(\"GET\", path, params=params)',\n ' ',\n '-    def get_all_lists_metadata(self, query_params=None):',\n '-        \"\"\"Retrieve metadata on all lists.\"\"\"',\n '-        url = f\"{self.base_url}/v2/lists\"',\n '-        return self._make_authenticated_request(\"GET\", url, params=query_params)',\n '+    def Lists_getMetadata(self, cursor: str = None, limit: int = 100):',\n '+        params = {\"cursor\": cursor, \"limit\": limit}',\n '+        return self._make_authenticated_request(\"GET\", \"/v2/lists\", params=params)',\n ' ',\n '-    def get_all_list_entries(self, list_id, query_params=None):',\n '-        \"\"\"Retrieve all list entries for a specific list.\"\"\"',\n '-        url = f\"{self.base_url}/v2/lists/{list_id}/list-entries\"',\n '-        return self._make_authenticated_request(\"GET\", url, params=query_params)',\n '+    def Lists_getAllListEntries(',\n '+        self,',\n '+        listId: int,',\n '+        cursor: str = None,',\n '+        limit: int = 100,',\n '+        fieldIds: list[str] = None,',\n '+        fieldTypes: list[str] = None,',\n '+    ):',\n '+        params = {',\n '+            \"cursor\": cursor,',\n '+            \"limit\": limit,',\n '+            \"fieldIds\": fieldIds,',\n '+            \"fieldTypes\": fieldTypes,',\n '+        }',\n '+        path = f\"/v2/lists/{listId}/list-entries\"',\n '+        return self._make_authenticated_request(\"GET\", path, params=params)',\n ' ',\n '-    def get_metadata_single(self, list_id):',\n '-        \"\"\"Retrieve metadata for a single list.\"\"\"',\n '-        url = f\"{self.base_url}/v2/lists/{list_id}\"',\n '-        return self._make_authenticated_request(\"GET\", url)',\n '+    def Lists_getMetadataSingle(self, listId: int):',\n '+        path = f\"/v2/lists/{listId}\"',\n '+        return self._make_authenticated_request(\"GET\", path)',\n ' ',\n '-    def get_lists_field_metadata(self, list_id, query_params=None):',\n '-        \"\"\"Retrieve metadata on a single list\\'s fields.\"\"\"',\n '-        url = f\"{self.base_url}/v2/lists/{list_id}/fields\"',\n '-        return self._make_authenticated_request(\"GET\", url, params=query_params)',\n '+    def Lists_getFieldMetadata(self, listId: int, cursor: str = None, limit: int = 100):',\n '+        params = {\"cursor\": cursor, \"limit\": limit}',\n '+        path = f\"/v2/lists/{listId}/fields\"',\n '+        return self._make_authenticated_request(\"GET\", path, params=params)',\n ' ',\n '-    def get_saved_views_metadata(self, list_id, query_params=None):',\n '-        \"\"\"Retrieve metadata on saved views for a list.\"\"\"',\n '-        url = f\"{self.base_url}/v2/lists/{list_id}/saved-views\"',\n '-        return self._make_authenticated_request(\"GET\", url, params=query_params)',\n '+    def Lists_listSavedViewsMetadata(',\n '+        self, listId: int, cursor: str = None, limit: int = 100',\n '+    ):',\n '+        params = {\"cursor\": cursor, \"limit\": limit}',\n '+        path = f\"/v2/lists/{listId}/saved-views\"',\n '+        return self._make_authenticated_request(\"GET\", path, params=params)',\n ' ',\n '-    def get_saved_view_list_entries(self, list_id, view_id, query_params=None):',\n '-        \"\"\"Retrieve all list entries for a specific saved view.\"\"\"',\n '-        url = f\"{self.base_url}/v2/lists/{list_id}/saved-views/{view_id}/list-entries\"',\n '-        return self._make_authenticated_request(\"GET\", url, params=query_params)',\n '+    def Lists_getSavedViewListEntries(',\n '+        self, listId: int, viewId: int, cursor: str = None, limit: int = 100',\n '+    ):',\n '+        params = {\"cursor\": cursor, \"limit\": limit}',\n '+        path = f\"/v2/lists/{listId}/saved-views/{viewId}/list-entries\"',\n '+        return self._make_authenticated_request(\"GET\", path, params=params)',\n ' ',\n '-    def get_saved_view_metadata(self, list_id, view_id):',\n '-        \"\"\"Retrieve metadata for a single saved view.\"\"\"',\n '-        url = f\"{self.base_url}/v2/lists/{list_id}/saved-views/{view_id}\"',\n '-        return self._make_authenticated_request(\"GET\", url)',\n '+    def Lists_getSavedViewMetadata(self, listId: int, viewId: int):',\n '+        path = f\"/v2/lists/{listId}/saved-views/{viewId}\"',\n '+        return self._make_authenticated_request(\"GET\", path)',\n ' ',\n '-    def get_all_opportunities(self, query_params=None):',\n '-        \"\"\"Retrieve all opportunities with optional query parameters.\"\"\"',\n '-        url = f\"{self.base_url}/v2/opportunities\"',\n '-        return self._make_authenticated_request(\"GET\", url, params=query_params)',\n '+    def Opportunities_getAll(',\n '+        self, cursor: str = None, limit: int = 100, ids: list[int] = None',\n '+    ):',\n '+        params = {\"cursor\": cursor, \"limit\": limit, \"ids\": ids}',\n '+        return self._make_authenticated_request(',\n '+            \"GET\", \"/v2/opportunities\", params=params',\n '+        )',\n ' ',\n '-    def get_opportunity_basic_info(self, opportunity_id):',\n '-        \"\"\"Retrieve basic information for a single opportunity.\"\"\"',\n '-        url = f\"{self.base_url}/v2/opportunities/{opportunity_id}\"',\n '-        return self._make_authenticated_request(\"GET\", url)',\n '+    def Opportunities_getBasicInfo(self, id: int):',\n '+        path = f\"/v2/opportunities/{id}\"',\n '+        return self._make_authenticated_request(\"GET\", path)',\n ' ',\n '-    def get_all_persons(self, query_params=None):',\n '-        \"\"\"Retrieve all persons with optional query parameters.\"\"\"',\n '-        url = f\"{self.base_url}/v2/persons\"',\n '-        return self._make_authenticated_request(\"GET\", url, params=query_params)',\n '+    def Persons_getAll(',\n '+        self,',\n '+        cursor: str = None,',\n '+        limit: int = 100,',\n '+        ids: list[int] = None,',\n '+        fieldIds: list[str] = None,',\n '+        fieldTypes: list[str] = None,',\n '+    ):',\n '+        params = {',\n '+            \"cursor\": cursor,',\n '+            \"limit\": limit,',\n '+            \"ids\": ids,',\n '+            \"fieldIds\": fieldIds,',\n '+            \"fieldTypes\": fieldTypes,',\n '+        }',\n '+        return self._make_authenticated_request(\"GET\", \"/v2/persons\", params=params)',\n ' ',\n '-    def get_persons_metadata(self, query_params=None):',\n '-        \"\"\"Retrieve metadata on person fields.\"\"\"',\n '-        url = f\"{self.base_url}/v2/persons/fields\"',\n '-        return self._make_authenticated_request(\"GET\", url, params=query_params)',\n '+    def Persons_getMetadata(self, cursor: str = None, limit: int = 100):',\n '+        params = {\"cursor\": cursor, \"limit\": limit}',\n '+        return self._make_authenticated_request(',\n '+            \"GET\", \"/v2/persons/fields\", params=params',\n '+        )',\n ' ',\n '-    def get_person_field_data(self, person_id, query_params=None):',\n '-        \"\"\"Retrieve field data for a single person.\"\"\"',\n '-        url = f\"{self.base_url}/v2/persons/{person_id}\"',\n '-        return self._make_authenticated_request(\"GET\", url, params=query_params)',\n '+    def Persons_getPersonFieldData(',\n '+        self, id: int, fieldIds: list[str] = None, fieldTypes: list[str] = None',\n '+    ):',\n '+        params = {\"fieldIds\": fieldIds, \"fieldTypes\": fieldTypes}',\n '+        path = f\"/v2/persons/{id}\"',\n '+        return self._make_authenticated_request(\"GET\", path, params=params)',\n ' ',\n '-    def get_persons_lists_metadata(self, person_id, query_params=None):',\n '-        \"\"\"Retrieve metadata on a person\\'s lists.\"\"\"',\n '-        url = f\"{self.base_url}/v2/persons/{person_id}/lists\"',\n '-        return self._make_authenticated_request(\"GET\", url, params=query_params)',\n '+    def Persons_getListsMetadata(self, id: int, cursor: str = None, limit: int = 100):',\n '+        params = {\"cursor\": cursor, \"limit\": limit}',\n '+        path = f\"/v2/persons/{id}/lists\"',\n '+        return self._make_authenticated_request(\"GET\", path, params=params)',\n ' ',\n '-    def paginate_person_entries(self, person_id, query_params=None):',\n '-        \"\"\"Retrieve a person\\'s list entries with pagination.\"\"\"',\n '-        url = f\"{self.base_url}/v2/persons/{person_id}/list-entries\"',\n '-        return self._make_authenticated_request(\"GET\", url, params=query_params)',\n '+    def Persons_paginateEntries(self, id: int, cursor: str = None, limit: int = 100):',\n '+        params = {\"cursor\": cursor, \"limit\": limit}',\n '+        path = f\"/v2/persons/{id}/list-entries\"',\n '+        return self._make_authenticated_request(\"GET\", path, params=params)']"
     },
     "execution_count": 32,
     "metadata": {},
     "output_type": "execute_result"
    }
   ],
   "source": [
    "# compare the generated code with the gpt generated code\n",
    "diff = list(\n",
    "    unified_diff(answer.splitlines(), gpt_generated_code.splitlines(), lineterm=\"\")\n",
    ")\n",
    "diff"
   ],
   "metadata": {
    "collapsed": false,
    "ExecuteTime": {
     "end_time": "2024-06-18T17:20:01.823894Z",
     "start_time": "2024-06-18T17:20:01.728517200Z"
    }
   },
   "id": "d8eb4fb42fb3f753",
   "execution_count": 32
  },
  {
   "cell_type": "markdown",
   "source": [
    "# Plotting"
   ],
   "metadata": {
    "collapsed": false
   },
   "id": "218747c82386c8e6"
  },
  {
   "cell_type": "code",
   "outputs": [],
   "source": [
    "import matplotlib.pyplot as plt\n",
    "import seaborn as sns\n",
    "\n",
    "sns.set_style(\"whitegrid\")"
   ],
   "metadata": {
    "collapsed": false,
    "ExecuteTime": {
     "end_time": "2024-06-18T17:20:01.844555Z",
     "start_time": "2024-06-18T17:20:01.736725700Z"
    }
   },
   "id": "5d35f731363a90a4",
   "execution_count": 33
  },
  {
   "cell_type": "code",
   "outputs": [
    {
     "data": {
      "text/plain": "                                     index      bleu    rouge1    rouge2  \\\n0  ft:gpt-3.5-turbo-0125:eden-ai::9UxoYDO3  0.661359  0.913607  0.875781   \n1                            GPT-3.5-turbo  0.122734  0.548945  0.354417   \n\n     rougeL  codebleu  ngram_match_score  weighted_ngram_match_score  \\\n0  0.891241  0.805692           0.661359                    0.744571   \n1  0.482403  0.294511           0.122734                    0.139598   \n\n   syntax_match_score  dataflow_match_score  \n0            0.955228              0.861611  \n1            0.674934              0.240777  ",
      "text/html": "<div>\n<style scoped>\n    .dataframe tbody tr th:only-of-type {\n        vertical-align: middle;\n    }\n\n    .dataframe tbody tr th {\n        vertical-align: top;\n    }\n\n    .dataframe thead th {\n        text-align: right;\n    }\n</style>\n<table border=\"1\" class=\"dataframe\">\n  <thead>\n    <tr style=\"text-align: right;\">\n      <th></th>\n      <th>index</th>\n      <th>bleu</th>\n      <th>rouge1</th>\n      <th>rouge2</th>\n      <th>rougeL</th>\n      <th>codebleu</th>\n      <th>ngram_match_score</th>\n      <th>weighted_ngram_match_score</th>\n      <th>syntax_match_score</th>\n      <th>dataflow_match_score</th>\n    </tr>\n  </thead>\n  <tbody>\n    <tr>\n      <th>0</th>\n      <td>ft:gpt-3.5-turbo-0125:eden-ai::9UxoYDO3</td>\n      <td>0.661359</td>\n      <td>0.913607</td>\n      <td>0.875781</td>\n      <td>0.891241</td>\n      <td>0.805692</td>\n      <td>0.661359</td>\n      <td>0.744571</td>\n      <td>0.955228</td>\n      <td>0.861611</td>\n    </tr>\n    <tr>\n      <th>1</th>\n      <td>GPT-3.5-turbo</td>\n      <td>0.122734</td>\n      <td>0.548945</td>\n      <td>0.354417</td>\n      <td>0.482403</td>\n      <td>0.294511</td>\n      <td>0.122734</td>\n      <td>0.139598</td>\n      <td>0.674934</td>\n      <td>0.240777</td>\n    </tr>\n  </tbody>\n</table>\n</div>"
     },
     "execution_count": 34,
     "metadata": {},
     "output_type": "execute_result"
    }
   ],
   "source": [
    "evaluation_df = evaluation.T\n",
    "evaluation_df.reset_index(inplace=True)\n",
    "evaluation_df"
   ],
   "metadata": {
    "collapsed": false,
    "ExecuteTime": {
     "end_time": "2024-06-18T17:20:01.850555Z",
     "start_time": "2024-06-18T17:20:01.740618Z"
    }
   },
   "id": "89c15827de3bc57",
   "execution_count": 34
  },
  {
   "cell_type": "code",
   "outputs": [
    {
     "data": {
      "text/plain": "                                     model      bleu    rouge1    rouge2  \\\n0  ft:gpt-3.5-turbo-0125:eden-ai::9UxoYDO3  0.661359  0.913607  0.875781   \n1                            GPT-3.5-turbo  0.122734  0.548945  0.354417   \n\n     rougeL  codebleu  ngram_match_score  weighted_ngram_match_score  \\\n0  0.891241  0.805692           0.661359                    0.744571   \n1  0.482403  0.294511           0.122734                    0.139598   \n\n   syntax_match_score  dataflow_match_score  \n0            0.955228              0.861611  \n1            0.674934              0.240777  ",
      "text/html": "<div>\n<style scoped>\n    .dataframe tbody tr th:only-of-type {\n        vertical-align: middle;\n    }\n\n    .dataframe tbody tr th {\n        vertical-align: top;\n    }\n\n    .dataframe thead th {\n        text-align: right;\n    }\n</style>\n<table border=\"1\" class=\"dataframe\">\n  <thead>\n    <tr style=\"text-align: right;\">\n      <th></th>\n      <th>model</th>\n      <th>bleu</th>\n      <th>rouge1</th>\n      <th>rouge2</th>\n      <th>rougeL</th>\n      <th>codebleu</th>\n      <th>ngram_match_score</th>\n      <th>weighted_ngram_match_score</th>\n      <th>syntax_match_score</th>\n      <th>dataflow_match_score</th>\n    </tr>\n  </thead>\n  <tbody>\n    <tr>\n      <th>0</th>\n      <td>ft:gpt-3.5-turbo-0125:eden-ai::9UxoYDO3</td>\n      <td>0.661359</td>\n      <td>0.913607</td>\n      <td>0.875781</td>\n      <td>0.891241</td>\n      <td>0.805692</td>\n      <td>0.661359</td>\n      <td>0.744571</td>\n      <td>0.955228</td>\n      <td>0.861611</td>\n    </tr>\n    <tr>\n      <th>1</th>\n      <td>GPT-3.5-turbo</td>\n      <td>0.122734</td>\n      <td>0.548945</td>\n      <td>0.354417</td>\n      <td>0.482403</td>\n      <td>0.294511</td>\n      <td>0.122734</td>\n      <td>0.139598</td>\n      <td>0.674934</td>\n      <td>0.240777</td>\n    </tr>\n  </tbody>\n</table>\n</div>"
     },
     "execution_count": 35,
     "metadata": {},
     "output_type": "execute_result"
    }
   ],
   "source": [
    "evaluation_df.rename(columns={\"index\": \"model\"}, inplace=True)\n",
    "evaluation_df"
   ],
   "metadata": {
    "collapsed": false,
    "ExecuteTime": {
     "end_time": "2024-06-18T17:20:01.851563200Z",
     "start_time": "2024-06-18T17:20:01.749369200Z"
    }
   },
   "id": "c30a3b86be217045",
   "execution_count": 35
  },
  {
   "cell_type": "code",
   "outputs": [
    {
     "data": {
      "text/plain": "                                      model                      metric  \\\n0   ft:gpt-3.5-turbo-0125:eden-ai::9UxoYDO3                        bleu   \n1                             GPT-3.5-turbo                        bleu   \n2   ft:gpt-3.5-turbo-0125:eden-ai::9UxoYDO3                      rouge1   \n3                             GPT-3.5-turbo                      rouge1   \n4   ft:gpt-3.5-turbo-0125:eden-ai::9UxoYDO3                      rouge2   \n5                             GPT-3.5-turbo                      rouge2   \n6   ft:gpt-3.5-turbo-0125:eden-ai::9UxoYDO3                      rougeL   \n7                             GPT-3.5-turbo                      rougeL   \n8   ft:gpt-3.5-turbo-0125:eden-ai::9UxoYDO3                    codebleu   \n9                             GPT-3.5-turbo                    codebleu   \n10  ft:gpt-3.5-turbo-0125:eden-ai::9UxoYDO3           ngram_match_score   \n11                            GPT-3.5-turbo           ngram_match_score   \n12  ft:gpt-3.5-turbo-0125:eden-ai::9UxoYDO3  weighted_ngram_match_score   \n13                            GPT-3.5-turbo  weighted_ngram_match_score   \n14  ft:gpt-3.5-turbo-0125:eden-ai::9UxoYDO3          syntax_match_score   \n15                            GPT-3.5-turbo          syntax_match_score   \n16  ft:gpt-3.5-turbo-0125:eden-ai::9UxoYDO3        dataflow_match_score   \n17                            GPT-3.5-turbo        dataflow_match_score   \n\n       score  \n0   0.661359  \n1   0.122734  \n2   0.913607  \n3   0.548945  \n4   0.875781  \n5   0.354417  \n6   0.891241  \n7   0.482403  \n8   0.805692  \n9   0.294511  \n10  0.661359  \n11  0.122734  \n12  0.744571  \n13  0.139598  \n14  0.955228  \n15  0.674934  \n16  0.861611  \n17  0.240777  ",
      "text/html": "<div>\n<style scoped>\n    .dataframe tbody tr th:only-of-type {\n        vertical-align: middle;\n    }\n\n    .dataframe tbody tr th {\n        vertical-align: top;\n    }\n\n    .dataframe thead th {\n        text-align: right;\n    }\n</style>\n<table border=\"1\" class=\"dataframe\">\n  <thead>\n    <tr style=\"text-align: right;\">\n      <th></th>\n      <th>model</th>\n      <th>metric</th>\n      <th>score</th>\n    </tr>\n  </thead>\n  <tbody>\n    <tr>\n      <th>0</th>\n      <td>ft:gpt-3.5-turbo-0125:eden-ai::9UxoYDO3</td>\n      <td>bleu</td>\n      <td>0.661359</td>\n    </tr>\n    <tr>\n      <th>1</th>\n      <td>GPT-3.5-turbo</td>\n      <td>bleu</td>\n      <td>0.122734</td>\n    </tr>\n    <tr>\n      <th>2</th>\n      <td>ft:gpt-3.5-turbo-0125:eden-ai::9UxoYDO3</td>\n      <td>rouge1</td>\n      <td>0.913607</td>\n    </tr>\n    <tr>\n      <th>3</th>\n      <td>GPT-3.5-turbo</td>\n      <td>rouge1</td>\n      <td>0.548945</td>\n    </tr>\n    <tr>\n      <th>4</th>\n      <td>ft:gpt-3.5-turbo-0125:eden-ai::9UxoYDO3</td>\n      <td>rouge2</td>\n      <td>0.875781</td>\n    </tr>\n    <tr>\n      <th>5</th>\n      <td>GPT-3.5-turbo</td>\n      <td>rouge2</td>\n      <td>0.354417</td>\n    </tr>\n    <tr>\n      <th>6</th>\n      <td>ft:gpt-3.5-turbo-0125:eden-ai::9UxoYDO3</td>\n      <td>rougeL</td>\n      <td>0.891241</td>\n    </tr>\n    <tr>\n      <th>7</th>\n      <td>GPT-3.5-turbo</td>\n      <td>rougeL</td>\n      <td>0.482403</td>\n    </tr>\n    <tr>\n      <th>8</th>\n      <td>ft:gpt-3.5-turbo-0125:eden-ai::9UxoYDO3</td>\n      <td>codebleu</td>\n      <td>0.805692</td>\n    </tr>\n    <tr>\n      <th>9</th>\n      <td>GPT-3.5-turbo</td>\n      <td>codebleu</td>\n      <td>0.294511</td>\n    </tr>\n    <tr>\n      <th>10</th>\n      <td>ft:gpt-3.5-turbo-0125:eden-ai::9UxoYDO3</td>\n      <td>ngram_match_score</td>\n      <td>0.661359</td>\n    </tr>\n    <tr>\n      <th>11</th>\n      <td>GPT-3.5-turbo</td>\n      <td>ngram_match_score</td>\n      <td>0.122734</td>\n    </tr>\n    <tr>\n      <th>12</th>\n      <td>ft:gpt-3.5-turbo-0125:eden-ai::9UxoYDO3</td>\n      <td>weighted_ngram_match_score</td>\n      <td>0.744571</td>\n    </tr>\n    <tr>\n      <th>13</th>\n      <td>GPT-3.5-turbo</td>\n      <td>weighted_ngram_match_score</td>\n      <td>0.139598</td>\n    </tr>\n    <tr>\n      <th>14</th>\n      <td>ft:gpt-3.5-turbo-0125:eden-ai::9UxoYDO3</td>\n      <td>syntax_match_score</td>\n      <td>0.955228</td>\n    </tr>\n    <tr>\n      <th>15</th>\n      <td>GPT-3.5-turbo</td>\n      <td>syntax_match_score</td>\n      <td>0.674934</td>\n    </tr>\n    <tr>\n      <th>16</th>\n      <td>ft:gpt-3.5-turbo-0125:eden-ai::9UxoYDO3</td>\n      <td>dataflow_match_score</td>\n      <td>0.861611</td>\n    </tr>\n    <tr>\n      <th>17</th>\n      <td>GPT-3.5-turbo</td>\n      <td>dataflow_match_score</td>\n      <td>0.240777</td>\n    </tr>\n  </tbody>\n</table>\n</div>"
     },
     "execution_count": 36,
     "metadata": {},
     "output_type": "execute_result"
    }
   ],
   "source": [
    "evaluation_df = evaluation_df.melt(\n",
    "    id_vars=\"model\", var_name=\"metric\", value_name=\"score\"\n",
    ")\n",
    "evaluation_df"
   ],
   "metadata": {
    "collapsed": false,
    "ExecuteTime": {
     "end_time": "2024-06-18T17:20:01.855554300Z",
     "start_time": "2024-06-18T17:20:01.758123200Z"
    }
   },
   "id": "a87b77339c02abca",
   "execution_count": 36
  },
  {
   "cell_type": "code",
   "outputs": [
    {
     "data": {
      "text/plain": "<Figure size 1200x600 with 1 Axes>",
      "image/png": "[encoded data removed]"
     },
     "metadata": {},
     "output_type": "display_data"
    }
   ],
   "source": [
    "plt.figure(figsize=(12, 6))\n",
    "sns.barplot(x=\"metric\", y=\"score\", hue=\"model\", data=evaluation_df)\n",
    "plt.title(\"Evaluation Metrics\")\n",
    "plt.ylabel(\"Score\")\n",
    "plt.xlabel(\"Metric\")\n",
    "plt.legend(title=\"Model\", loc=\"upper right\")\n",
    "plt.xticks(rotation=45)\n",
    "# save plot\n",
    "plt.savefig(TEST_DATA_DIR / \"evaluation_plot.png\")"
   ],
   "metadata": {
    "collapsed": false,
    "ExecuteTime": {
     "end_time": "2024-06-18T17:20:02.143871200Z",
     "start_time": "2024-06-18T17:20:01.767721700Z"
    }
   },
   "id": "9be6f7a470c3dfd1",
   "execution_count": 37
  },
  {
   "cell_type": "markdown",
   "source": [
    "we can see that our fine-tuned model outperforms GPT-3.5-turbo in all metrics"
   ],
   "metadata": {
    "collapsed": false
   },
   "id": "4d360a08bce0cc4d"
  },
  {
   "cell_type": "markdown",
   "source": [
    "# Tokenization with and without preprocessing and splitting"
   ],
   "metadata": {
    "collapsed": false
   },
   "id": "64c12c20125d6c64"
  },
  {
   "cell_type": "code",
   "outputs": [],
   "source": [
    "import tiktoken\n",
    "from sdkgenerator.config import AGENT\n",
    "from sdkgenerator.manifier import get_api_data"
   ],
   "metadata": {
    "collapsed": false,
    "ExecuteTime": {
     "end_time": "2024-06-18T17:20:02.144866200Z",
     "start_time": "2024-06-18T17:20:02.064952Z"
    }
   },
   "id": "b673a51ed15c2315",
   "execution_count": 38
  },
  {
   "cell_type": "code",
   "outputs": [
    {
     "data": {
      "text/plain": "                    tokens_without_preprocessing  tokens_with_preprocessing\nadatree_data                               54170                       3535\nbaseten                                     4731                       1121\nflickr                                     11915                       2939\nmilefy                                     24229                       1944\nfoodkit                                    32131                       3785\nbity                                       16268                       2854\n2-c-2-p                                    11790                       2573\nadatree_banking                            32447                       3161\nadatree_consent                            10213                       1811\naffinity                                   28319                       2569\nfinley                                      9910                       1253\nbluesnap                                    8023                       6018\n1-password_connect                          7917                       1904\napaleo                                     23602                       4101",
      "text/html": "<div>\n<style scoped>\n    .dataframe tbody tr th:only-of-type {\n        vertical-align: middle;\n    }\n\n    .dataframe tbody tr th {\n        vertical-align: top;\n    }\n\n    .dataframe thead th {\n        text-align: right;\n    }\n</style>\n<table border=\"1\" class=\"dataframe\">\n  <thead>\n    <tr style=\"text-align: right;\">\n      <th></th>\n      <th>tokens_without_preprocessing</th>\n      <th>tokens_with_preprocessing</th>\n    </tr>\n  </thead>\n  <tbody>\n    <tr>\n      <th>adatree_data</th>\n      <td>54170</td>\n      <td>3535</td>\n    </tr>\n    <tr>\n      <th>baseten</th>\n      <td>4731</td>\n      <td>1121</td>\n    </tr>\n    <tr>\n      <th>flickr</th>\n      <td>11915</td>\n      <td>2939</td>\n    </tr>\n    <tr>\n      <th>milefy</th>\n      <td>24229</td>\n      <td>1944</td>\n    </tr>\n    <tr>\n      <th>foodkit</th>\n      <td>32131</td>\n      <td>3785</td>\n    </tr>\n    <tr>\n      <th>bity</th>\n      <td>16268</td>\n      <td>2854</td>\n    </tr>\n    <tr>\n      <th>2-c-2-p</th>\n      <td>11790</td>\n      <td>2573</td>\n    </tr>\n    <tr>\n      <th>adatree_banking</th>\n      <td>32447</td>\n      <td>3161</td>\n    </tr>\n    <tr>\n      <th>adatree_consent</th>\n      <td>10213</td>\n      <td>1811</td>\n    </tr>\n    <tr>\n      <th>affinity</th>\n      <td>28319</td>\n      <td>2569</td>\n    </tr>\n    <tr>\n      <th>finley</th>\n      <td>9910</td>\n      <td>1253</td>\n    </tr>\n    <tr>\n      <th>bluesnap</th>\n      <td>8023</td>\n      <td>6018</td>\n    </tr>\n    <tr>\n      <th>1-password_connect</th>\n      <td>7917</td>\n      <td>1904</td>\n    </tr>\n    <tr>\n      <th>apaleo</th>\n      <td>23602</td>\n      <td>4101</td>\n    </tr>\n  </tbody>\n</table>\n</div>"
     },
     "execution_count": 39,
     "metadata": {},
     "output_type": "execute_result"
    }
   ],
   "source": [
    "tokenizer = tiktoken.encoding_for_model(AGENT[\"final_code\"][\"model\"])\n",
    "tokens_dict = {}\n",
    "for sdk_name in df_test_data[\"sdk_name\"].values:\n",
    "    openapi_specification = SPECIFICATIONS_DIR / f\"{sdk_name}.yaml\"\n",
    "    content_without_preprocessing = openapi_specification.read_text()\n",
    "    tokens_without_preprocessing = tokenizer.encode(content_without_preprocessing)\n",
    "    specs, types = get_api_data(openapi_specification)\n",
    "    content_with_preprocessing = specs + str(types)\n",
    "    tokens_with_preprocessing = tokenizer.encode(content_with_preprocessing)\n",
    "    tokens_dict[sdk_name] = {\n",
    "        \"tokens_without_preprocessing\": len(tokens_without_preprocessing),\n",
    "        \"tokens_with_preprocessing\": len(tokens_with_preprocessing),\n",
    "    }\n",
    "\n",
    "tokens_df = pd.DataFrame(tokens_dict).T\n",
    "tokens_df"
   ],
   "metadata": {
    "collapsed": false,
    "ExecuteTime": {
     "end_time": "2024-06-18T17:20:05.070253100Z",
     "start_time": "2024-06-18T17:20:02.068859200Z"
    }
   },
   "id": "11b672d64a66b219",
   "execution_count": 39
  },
  {
   "cell_type": "markdown",
   "source": [
    "# Plotting tokenization data"
   ],
   "metadata": {
    "collapsed": false
   },
   "id": "afd67837f537d57d"
  },
  {
   "cell_type": "code",
   "outputs": [
    {
     "data": {
      "text/plain": "              sdk_name  tokens_without_preprocessing  \\\n0         adatree_data                         54170   \n1              baseten                          4731   \n2               flickr                         11915   \n3               milefy                         24229   \n4              foodkit                         32131   \n5                 bity                         16268   \n6              2-c-2-p                         11790   \n7      adatree_banking                         32447   \n8      adatree_consent                         10213   \n9             affinity                         28319   \n10              finley                          9910   \n11            bluesnap                          8023   \n12  1-password_connect                          7917   \n13              apaleo                         23602   \n\n    tokens_with_preprocessing  \n0                        3535  \n1                        1121  \n2                        2939  \n3                        1944  \n4                        3785  \n5                        2854  \n6                        2573  \n7                        3161  \n8                        1811  \n9                        2569  \n10                       1253  \n11                       6018  \n12                       1904  \n13                       4101  ",
      "text/html": "<div>\n<style scoped>\n    .dataframe tbody tr th:only-of-type {\n        vertical-align: middle;\n    }\n\n    .dataframe tbody tr th {\n        vertical-align: top;\n    }\n\n    .dataframe thead th {\n        text-align: right;\n    }\n</style>\n<table border=\"1\" class=\"dataframe\">\n  <thead>\n    <tr style=\"text-align: right;\">\n      <th></th>\n      <th>sdk_name</th>\n      <th>tokens_without_preprocessing</th>\n      <th>tokens_with_preprocessing</th>\n    </tr>\n  </thead>\n  <tbody>\n    <tr>\n      <th>0</th>\n      <td>adatree_data</td>\n      <td>54170</td>\n      <td>3535</td>\n    </tr>\n    <tr>\n      <th>1</th>\n      <td>baseten</td>\n      <td>4731</td>\n      <td>1121</td>\n    </tr>\n    <tr>\n      <th>2</th>\n      <td>flickr</td>\n      <td>11915</td>\n      <td>2939</td>\n    </tr>\n    <tr>\n      <th>3</th>\n      <td>milefy</td>\n      <td>24229</td>\n      <td>1944</td>\n    </tr>\n    <tr>\n      <th>4</th>\n      <td>foodkit</td>\n      <td>32131</td>\n      <td>3785</td>\n    </tr>\n    <tr>\n      <th>5</th>\n      <td>bity</td>\n      <td>16268</td>\n      <td>2854</td>\n    </tr>\n    <tr>\n      <th>6</th>\n      <td>2-c-2-p</td>\n      <td>11790</td>\n      <td>2573</td>\n    </tr>\n    <tr>\n      <th>7</th>\n      <td>adatree_banking</td>\n      <td>32447</td>\n      <td>3161</td>\n    </tr>\n    <tr>\n      <th>8</th>\n      <td>adatree_consent</td>\n      <td>10213</td>\n      <td>1811</td>\n    </tr>\n    <tr>\n      <th>9</th>\n      <td>affinity</td>\n      <td>28319</td>\n      <td>2569</td>\n    </tr>\n    <tr>\n      <th>10</th>\n      <td>finley</td>\n      <td>9910</td>\n      <td>1253</td>\n    </tr>\n    <tr>\n      <th>11</th>\n      <td>bluesnap</td>\n      <td>8023</td>\n      <td>6018</td>\n    </tr>\n    <tr>\n      <th>12</th>\n      <td>1-password_connect</td>\n      <td>7917</td>\n      <td>1904</td>\n    </tr>\n    <tr>\n      <th>13</th>\n      <td>apaleo</td>\n      <td>23602</td>\n      <td>4101</td>\n    </tr>\n  </tbody>\n</table>\n</div>"
     },
     "execution_count": 40,
     "metadata": {},
     "output_type": "execute_result"
    }
   ],
   "source": [
    "tokens_df.reset_index(inplace=True)\n",
    "tokens_df.rename(columns={\"index\": \"sdk_name\"}, inplace=True)\n",
    "# save data\n",
    "tokens_df.to_csv(TEST_DATA_DIR / \"tokenization_data.csv\", index=False)\n",
    "tokens_df"
   ],
   "metadata": {
    "collapsed": false,
    "ExecuteTime": {
     "end_time": "2024-06-18T17:20:05.089571100Z",
     "start_time": "2024-06-18T17:20:05.068458500Z"
    }
   },
   "id": "b5cb24cc94bac21b",
   "execution_count": 40
  },
  {
   "cell_type": "code",
   "outputs": [],
   "source": [
    "tokens_df = tokens_df.melt(\n",
    "    id_vars=\"sdk_name\",\n",
    "    var_name=\"preprocessing\",\n",
    "    value_name=\"tokens\",\n",
    ")"
   ],
   "metadata": {
    "collapsed": false,
    "ExecuteTime": {
     "end_time": "2024-06-18T17:20:05.119160300Z",
     "start_time": "2024-06-18T17:20:05.087560600Z"
    }
   },
   "id": "bb9a4fa6e4d938ef",
   "execution_count": 41
  },
  {
   "cell_type": "code",
   "outputs": [
    {
     "data": {
      "text/plain": "<Figure size 1200x600 with 1 Axes>",
      "image/png": "[encoded data removed]"
     },
     "metadata": {},
     "output_type": "display_data"
    }
   ],
   "source": [
    "plt.figure(figsize=(12, 6))\n",
    "sns.barplot(x=\"sdk_name\", y=\"tokens\", hue=\"preprocessing\", data=tokens_df)\n",
    "\n",
    "plt.title(\"Tokenization with and without preprocessing\")\n",
    "plt.ylabel(\"Number of tokens\")\n",
    "plt.xlabel(\"SDK\")\n",
    "plt.xticks(rotation=45)\n",
    "plt.legend(title=\"Preprocessing\", loc=\"upper right\")\n",
    "\n",
    "# save plot\n",
    "plt.savefig(TEST_DATA_DIR / \"tokenization_plot.png\")"
   ],
   "metadata": {
    "collapsed": false,
    "ExecuteTime": {
     "end_time": "2024-06-18T17:20:05.432218600Z",
     "start_time": "2024-06-18T17:20:05.095065100Z"
    }
   },
   "id": "1c73bd5d806967ea",
   "execution_count": 42
  }
 ],
 "metadata": {
  "kernelspec": {
   "display_name": "Python 3",
   "language": "python",
   "name": "python3"
  },
  "language_info": {
   "codemirror_mode": {
    "name": "ipython",
    "version": 2
   },
   "file_extension": ".py",
   "mimetype": "text/x-python",
   "name": "python",
   "nbconvert_exporter": "python",
   "pygments_lexer": "ipython2",
   "version": "2.7.6"
  }
 },
 "nbformat": 4,
 "nbformat_minor": 5
}
