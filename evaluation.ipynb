{
 "cells": [
  {
   "cell_type": "code",
   "execution_count": 1,
   "id": "initial_id",
   "metadata": {
    "collapsed": true,
    "ExecuteTime": {
     "end_time": "2024-06-07T23:23:16.217077300Z",
     "start_time": "2024-06-07T23:23:13.176597600Z"
    }
   },
   "outputs": [
    {
     "name": "stdout",
     "output_type": "stream",
     "text": [
      "Database connected successfully. (MongoDB)\n"
     ]
    }
   ],
   "source": [
    "from sdkgenerator.generate import generate_sdk\n",
    "from sdkgenerator.constants import DATA_DIR, GENERATED_SDK_DIR\n",
    "from sdkgenerator.utils import get_code_from_model_response\n",
    "from sdkgenerator.db import db\n",
    "import pandas as pd"
   ]
  },
  {
   "cell_type": "code",
   "outputs": [],
   "source": [
    "TEST_DATA_DIR = DATA_DIR / 'test'\n",
    "TEST_DATA_DIR.mkdir(exist_ok=True)\n",
    "SPECIFICATIONS_DIR = DATA_DIR / 'openapi-specifications'"
   ],
   "metadata": {
    "collapsed": false,
    "ExecuteTime": {
     "end_time": "2024-06-07T23:23:16.240295Z",
     "start_time": "2024-06-07T23:23:16.217077300Z"
    }
   },
   "id": "6d94c9aa206c8d81",
   "execution_count": 2
  },
  {
   "cell_type": "markdown",
   "source": [
    "# Load test data"
   ],
   "metadata": {
    "collapsed": false
   },
   "id": "d984bd2c05687f99"
  },
  {
   "cell_type": "code",
   "outputs": [],
   "source": [
    "test_pipeline_data = TEST_DATA_DIR / 'test_data.jsonl'\n",
    "test_data = pd.read_json(test_pipeline_data, lines=True)"
   ],
   "metadata": {
    "collapsed": false,
    "ExecuteTime": {
     "end_time": "2024-06-07T23:23:16.270599400Z",
     "start_time": "2024-06-07T23:23:16.227249600Z"
    }
   },
   "id": "d4bfec5c0a05df33",
   "execution_count": 3
  },
  {
   "cell_type": "code",
   "outputs": [
    {
     "data": {
      "text/plain": "                                            messages\n0  [{'role': 'system', 'content': 'You are a pyth...\n1  [{'role': 'system', 'content': 'You are a pyth...\n2  [{'role': 'system', 'content': 'You are a pyth...\n3  [{'role': 'system', 'content': 'You are a pyth...\n4  [{'role': 'system', 'content': 'You are a pyth...",
      "text/html": "<div>\n<style scoped>\n    .dataframe tbody tr th:only-of-type {\n        vertical-align: middle;\n    }\n\n    .dataframe tbody tr th {\n        vertical-align: top;\n    }\n\n    .dataframe thead th {\n        text-align: right;\n    }\n</style>\n<table border=\"1\" class=\"dataframe\">\n  <thead>\n    <tr style=\"text-align: right;\">\n      <th></th>\n      <th>messages</th>\n    </tr>\n  </thead>\n  <tbody>\n    <tr>\n      <th>0</th>\n      <td>[{'role': 'system', 'content': 'You are a pyth...</td>\n    </tr>\n    <tr>\n      <th>1</th>\n      <td>[{'role': 'system', 'content': 'You are a pyth...</td>\n    </tr>\n    <tr>\n      <th>2</th>\n      <td>[{'role': 'system', 'content': 'You are a pyth...</td>\n    </tr>\n    <tr>\n      <th>3</th>\n      <td>[{'role': 'system', 'content': 'You are a pyth...</td>\n    </tr>\n    <tr>\n      <th>4</th>\n      <td>[{'role': 'system', 'content': 'You are a pyth...</td>\n    </tr>\n  </tbody>\n</table>\n</div>"
     },
     "execution_count": 4,
     "metadata": {},
     "output_type": "execute_result"
    }
   ],
   "source": [
    "test_data.head()"
   ],
   "metadata": {
    "collapsed": false,
    "ExecuteTime": {
     "end_time": "2024-06-07T23:23:16.311823300Z",
     "start_time": "2024-06-07T23:23:16.252556700Z"
    }
   },
   "id": "754e99e831e2caaa",
   "execution_count": 4
  },
  {
   "cell_type": "markdown",
   "source": [
    "We can see that out test data if currently lines, each line is an array of objects that contain the following fields:\n",
    "- `role`: the role of the messanger, e.g. `system`, `user`\n",
    "- `content`: the content of the message"
   ],
   "metadata": {
    "collapsed": false
   },
   "id": "567a1952578cba61"
  },
  {
   "cell_type": "code",
   "outputs": [],
   "source": [
    "test_data['sdk'] = test_data.apply(lambda x: x.values[-1][-1], axis=1)"
   ],
   "metadata": {
    "collapsed": false,
    "ExecuteTime": {
     "end_time": "2024-06-07T23:23:16.313823Z",
     "start_time": "2024-06-07T23:23:16.278634700Z"
    }
   },
   "id": "d8b317fadd8a81df",
   "execution_count": 5
  },
  {
   "cell_type": "code",
   "outputs": [
    {
     "data": {
      "text/plain": "                                             messages  \\\n0   [{'role': 'system', 'content': 'You are a pyth...   \n1   [{'role': 'system', 'content': 'You are a pyth...   \n2   [{'role': 'system', 'content': 'You are a pyth...   \n3   [{'role': 'system', 'content': 'You are a pyth...   \n4   [{'role': 'system', 'content': 'You are a pyth...   \n5   [{'role': 'system', 'content': 'You are a pyth...   \n6   [{'role': 'system', 'content': 'You are a pyth...   \n7   [{'role': 'system', 'content': 'You are a pyth...   \n8   [{'role': 'system', 'content': 'You are a pyth...   \n9   [{'role': 'system', 'content': 'You are a pyth...   \n10  [{'role': 'system', 'content': 'You are a pyth...   \n11  [{'role': 'system', 'content': 'You are a pyth...   \n12  [{'role': 'system', 'content': 'You are a pyth...   \n13  [{'role': 'system', 'content': 'You are a pyth...   \n14  [{'role': 'system', 'content': 'You are a pyth...   \n15  [{'role': 'system', 'content': 'You are a pyth...   \n16  [{'role': 'system', 'content': 'You are a pyth...   \n17  [{'role': 'system', 'content': 'You are a pyth...   \n18  [{'role': 'system', 'content': 'You are a pyth...   \n19  [{'role': 'system', 'content': 'You are a pyth...   \n20  [{'role': 'system', 'content': 'You are a pyth...   \n21  [{'role': 'system', 'content': 'You are a pyth...   \n\n                                                  sdk  \n0   {'role': 'assistant', 'content': '```python\nim...  \n1   {'role': 'assistant', 'content': '```python\nim...  \n2   {'role': 'assistant', 'content': '```python\nim...  \n3   {'role': 'assistant', 'content': '```python\nim...  \n4   {'role': 'assistant', 'content': '```python\nim...  \n5   {'role': 'assistant', 'content': '```python\nim...  \n6   {'role': 'assistant', 'content': '```python\nim...  \n7   {'role': 'assistant', 'content': '```python\nim...  \n8   {'role': 'assistant', 'content': '```python\nfr...  \n9   {'role': 'assistant', 'content': '```python\nim...  \n10  {'role': 'assistant', 'content': '```python\nfr...  \n11  {'role': 'assistant', 'content': '```python\nim...  \n12  {'role': 'assistant', 'content': '```python\nfr...  \n13  {'role': 'assistant', 'content': '```python\nim...  \n14  {'role': 'assistant', 'content': '```python\nim...  \n15  {'role': 'assistant', 'content': '```python\nim...  \n16  {'role': 'assistant', 'content': '```python\nfr...  \n17  {'role': 'assistant', 'content': '```python\nim...  \n18  {'role': 'assistant', 'content': '```python\nfr...  \n19  {'role': 'assistant', 'content': '```python\nim...  \n20  {'role': 'assistant', 'content': '```python\nim...  \n21  {'role': 'assistant', 'content': '```python\nim...  ",
      "text/html": "<div>\n<style scoped>\n    .dataframe tbody tr th:only-of-type {\n        vertical-align: middle;\n    }\n\n    .dataframe tbody tr th {\n        vertical-align: top;\n    }\n\n    .dataframe thead th {\n        text-align: right;\n    }\n</style>\n<table border=\"1\" class=\"dataframe\">\n  <thead>\n    <tr style=\"text-align: right;\">\n      <th></th>\n      <th>messages</th>\n      <th>sdk</th>\n    </tr>\n  </thead>\n  <tbody>\n    <tr>\n      <th>0</th>\n      <td>[{'role': 'system', 'content': 'You are a pyth...</td>\n      <td>{'role': 'assistant', 'content': '```python\nim...</td>\n    </tr>\n    <tr>\n      <th>1</th>\n      <td>[{'role': 'system', 'content': 'You are a pyth...</td>\n      <td>{'role': 'assistant', 'content': '```python\nim...</td>\n    </tr>\n    <tr>\n      <th>2</th>\n      <td>[{'role': 'system', 'content': 'You are a pyth...</td>\n      <td>{'role': 'assistant', 'content': '```python\nim...</td>\n    </tr>\n    <tr>\n      <th>3</th>\n      <td>[{'role': 'system', 'content': 'You are a pyth...</td>\n      <td>{'role': 'assistant', 'content': '```python\nim...</td>\n    </tr>\n    <tr>\n      <th>4</th>\n      <td>[{'role': 'system', 'content': 'You are a pyth...</td>\n      <td>{'role': 'assistant', 'content': '```python\nim...</td>\n    </tr>\n    <tr>\n      <th>5</th>\n      <td>[{'role': 'system', 'content': 'You are a pyth...</td>\n      <td>{'role': 'assistant', 'content': '```python\nim...</td>\n    </tr>\n    <tr>\n      <th>6</th>\n      <td>[{'role': 'system', 'content': 'You are a pyth...</td>\n      <td>{'role': 'assistant', 'content': '```python\nim...</td>\n    </tr>\n    <tr>\n      <th>7</th>\n      <td>[{'role': 'system', 'content': 'You are a pyth...</td>\n      <td>{'role': 'assistant', 'content': '```python\nim...</td>\n    </tr>\n    <tr>\n      <th>8</th>\n      <td>[{'role': 'system', 'content': 'You are a pyth...</td>\n      <td>{'role': 'assistant', 'content': '```python\nfr...</td>\n    </tr>\n    <tr>\n      <th>9</th>\n      <td>[{'role': 'system', 'content': 'You are a pyth...</td>\n      <td>{'role': 'assistant', 'content': '```python\nim...</td>\n    </tr>\n    <tr>\n      <th>10</th>\n      <td>[{'role': 'system', 'content': 'You are a pyth...</td>\n      <td>{'role': 'assistant', 'content': '```python\nfr...</td>\n    </tr>\n    <tr>\n      <th>11</th>\n      <td>[{'role': 'system', 'content': 'You are a pyth...</td>\n      <td>{'role': 'assistant', 'content': '```python\nim...</td>\n    </tr>\n    <tr>\n      <th>12</th>\n      <td>[{'role': 'system', 'content': 'You are a pyth...</td>\n      <td>{'role': 'assistant', 'content': '```python\nfr...</td>\n    </tr>\n    <tr>\n      <th>13</th>\n      <td>[{'role': 'system', 'content': 'You are a pyth...</td>\n      <td>{'role': 'assistant', 'content': '```python\nim...</td>\n    </tr>\n    <tr>\n      <th>14</th>\n      <td>[{'role': 'system', 'content': 'You are a pyth...</td>\n      <td>{'role': 'assistant', 'content': '```python\nim...</td>\n    </tr>\n    <tr>\n      <th>15</th>\n      <td>[{'role': 'system', 'content': 'You are a pyth...</td>\n      <td>{'role': 'assistant', 'content': '```python\nim...</td>\n    </tr>\n    <tr>\n      <th>16</th>\n      <td>[{'role': 'system', 'content': 'You are a pyth...</td>\n      <td>{'role': 'assistant', 'content': '```python\nfr...</td>\n    </tr>\n    <tr>\n      <th>17</th>\n      <td>[{'role': 'system', 'content': 'You are a pyth...</td>\n      <td>{'role': 'assistant', 'content': '```python\nim...</td>\n    </tr>\n    <tr>\n      <th>18</th>\n      <td>[{'role': 'system', 'content': 'You are a pyth...</td>\n      <td>{'role': 'assistant', 'content': '```python\nfr...</td>\n    </tr>\n    <tr>\n      <th>19</th>\n      <td>[{'role': 'system', 'content': 'You are a pyth...</td>\n      <td>{'role': 'assistant', 'content': '```python\nim...</td>\n    </tr>\n    <tr>\n      <th>20</th>\n      <td>[{'role': 'system', 'content': 'You are a pyth...</td>\n      <td>{'role': 'assistant', 'content': '```python\nim...</td>\n    </tr>\n    <tr>\n      <th>21</th>\n      <td>[{'role': 'system', 'content': 'You are a pyth...</td>\n      <td>{'role': 'assistant', 'content': '```python\nim...</td>\n    </tr>\n  </tbody>\n</table>\n</div>"
     },
     "execution_count": 6,
     "metadata": {},
     "output_type": "execute_result"
    }
   ],
   "source": [
    "test_data"
   ],
   "metadata": {
    "collapsed": false,
    "ExecuteTime": {
     "end_time": "2024-06-07T23:23:16.395815100Z",
     "start_time": "2024-06-07T23:23:16.334388300Z"
    }
   },
   "id": "80776a5dadcd2172",
   "execution_count": 6
  },
  {
   "cell_type": "markdown",
   "source": [
    "## Query testing data"
   ],
   "metadata": {
    "collapsed": false
   },
   "id": "6fec86baf8c94080"
  },
  {
   "cell_type": "code",
   "outputs": [
    {
     "data": {
      "text/plain": "                                  last_response_text            sdk_name\n0  ```python\\nimport requests\\nfrom typing import...  1-password_connect\n1  ```python\\nimport requests\\nfrom typing import...              apaleo\n2  ```python\\nimport requests\\n\\nclass AdatreeCli...        adatree_data\n3  ```python\\nimport requests\\nfrom urllib.parse ...            bluesnap\n4  ```python\\nimport requests\\nfrom urllib.parse ...             foodkit",
      "text/html": "<div>\n<style scoped>\n    .dataframe tbody tr th:only-of-type {\n        vertical-align: middle;\n    }\n\n    .dataframe tbody tr th {\n        vertical-align: top;\n    }\n\n    .dataframe thead th {\n        text-align: right;\n    }\n</style>\n<table border=\"1\" class=\"dataframe\">\n  <thead>\n    <tr style=\"text-align: right;\">\n      <th></th>\n      <th>last_response_text</th>\n      <th>sdk_name</th>\n    </tr>\n  </thead>\n  <tbody>\n    <tr>\n      <th>0</th>\n      <td>```python\\nimport requests\\nfrom typing import...</td>\n      <td>1-password_connect</td>\n    </tr>\n    <tr>\n      <th>1</th>\n      <td>```python\\nimport requests\\nfrom typing import...</td>\n      <td>apaleo</td>\n    </tr>\n    <tr>\n      <th>2</th>\n      <td>```python\\nimport requests\\n\\nclass AdatreeCli...</td>\n      <td>adatree_data</td>\n    </tr>\n    <tr>\n      <th>3</th>\n      <td>```python\\nimport requests\\nfrom urllib.parse ...</td>\n      <td>bluesnap</td>\n    </tr>\n    <tr>\n      <th>4</th>\n      <td>```python\\nimport requests\\nfrom urllib.parse ...</td>\n      <td>foodkit</td>\n    </tr>\n  </tbody>\n</table>\n</div>"
     },
     "execution_count": 7,
     "metadata": {},
     "output_type": "execute_result"
    }
   ],
   "source": [
    "sdk_code_test_data_pipeline = [\n",
    "        {\"$match\": {\"step\": \"final_code\", \"response.openai.status\": \"success\"}},\n",
    "        {\"$sort\": {\"_id\": 1}},  # Sort by _id to sort by insertion date (I accidentally added multiple final_code for some data)\n",
    "        {\"$group\": {\n",
    "            \"_id\": \"$sdk_name\",\n",
    "            \"last_response_text\": {\"$last\": \"$response.openai.generated_text\"}\n",
    "        }},\n",
    "        {\"$project\": {\n",
    "            \"sdk_name\": \"$_id\",\n",
    "            \"last_response_text\": 1,\n",
    "            \"_id\": 0\n",
    "        }}\n",
    "    ]\n",
    "\n",
    "data = list(db[\"train_data\"].aggregate(sdk_code_test_data_pipeline))\n",
    "df_test_data = pd.DataFrame(data)\n",
    "df_test_data.head()"
   ],
   "metadata": {
    "collapsed": false,
    "ExecuteTime": {
     "end_time": "2024-06-07T23:23:16.589271200Z",
     "start_time": "2024-06-07T23:23:16.339450300Z"
    }
   },
   "id": "f29b564e8f729382",
   "execution_count": 7
  },
  {
   "cell_type": "code",
   "outputs": [
    {
     "data": {
      "text/plain": "             sdk_name                                           sdk_code\n0  1-password_connect  import requests\\nfrom typing import Dict, Any,...\n1              apaleo  import requests\\nfrom typing import Optional, ...\n2        adatree_data  import requests\\n\\nclass AdatreeClient:\\n    d...\n3            bluesnap  import requests\\nfrom urllib.parse import urlj...\n4             foodkit  import requests\\nfrom urllib.parse import urlj...",
      "text/html": "<div>\n<style scoped>\n    .dataframe tbody tr th:only-of-type {\n        vertical-align: middle;\n    }\n\n    .dataframe tbody tr th {\n        vertical-align: top;\n    }\n\n    .dataframe thead th {\n        text-align: right;\n    }\n</style>\n<table border=\"1\" class=\"dataframe\">\n  <thead>\n    <tr style=\"text-align: right;\">\n      <th></th>\n      <th>sdk_name</th>\n      <th>sdk_code</th>\n    </tr>\n  </thead>\n  <tbody>\n    <tr>\n      <th>0</th>\n      <td>1-password_connect</td>\n      <td>import requests\\nfrom typing import Dict, Any,...</td>\n    </tr>\n    <tr>\n      <th>1</th>\n      <td>apaleo</td>\n      <td>import requests\\nfrom typing import Optional, ...</td>\n    </tr>\n    <tr>\n      <th>2</th>\n      <td>adatree_data</td>\n      <td>import requests\\n\\nclass AdatreeClient:\\n    d...</td>\n    </tr>\n    <tr>\n      <th>3</th>\n      <td>bluesnap</td>\n      <td>import requests\\nfrom urllib.parse import urlj...</td>\n    </tr>\n    <tr>\n      <th>4</th>\n      <td>foodkit</td>\n      <td>import requests\\nfrom urllib.parse import urlj...</td>\n    </tr>\n  </tbody>\n</table>\n</div>"
     },
     "execution_count": 8,
     "metadata": {},
     "output_type": "execute_result"
    }
   ],
   "source": [
    "df_test_data['sdk_code'] = df_test_data['last_response_text'].apply(lambda x: get_code_from_model_response(x)[0])\n",
    "df_test_data = df_test_data.drop(columns=['last_response_text'])\n",
    "df_test_data.head()"
   ],
   "metadata": {
    "collapsed": false,
    "ExecuteTime": {
     "end_time": "2024-06-07T23:23:16.622832400Z",
     "start_time": "2024-06-07T23:23:16.549647300Z"
    }
   },
   "id": "7646d86237e9aec7",
   "execution_count": 8
  },
  {
   "cell_type": "code",
   "outputs": [
    {
     "data": {
      "text/plain": "             sdk_name                                           sdk_code\n0  1-password_connect  import requests\\nfrom typing import Dict, Any,...\n1              apaleo  import requests\\nfrom typing import Optional, ...\n2        adatree_data  import requests\\n\\nclass AdatreeClient:\\n    d...\n3            bluesnap  import requests\\nfrom urllib.parse import urlj...\n4             foodkit  import requests\\nfrom urllib.parse import urlj...",
      "text/html": "<div>\n<style scoped>\n    .dataframe tbody tr th:only-of-type {\n        vertical-align: middle;\n    }\n\n    .dataframe tbody tr th {\n        vertical-align: top;\n    }\n\n    .dataframe thead th {\n        text-align: right;\n    }\n</style>\n<table border=\"1\" class=\"dataframe\">\n  <thead>\n    <tr style=\"text-align: right;\">\n      <th></th>\n      <th>sdk_name</th>\n      <th>sdk_code</th>\n    </tr>\n  </thead>\n  <tbody>\n    <tr>\n      <th>0</th>\n      <td>1-password_connect</td>\n      <td>import requests\\nfrom typing import Dict, Any,...</td>\n    </tr>\n    <tr>\n      <th>1</th>\n      <td>apaleo</td>\n      <td>import requests\\nfrom typing import Optional, ...</td>\n    </tr>\n    <tr>\n      <th>2</th>\n      <td>adatree_data</td>\n      <td>import requests\\n\\nclass AdatreeClient:\\n    d...</td>\n    </tr>\n    <tr>\n      <th>3</th>\n      <td>bluesnap</td>\n      <td>import requests\\nfrom urllib.parse import urlj...</td>\n    </tr>\n    <tr>\n      <th>4</th>\n      <td>foodkit</td>\n      <td>import requests\\nfrom urllib.parse import urlj...</td>\n    </tr>\n  </tbody>\n</table>\n</div>"
     },
     "execution_count": 9,
     "metadata": {},
     "output_type": "execute_result"
    }
   ],
   "source": [
    "# remove rows with None\n",
    "df_test_data = df_test_data.dropna()\n",
    "df_test_data.head()"
   ],
   "metadata": {
    "collapsed": false,
    "ExecuteTime": {
     "end_time": "2024-06-07T23:23:16.642418500Z",
     "start_time": "2024-06-07T23:23:16.557164800Z"
    }
   },
   "id": "dd3ba717106ce3a1",
   "execution_count": 9
  },
  {
   "cell_type": "code",
   "outputs": [
    {
     "data": {
      "text/plain": "                 sdk_name                                         types_code\n0                 baseten  from typing import TypedDict, Optional\\n\\nclas...\n1            adatree_data  from typing import TypedDict, List, Literal, O...\n2      1-password_connect  from typing import TypedDict, List, Union, Lit...\n3  1-password_partnership  from typing import TypedDict, Optional\\nfrom d...\n4                   goody  from typing import TypedDict, Optional, List, ...",
      "text/html": "<div>\n<style scoped>\n    .dataframe tbody tr th:only-of-type {\n        vertical-align: middle;\n    }\n\n    .dataframe tbody tr th {\n        vertical-align: top;\n    }\n\n    .dataframe thead th {\n        text-align: right;\n    }\n</style>\n<table border=\"1\" class=\"dataframe\">\n  <thead>\n    <tr style=\"text-align: right;\">\n      <th></th>\n      <th>sdk_name</th>\n      <th>types_code</th>\n    </tr>\n  </thead>\n  <tbody>\n    <tr>\n      <th>0</th>\n      <td>baseten</td>\n      <td>from typing import TypedDict, Optional\\n\\nclas...</td>\n    </tr>\n    <tr>\n      <th>1</th>\n      <td>adatree_data</td>\n      <td>from typing import TypedDict, List, Literal, O...</td>\n    </tr>\n    <tr>\n      <th>2</th>\n      <td>1-password_connect</td>\n      <td>from typing import TypedDict, List, Union, Lit...</td>\n    </tr>\n    <tr>\n      <th>3</th>\n      <td>1-password_partnership</td>\n      <td>from typing import TypedDict, Optional\\nfrom d...</td>\n    </tr>\n    <tr>\n      <th>4</th>\n      <td>goody</td>\n      <td>from typing import TypedDict, Optional, List, ...</td>\n    </tr>\n  </tbody>\n</table>\n</div>"
     },
     "execution_count": 10,
     "metadata": {},
     "output_type": "execute_result"
    }
   ],
   "source": [
    "types_code_test_data_pipeline = [\n",
    "        {\"$match\": {\"step\": \"types\", \"response.openai.status\": \"success\"}},\n",
    "        {\"$sort\": {\"_id\": 1}},  # Sort by _id to sort by insertion date (I accidentally added multiple final_code for some data)\n",
    "        {\"$group\": {\n",
    "            \"_id\": \"$sdk_name\",\n",
    "            \"last_response_text\": {\"$last\": \"$response.openai.generated_text\"}\n",
    "        }},\n",
    "        {\"$project\": {\n",
    "            \"sdk_name\": \"$_id\",\n",
    "            \"last_response_text\": 1,\n",
    "            \"_id\": 0\n",
    "        }}\n",
    "    ]\n",
    "\n",
    "data = list(db[\"train_data\"].aggregate(types_code_test_data_pipeline))\n",
    "df_types = pd.DataFrame(data)\n",
    "df_types['types_code'] = df_types['last_response_text'].apply(lambda x: get_code_from_model_response(x)[0])\n",
    "df_types.drop(columns=['last_response_text'], inplace=True)\n",
    "df_types.head()"
   ],
   "metadata": {
    "collapsed": false,
    "ExecuteTime": {
     "end_time": "2024-06-07T23:23:16.740087300Z",
     "start_time": "2024-06-07T23:23:16.573244300Z"
    }
   },
   "id": "45a5be428e358619",
   "execution_count": 10
  },
  {
   "cell_type": "code",
   "outputs": [
    {
     "data": {
      "text/plain": "             sdk_name                                           sdk_code  \\\n0  1-password_connect  import requests\\nfrom typing import Dict, Any,...   \n1              apaleo  import requests\\nfrom typing import Optional, ...   \n2        adatree_data  import requests\\n\\nclass AdatreeClient:\\n    d...   \n3            bluesnap  import requests\\nfrom urllib.parse import urlj...   \n4             foodkit  import requests\\nfrom urllib.parse import urlj...   \n\n                                          types_code  \n0  from typing import TypedDict, List, Union, Lit...  \n1                                                     \n2  from typing import TypedDict, List, Literal, O...  \n3  from typing import TypedDict, List, Literal, U...  \n4  from typing import TypedDict, Literal, List\\n\\...  ",
      "text/html": "<div>\n<style scoped>\n    .dataframe tbody tr th:only-of-type {\n        vertical-align: middle;\n    }\n\n    .dataframe tbody tr th {\n        vertical-align: top;\n    }\n\n    .dataframe thead th {\n        text-align: right;\n    }\n</style>\n<table border=\"1\" class=\"dataframe\">\n  <thead>\n    <tr style=\"text-align: right;\">\n      <th></th>\n      <th>sdk_name</th>\n      <th>sdk_code</th>\n      <th>types_code</th>\n    </tr>\n  </thead>\n  <tbody>\n    <tr>\n      <th>0</th>\n      <td>1-password_connect</td>\n      <td>import requests\\nfrom typing import Dict, Any,...</td>\n      <td>from typing import TypedDict, List, Union, Lit...</td>\n    </tr>\n    <tr>\n      <th>1</th>\n      <td>apaleo</td>\n      <td>import requests\\nfrom typing import Optional, ...</td>\n      <td></td>\n    </tr>\n    <tr>\n      <th>2</th>\n      <td>adatree_data</td>\n      <td>import requests\\n\\nclass AdatreeClient:\\n    d...</td>\n      <td>from typing import TypedDict, List, Literal, O...</td>\n    </tr>\n    <tr>\n      <th>3</th>\n      <td>bluesnap</td>\n      <td>import requests\\nfrom urllib.parse import urlj...</td>\n      <td>from typing import TypedDict, List, Literal, U...</td>\n    </tr>\n    <tr>\n      <th>4</th>\n      <td>foodkit</td>\n      <td>import requests\\nfrom urllib.parse import urlj...</td>\n      <td>from typing import TypedDict, Literal, List\\n\\...</td>\n    </tr>\n  </tbody>\n</table>\n</div>"
     },
     "execution_count": 11,
     "metadata": {},
     "output_type": "execute_result"
    }
   ],
   "source": [
    "# merge the two dataframes if sdk has no types set types_code to empty string\n",
    "df_test_data = df_test_data.merge(df_types, on='sdk_name', how='left')\n",
    "df_test_data.fillna('', inplace=True)\n",
    "\n",
    "\n",
    "df_test_data.head()"
   ],
   "metadata": {
    "collapsed": false,
    "ExecuteTime": {
     "end_time": "2024-06-07T23:23:16.841371100Z",
     "start_time": "2024-06-07T23:23:16.673818100Z"
    }
   },
   "id": "f4c9127a3298900f",
   "execution_count": 11
  },
  {
   "cell_type": "code",
   "outputs": [],
   "source": [
    "def merge_code(sdk_code: str, types_code: str) -> str:\n",
    "    if types_code:\n",
    "        return types_code + '\\n' + '-'*10 + '\\n' + sdk_code\n",
    "    return sdk_code"
   ],
   "metadata": {
    "collapsed": false,
    "ExecuteTime": {
     "end_time": "2024-06-07T23:23:16.892820200Z",
     "start_time": "2024-06-07T23:23:16.691241700Z"
    }
   },
   "id": "3c2f14c6c8cd07d9",
   "execution_count": 12
  },
  {
   "cell_type": "code",
   "outputs": [
    {
     "data": {
      "text/plain": "             sdk_name                                           sdk_code  \\\n0  1-password_connect  import requests\\nfrom typing import Dict, Any,...   \n1              apaleo  import requests\\nfrom typing import Optional, ...   \n2        adatree_data  import requests\\n\\nclass AdatreeClient:\\n    d...   \n3            bluesnap  import requests\\nfrom urllib.parse import urlj...   \n4             foodkit  import requests\\nfrom urllib.parse import urlj...   \n\n                                          types_code  \\\n0  from typing import TypedDict, List, Union, Lit...   \n1                                                      \n2  from typing import TypedDict, List, Literal, O...   \n3  from typing import TypedDict, List, Literal, U...   \n4  from typing import TypedDict, Literal, List\\n\\...   \n\n                                              answer  \n0  from typing import TypedDict, List, Union, Lit...  \n1  import requests\\nfrom typing import Optional, ...  \n2  from typing import TypedDict, List, Literal, O...  \n3  from typing import TypedDict, List, Literal, U...  \n4  from typing import TypedDict, Literal, List\\n\\...  ",
      "text/html": "<div>\n<style scoped>\n    .dataframe tbody tr th:only-of-type {\n        vertical-align: middle;\n    }\n\n    .dataframe tbody tr th {\n        vertical-align: top;\n    }\n\n    .dataframe thead th {\n        text-align: right;\n    }\n</style>\n<table border=\"1\" class=\"dataframe\">\n  <thead>\n    <tr style=\"text-align: right;\">\n      <th></th>\n      <th>sdk_name</th>\n      <th>sdk_code</th>\n      <th>types_code</th>\n      <th>answer</th>\n    </tr>\n  </thead>\n  <tbody>\n    <tr>\n      <th>0</th>\n      <td>1-password_connect</td>\n      <td>import requests\\nfrom typing import Dict, Any,...</td>\n      <td>from typing import TypedDict, List, Union, Lit...</td>\n      <td>from typing import TypedDict, List, Union, Lit...</td>\n    </tr>\n    <tr>\n      <th>1</th>\n      <td>apaleo</td>\n      <td>import requests\\nfrom typing import Optional, ...</td>\n      <td></td>\n      <td>import requests\\nfrom typing import Optional, ...</td>\n    </tr>\n    <tr>\n      <th>2</th>\n      <td>adatree_data</td>\n      <td>import requests\\n\\nclass AdatreeClient:\\n    d...</td>\n      <td>from typing import TypedDict, List, Literal, O...</td>\n      <td>from typing import TypedDict, List, Literal, O...</td>\n    </tr>\n    <tr>\n      <th>3</th>\n      <td>bluesnap</td>\n      <td>import requests\\nfrom urllib.parse import urlj...</td>\n      <td>from typing import TypedDict, List, Literal, U...</td>\n      <td>from typing import TypedDict, List, Literal, U...</td>\n    </tr>\n    <tr>\n      <th>4</th>\n      <td>foodkit</td>\n      <td>import requests\\nfrom urllib.parse import urlj...</td>\n      <td>from typing import TypedDict, Literal, List\\n\\...</td>\n      <td>from typing import TypedDict, Literal, List\\n\\...</td>\n    </tr>\n  </tbody>\n</table>\n</div>"
     },
     "execution_count": 13,
     "metadata": {},
     "output_type": "execute_result"
    }
   ],
   "source": [
    "#answer is sdk_code + types_code\n",
    "df_test_data['answer'] = df_test_data.apply(lambda x: merge_code(x['sdk_code'], x['types_code']), axis=1)\n",
    "\n",
    "df_test_data.head()"
   ],
   "metadata": {
    "collapsed": false,
    "ExecuteTime": {
     "end_time": "2024-06-07T23:23:16.986799300Z",
     "start_time": "2024-06-07T23:23:16.695534700Z"
    }
   },
   "id": "6386d0bf33af73fc",
   "execution_count": 13
  },
  {
   "cell_type": "markdown",
   "source": [
    "now we get the generated code for each sdk"
   ],
   "metadata": {
    "collapsed": false
   },
   "id": "23835ebf514569a6"
  },
  {
   "cell_type": "code",
   "outputs": [
    {
     "data": {
      "text/plain": "             sdk_name                                             answer\n0  1-password_connect  from typing import TypedDict, List, Union, Lit...\n1              apaleo  import requests\\nfrom typing import Optional, ...\n2        adatree_data  from typing import TypedDict, List, Literal, O...\n3            bluesnap  from typing import TypedDict, List, Literal, U...\n4             foodkit  from typing import TypedDict, Literal, List\\n\\...",
      "text/html": "<div>\n<style scoped>\n    .dataframe tbody tr th:only-of-type {\n        vertical-align: middle;\n    }\n\n    .dataframe tbody tr th {\n        vertical-align: top;\n    }\n\n    .dataframe thead th {\n        text-align: right;\n    }\n</style>\n<table border=\"1\" class=\"dataframe\">\n  <thead>\n    <tr style=\"text-align: right;\">\n      <th></th>\n      <th>sdk_name</th>\n      <th>answer</th>\n    </tr>\n  </thead>\n  <tbody>\n    <tr>\n      <th>0</th>\n      <td>1-password_connect</td>\n      <td>from typing import TypedDict, List, Union, Lit...</td>\n    </tr>\n    <tr>\n      <th>1</th>\n      <td>apaleo</td>\n      <td>import requests\\nfrom typing import Optional, ...</td>\n    </tr>\n    <tr>\n      <th>2</th>\n      <td>adatree_data</td>\n      <td>from typing import TypedDict, List, Literal, O...</td>\n    </tr>\n    <tr>\n      <th>3</th>\n      <td>bluesnap</td>\n      <td>from typing import TypedDict, List, Literal, U...</td>\n    </tr>\n    <tr>\n      <th>4</th>\n      <td>foodkit</td>\n      <td>from typing import TypedDict, Literal, List\\n\\...</td>\n    </tr>\n  </tbody>\n</table>\n</div>"
     },
     "execution_count": 14,
     "metadata": {},
     "output_type": "execute_result"
    }
   ],
   "source": [
    "df_test_data.drop(columns=['sdk_code', 'types_code'], inplace=True)\n",
    "df_test_data.head()"
   ],
   "metadata": {
    "collapsed": false,
    "ExecuteTime": {
     "end_time": "2024-06-07T23:23:17.009861100Z",
     "start_time": "2024-06-07T23:23:16.710995200Z"
    }
   },
   "id": "ef2fbab8152a1e01",
   "execution_count": 14
  },
  {
   "cell_type": "code",
   "outputs": [],
   "source": [
    "user_rules = \"1. Use the requests library: All HTTP requests within the SDK must be made using the 'requests' library.\\n2. Class structure: The SDK must be a class, with each method representing an endpoint in the API. Choose method names that reflect the action or resource they interact with.\\n3. Authenticated requests: Implement a method '_make_authenticated_request' to handle authenticated requests.\\n4. JSON request body: Use JSON format for the body of all requests.\\n5. Return type: All methods must return the 'Response' object from the 'requests' library.\"\n",
    "\n",
    "def get_generated_code(sdk_name):\n",
    "    try:\n",
    "        sdk_name_path = GENERATED_SDK_DIR / sdk_name / f\"{sdk_name}.py\"\n",
    "        types_code_path = GENERATED_SDK_DIR / sdk_name / f\"types.py\"\n",
    "        sdk_code = sdk_name_path.read_text()\n",
    "        types_code = types_code_path.read_text() if types_code_path.exists() else \"\"\n",
    "        return merge_code(sdk_code, types_code)\n",
    "    except FileNotFoundError:\n",
    "        print(f\"Generating SDK for {sdk_name}\")\n",
    "        spec_path = None\n",
    "        for file in SPECIFICATIONS_DIR.iterdir():\n",
    "            if sdk_name in file.name:\n",
    "                spec_path = file\n",
    "                break\n",
    "        if spec_path is None:\n",
    "            raise Exception(f\"Specification file for {sdk_name} not found\")\n",
    "        try:\n",
    "            _, sdk_output_file, types_output_file = generate_sdk(spec_path, user_rules=user_rules)\n",
    "        except Exception as e:\n",
    "            print(f\"Error generating SDK for {sdk_name}: {e}\")\n",
    "            return None\n",
    "        if sdk_output_file is None:\n",
    "            return None\n",
    "        sdk_code = sdk_output_file.read_text()\n",
    "        types_code = types_output_file.read_text() if types_output_file else \"\"\n",
    "        \n",
    "        return merge_code(sdk_code, types_code)\n",
    "\n",
    "df_test_data['llm_answer'] = df_test_data['sdk_name'].apply(get_generated_code)"
   ],
   "metadata": {
    "collapsed": false,
    "ExecuteTime": {
     "end_time": "2024-06-07T23:23:17.042546700Z",
     "start_time": "2024-06-07T23:23:16.727283500Z"
    }
   },
   "id": "cf6457ed2884b2a3",
   "execution_count": 15
  },
  {
   "cell_type": "code",
   "outputs": [
    {
     "data": {
      "text/plain": "             sdk_name                                             answer  \\\n0  1-password_connect  from typing import TypedDict, List, Union, Lit...   \n1              apaleo  import requests\\nfrom typing import Optional, ...   \n2        adatree_data  from typing import TypedDict, List, Literal, O...   \n3            bluesnap  from typing import TypedDict, List, Literal, U...   \n4             foodkit  from typing import TypedDict, Literal, List\\n\\...   \n\n                                          llm_answer  \n0  from typing import TypedDict, List, Union, Opt...  \n1  from typing import List, TypedDict, Literal, D...  \n2  from typing import TypedDict, List, Literal\\n\\...  \n3  from typing import TypedDict, List, Literal, U...  \n4  from typing import TypedDict, Literal, List\\n\\...  ",
      "text/html": "<div>\n<style scoped>\n    .dataframe tbody tr th:only-of-type {\n        vertical-align: middle;\n    }\n\n    .dataframe tbody tr th {\n        vertical-align: top;\n    }\n\n    .dataframe thead th {\n        text-align: right;\n    }\n</style>\n<table border=\"1\" class=\"dataframe\">\n  <thead>\n    <tr style=\"text-align: right;\">\n      <th></th>\n      <th>sdk_name</th>\n      <th>answer</th>\n      <th>llm_answer</th>\n    </tr>\n  </thead>\n  <tbody>\n    <tr>\n      <th>0</th>\n      <td>1-password_connect</td>\n      <td>from typing import TypedDict, List, Union, Lit...</td>\n      <td>from typing import TypedDict, List, Union, Opt...</td>\n    </tr>\n    <tr>\n      <th>1</th>\n      <td>apaleo</td>\n      <td>import requests\\nfrom typing import Optional, ...</td>\n      <td>from typing import List, TypedDict, Literal, D...</td>\n    </tr>\n    <tr>\n      <th>2</th>\n      <td>adatree_data</td>\n      <td>from typing import TypedDict, List, Literal, O...</td>\n      <td>from typing import TypedDict, List, Literal\\n\\...</td>\n    </tr>\n    <tr>\n      <th>3</th>\n      <td>bluesnap</td>\n      <td>from typing import TypedDict, List, Literal, U...</td>\n      <td>from typing import TypedDict, List, Literal, U...</td>\n    </tr>\n    <tr>\n      <th>4</th>\n      <td>foodkit</td>\n      <td>from typing import TypedDict, Literal, List\\n\\...</td>\n      <td>from typing import TypedDict, Literal, List\\n\\...</td>\n    </tr>\n  </tbody>\n</table>\n</div>"
     },
     "execution_count": 16,
     "metadata": {},
     "output_type": "execute_result"
    }
   ],
   "source": [
    "df_test_data.head()"
   ],
   "metadata": {
    "collapsed": false,
    "ExecuteTime": {
     "end_time": "2024-06-07T23:23:17.048810700Z",
     "start_time": "2024-06-07T23:23:16.749630300Z"
    }
   },
   "id": "8e2bb41f05c003b",
   "execution_count": 16
  },
  {
   "cell_type": "markdown",
   "source": [
    "# Evaluation"
   ],
   "metadata": {
    "collapsed": false
   },
   "id": "287c3c8a07329119"
  },
  {
   "cell_type": "code",
   "outputs": [],
   "source": [
    "from nltk.translate.bleu_score import corpus_bleu\n",
    "from rouge_score import rouge_scorer\n",
    "from codebleu import calc_codebleu\n",
    "from sdkgenerator.types import Language\n",
    "from sdkgenerator.config import AGENT"
   ],
   "metadata": {
    "collapsed": false,
    "ExecuteTime": {
     "end_time": "2024-06-08T00:07:42.019013300Z",
     "start_time": "2024-06-08T00:07:42.007953100Z"
    }
   },
   "id": "d924a95e085e1713",
   "execution_count": 57
  },
  {
   "cell_type": "markdown",
   "source": [
    "## BLEU Score"
   ],
   "metadata": {
    "collapsed": false
   },
   "id": "3863e6c73155fc7f"
  },
  {
   "cell_type": "code",
   "outputs": [],
   "source": [
    "def calculate_bleu_score(machine_results, reference_texts):\n",
    "    return corpus_bleu([[ref.split()] for ref in reference_texts], [gen.split() for gen in machine_results])"
   ],
   "metadata": {
    "collapsed": false,
    "ExecuteTime": {
     "end_time": "2024-06-08T00:07:42.699898800Z",
     "start_time": "2024-06-08T00:07:42.687600Z"
    }
   },
   "id": "138492168b20ba8b",
   "execution_count": 58
  },
  {
   "cell_type": "code",
   "outputs": [
    {
     "data": {
      "text/plain": "0.6635992832130831"
     },
     "execution_count": 59,
     "metadata": {},
     "output_type": "execute_result"
    }
   ],
   "source": [
    "bleu_score = calculate_bleu_score(df_test_data['llm_answer'], df_test_data['answer'])\n",
    "bleu_score"
   ],
   "metadata": {
    "collapsed": false,
    "ExecuteTime": {
     "end_time": "2024-06-08T00:07:43.174074400Z",
     "start_time": "2024-06-08T00:07:43.161838800Z"
    }
   },
   "id": "1a473308fcb5db5b",
   "execution_count": 59
  },
  {
   "cell_type": "markdown",
   "source": [
    "## ROUGE Score"
   ],
   "metadata": {
    "collapsed": false
   },
   "id": "dddcc317e444950e"
  },
  {
   "cell_type": "code",
   "outputs": [],
   "source": [
    "def calculate_rouge_score(machine_results, reference_texts):\n",
    "    scorer = rouge_scorer.RougeScorer(['rouge1', 'rouge2', 'rougeL'], use_stemmer=True)\n",
    "    scores = [scorer.score(ref, gen) for ref, gen in zip(reference_texts, machine_results)]\n",
    "    rouge1 = sum(score['rouge1'].fmeasure for score in scores) / len(scores)\n",
    "    rouge2 = sum(score['rouge2'].fmeasure for score in scores) / len(scores)\n",
    "    rougeL = sum(score['rougeL'].fmeasure for score in scores) / len(scores)\n",
    "    return {'rouge1': rouge1, 'rouge2': rouge2, 'rougeL': rougeL}"
   ],
   "metadata": {
    "collapsed": false,
    "ExecuteTime": {
     "end_time": "2024-06-08T00:07:43.864008400Z",
     "start_time": "2024-06-08T00:07:43.839932500Z"
    }
   },
   "id": "5653f99e21db46e6",
   "execution_count": 60
  },
  {
   "cell_type": "code",
   "outputs": [
    {
     "data": {
      "text/plain": "{'rouge1': 0.9136068363494741,\n 'rouge2': 0.8757805708282291,\n 'rougeL': 0.8912410022746833}"
     },
     "execution_count": 61,
     "metadata": {},
     "output_type": "execute_result"
    }
   ],
   "source": [
    "rouge_score = calculate_rouge_score(df_test_data['llm_answer'], df_test_data['answer'])\n",
    "rouge_score"
   ],
   "metadata": {
    "collapsed": false,
    "ExecuteTime": {
     "end_time": "2024-06-08T00:07:47.343444100Z",
     "start_time": "2024-06-08T00:07:44.438846Z"
    }
   },
   "id": "d76f9fef4515a6a5",
   "execution_count": 61
  },
  {
   "cell_type": "markdown",
   "source": [
    "## BERT Score"
   ],
   "metadata": {
    "collapsed": false
   },
   "id": "63087238087db567"
  },
  {
   "cell_type": "code",
   "outputs": [],
   "source": [
    "def calculate_bert_score(machine_results, reference_texts):\n",
    "    pass"
   ],
   "metadata": {
    "collapsed": false,
    "ExecuteTime": {
     "end_time": "2024-06-08T00:07:47.345956Z",
     "start_time": "2024-06-08T00:07:47.342008200Z"
    }
   },
   "id": "23a601db9b700276",
   "execution_count": 62
  },
  {
   "cell_type": "code",
   "outputs": [],
   "source": [
    "def calculate_code_bleu(machine_results, reference_texts, lang:Language):\n",
    "    return calc_codebleu(reference_texts, machine_results, lang=lang)"
   ],
   "metadata": {
    "collapsed": false,
    "ExecuteTime": {
     "end_time": "2024-06-08T00:07:47.347960100Z",
     "start_time": "2024-06-08T00:07:47.342008200Z"
    }
   },
   "id": "2c7f6d4a414c48af",
   "execution_count": 63
  },
  {
   "cell_type": "code",
   "outputs": [
    {
     "data": {
      "text/plain": "{'codebleu': 0.8064848664586155,\n 'ngram_match_score': 0.6635992832130831,\n 'weighted_ngram_match_score': 0.7451228049346935,\n 'syntax_match_score': 0.9556060032791021,\n 'dataflow_match_score': 0.861611374407583}"
     },
     "execution_count": 64,
     "metadata": {},
     "output_type": "execute_result"
    }
   ],
   "source": [
    "code_bleu_score = calculate_code_bleu(df_test_data['llm_answer'], df_test_data['answer'], 'python')\n",
    "code_bleu_score"
   ],
   "metadata": {
    "collapsed": false,
    "ExecuteTime": {
     "end_time": "2024-06-08T00:07:48.077908200Z",
     "start_time": "2024-06-08T00:07:47.342008200Z"
    }
   },
   "id": "d5171f72812ef0f4",
   "execution_count": 64
  },
  {
   "cell_type": "code",
   "outputs": [
    {
     "data": {
      "text/plain": "                                             bleu    rouge1    rouge2  \\\nft:gpt-3.5-turbo-0125:eden-ai::9UxoYDO3  0.663599  0.913607  0.875781   \n\n                                           rougeL  codebleu  \\\nft:gpt-3.5-turbo-0125:eden-ai::9UxoYDO3  0.891241  0.806485   \n\n                                         ngram_match_score  \\\nft:gpt-3.5-turbo-0125:eden-ai::9UxoYDO3           0.663599   \n\n                                         weighted_ngram_match_score  \\\nft:gpt-3.5-turbo-0125:eden-ai::9UxoYDO3                    0.745123   \n\n                                         syntax_match_score  \\\nft:gpt-3.5-turbo-0125:eden-ai::9UxoYDO3            0.955606   \n\n                                         dataflow_match_score  \nft:gpt-3.5-turbo-0125:eden-ai::9UxoYDO3              0.861611  ",
      "text/html": "<div>\n<style scoped>\n    .dataframe tbody tr th:only-of-type {\n        vertical-align: middle;\n    }\n\n    .dataframe tbody tr th {\n        vertical-align: top;\n    }\n\n    .dataframe thead th {\n        text-align: right;\n    }\n</style>\n<table border=\"1\" class=\"dataframe\">\n  <thead>\n    <tr style=\"text-align: right;\">\n      <th></th>\n      <th>bleu</th>\n      <th>rouge1</th>\n      <th>rouge2</th>\n      <th>rougeL</th>\n      <th>codebleu</th>\n      <th>ngram_match_score</th>\n      <th>weighted_ngram_match_score</th>\n      <th>syntax_match_score</th>\n      <th>dataflow_match_score</th>\n    </tr>\n  </thead>\n  <tbody>\n    <tr>\n      <th>ft:gpt-3.5-turbo-0125:eden-ai::9UxoYDO3</th>\n      <td>0.663599</td>\n      <td>0.913607</td>\n      <td>0.875781</td>\n      <td>0.891241</td>\n      <td>0.806485</td>\n      <td>0.663599</td>\n      <td>0.745123</td>\n      <td>0.955606</td>\n      <td>0.861611</td>\n    </tr>\n  </tbody>\n</table>\n</div>"
     },
     "execution_count": 65,
     "metadata": {},
     "output_type": "execute_result"
    }
   ],
   "source": [
    "all_scores = {'bleu': bleu_score, **rouge_score, **code_bleu_score}\n",
    "evaluation = pd.DataFrame(all_scores, index=[AGENT['final_code']['model']])\n",
    "evaluation"
   ],
   "metadata": {
    "collapsed": false,
    "ExecuteTime": {
     "end_time": "2024-06-08T00:07:49.021768200Z",
     "start_time": "2024-06-08T00:07:49.011134700Z"
    }
   },
   "id": "79818825dcf7a472",
   "execution_count": 65
  },
  {
   "cell_type": "markdown",
   "source": [
    "# Save evaluation"
   ],
   "metadata": {
    "collapsed": false
   },
   "id": "fda3f14a72de1d0c"
  },
  {
   "cell_type": "code",
   "outputs": [],
   "source": [
    "evaluation.to_csv(TEST_DATA_DIR / 'evaluation.csv', index=False)"
   ],
   "metadata": {
    "collapsed": false,
    "ExecuteTime": {
     "end_time": "2024-06-08T00:07:56.948984700Z",
     "start_time": "2024-06-08T00:07:56.940865Z"
    }
   },
   "id": "ea8c30bd689fa198",
   "execution_count": 66
  }
 ],
 "metadata": {
  "kernelspec": {
   "display_name": "Python 3",
   "language": "python",
   "name": "python3"
  },
  "language_info": {
   "codemirror_mode": {
    "name": "ipython",
    "version": 2
   },
   "file_extension": ".py",
   "mimetype": "text/x-python",
   "name": "python",
   "nbconvert_exporter": "python",
   "pygments_lexer": "ipython2",
   "version": "2.7.6"
  }
 },
 "nbformat": 4,
 "nbformat_minor": 5
}
